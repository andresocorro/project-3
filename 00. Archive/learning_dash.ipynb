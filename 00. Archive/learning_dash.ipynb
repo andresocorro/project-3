{
 "cells": [
  {
   "cell_type": "code",
   "execution_count": 2,
   "metadata": {},
   "outputs": [],
   "source": [
    "import pandas as pd\n",
    "from bs4 import BeautifulSoup\n",
    "import requests\n",
    "from datetime import date\n"
   ]
  },
  {
   "cell_type": "code",
   "execution_count": 5,
   "metadata": {},
   "outputs": [],
   "source": [
    "def get_financial_report(ticker):\n",
    "    # try:\n",
    "    urlfinancials = 'https://www.marketwatch.com/investing/stock/'+ticker+'/financials'\n",
    "    urlbalancesheet = 'https://www.marketwatch.com/investing/stock/'+ticker+'/financials/balance-sheet'\n",
    "\n",
    "    text_soup_financials = BeautifulSoup(requests.get(urlfinancials).text,\"html\") #read in\n",
    "    text_soup_balancesheet = BeautifulSoup(requests.get(urlbalancesheet).text,\"html\") #read in\n",
    "    "
   ]
  },
  {
   "cell_type": "code",
   "execution_count": 6,
   "metadata": {},
   "outputs": [
    {
     "ename": "IndentationError",
     "evalue": "unexpected indent (<ipython-input-6-10f717e2e4dc>, line 2)",
     "output_type": "error",
     "traceback": [
      "\u001b[1;36m  File \u001b[1;32m\"<ipython-input-6-10f717e2e4dc>\"\u001b[1;36m, line \u001b[1;32m2\u001b[0m\n\u001b[1;33m    titlesfinancials = text_soup_financials.findAll('td', {'class': 'rowTitle'})\u001b[0m\n\u001b[1;37m    ^\u001b[0m\n\u001b[1;31mIndentationError\u001b[0m\u001b[1;31m:\u001b[0m unexpected indent\n"
     ]
    }
   ],
   "source": [
    " # build lists for Income statement\n",
    "    titlesfinancials = text_soup_financials.findAll('td', {'class': 'rowTitle'})\n",
    "    epslist=[]\n",
    "    netincomelist = []\n",
    "    longtermdebtlist = [] \n",
    "    interestexpenselist = []\n",
    "    ebitdalist= []\n",
    "\n",
    "    for title in titlesfinancials:\n",
    "        if 'EPS (Basic)' in title.text:\n",
    "            epslist.append ([td.text for td in title.findNextSiblings(attrs={'class': 'valueCell'}) if td.text])\n",
    "        if 'Net Income' in title.text:\n",
    "            netincomelist.append ([td.text for td in title.findNextSiblings(attrs={'class': 'valueCell'}) if td.text])\n",
    "        if 'Interest Expense' in title.text:\n",
    "            interestexpenselist.append ([td.text for td in title.findNextSiblings(attrs={'class': 'valueCell'}) if td.text])\n",
    "        if 'EBITDA' in title.text:\n",
    "            ebitdalist.append ([td.text for td in title.findNextSiblings(attrs={'class': 'valueCell'}) if td.text])\n",
    "\n",
    "cd\n",
    "cd\n",
    "    # find the table headers for the Balance sheet\n",
    "    titlesbalancesheet = text_soup_balancesheet.findAll('td', {'class': 'rowTitle'})\n",
    "    equitylist=[]\n",
    "    for title in titlesbalancesheet:\n",
    "        if 'Total Shareholders\\' Equity' in title.text:\n",
    "            equitylist.append( [td.text for td in title.findNextSiblings(attrs={'class': 'valueCell'}) if td.text])\n",
    "        if 'Long-Term Debt' in title.text:\n",
    "            longtermdebtlist.append( [td.text for td in title.findNextSiblings(attrs={'class': 'valueCell'}) if td.text])\n",
    "\n",
    "    #get the data from the income statement lists \n",
    "    #use helper function get_element\n",
    "    eps = get_element(epslist,0)\n",
    "    epsGrowth = get_element(epslist,1)\n",
    "    netIncome = get_element(netincomelist,0)\n",
    "    shareholderEquity = get_element(equitylist,0)\n",
    "    roa = get_element(equitylist,1)\n",
    "\n",
    "    longtermDebt = get_element(longtermdebtlist,0)\n",
    "    interestExpense =  get_element(interestexpenselist,0)\n",
    "    ebitda = get_element(ebitdalist,0)\n",
    "\n",
    "    # load all the data into dataframe \n",
    "    fin_df= pd.DataFrame({'eps': eps,'eps Growth': epsGrowth,'net Income': netIncome,'shareholder Equity': shareholderEquity,'roa': \n",
    "                  roa,'longterm Debt': longtermDebt,'interest Expense': interestExpense,'ebitda': ebitda},index=range(date.today().year-5,date.today().year))\n",
    "    \n",
    "    fin_df.reset_index(inplace=True)\n",
    "    \n",
    "    return fin_df\n",
    "\n",
    "\n",
    "\n",
    "def get_element(list,element):\n",
    "    try:\n",
    "        return list[element]\n",
    "    except:\n",
    "        return '-'\n"
   ]
  }
 ],
 "metadata": {
  "kernelspec": {
   "display_name": "Python 3",
   "language": "python",
   "name": "python3"
  },
  "language_info": {
   "codemirror_mode": {
    "name": "ipython",
    "version": 3
   },
   "file_extension": ".py",
   "mimetype": "text/x-python",
   "name": "python",
   "nbconvert_exporter": "python",
   "pygments_lexer": "ipython3",
   "version": "3.8.3"
  }
 },
 "nbformat": 4,
 "nbformat_minor": 4
}
