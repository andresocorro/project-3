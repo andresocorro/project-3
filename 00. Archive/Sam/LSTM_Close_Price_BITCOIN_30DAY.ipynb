{
 "cells": [
  {
   "cell_type": "code",
   "execution_count": 1,
   "metadata": {},
   "outputs": [],
   "source": [
    "import math\n",
    "import yfinance as yf\n",
    "import numpy as np\n",
    "import pandas as pd\n",
    "from sklearn.preprocessing import MinMaxScaler\n",
    "from keras.models import Sequential\n",
    "from keras.layers import Dense, LSTM\n",
    "import matplotlib.pyplot as plt\n",
    "plt.style.use('fivethirtyeight')"
   ]
  },
  {
   "cell_type": "code",
   "execution_count": 2,
   "metadata": {},
   "outputs": [],
   "source": [
    "df = yf.Ticker('BTC-USD').history(period='Max')"
   ]
  },
  {
   "cell_type": "code",
   "execution_count": 3,
   "metadata": {},
   "outputs": [
    {
     "data": {
      "text/html": [
       "<div>\n",
       "<style scoped>\n",
       "    .dataframe tbody tr th:only-of-type {\n",
       "        vertical-align: middle;\n",
       "    }\n",
       "\n",
       "    .dataframe tbody tr th {\n",
       "        vertical-align: top;\n",
       "    }\n",
       "\n",
       "    .dataframe thead th {\n",
       "        text-align: right;\n",
       "    }\n",
       "</style>\n",
       "<table border=\"1\" class=\"dataframe\">\n",
       "  <thead>\n",
       "    <tr style=\"text-align: right;\">\n",
       "      <th></th>\n",
       "      <th>Open</th>\n",
       "      <th>High</th>\n",
       "      <th>Low</th>\n",
       "      <th>Close</th>\n",
       "      <th>Volume</th>\n",
       "      <th>Dividends</th>\n",
       "      <th>Stock Splits</th>\n",
       "    </tr>\n",
       "    <tr>\n",
       "      <th>Date</th>\n",
       "      <th></th>\n",
       "      <th></th>\n",
       "      <th></th>\n",
       "      <th></th>\n",
       "      <th></th>\n",
       "      <th></th>\n",
       "      <th></th>\n",
       "    </tr>\n",
       "  </thead>\n",
       "  <tbody>\n",
       "    <tr>\n",
       "      <th>2014-09-17</th>\n",
       "      <td>465.864014</td>\n",
       "      <td>468.174011</td>\n",
       "      <td>452.421997</td>\n",
       "      <td>457.334015</td>\n",
       "      <td>21056800</td>\n",
       "      <td>0</td>\n",
       "      <td>0</td>\n",
       "    </tr>\n",
       "    <tr>\n",
       "      <th>2014-09-18</th>\n",
       "      <td>456.859985</td>\n",
       "      <td>456.859985</td>\n",
       "      <td>413.104004</td>\n",
       "      <td>424.440002</td>\n",
       "      <td>34483200</td>\n",
       "      <td>0</td>\n",
       "      <td>0</td>\n",
       "    </tr>\n",
       "    <tr>\n",
       "      <th>2014-09-19</th>\n",
       "      <td>424.102997</td>\n",
       "      <td>427.834991</td>\n",
       "      <td>384.532013</td>\n",
       "      <td>394.795990</td>\n",
       "      <td>37919700</td>\n",
       "      <td>0</td>\n",
       "      <td>0</td>\n",
       "    </tr>\n",
       "    <tr>\n",
       "      <th>2014-09-20</th>\n",
       "      <td>394.673004</td>\n",
       "      <td>423.295990</td>\n",
       "      <td>389.882996</td>\n",
       "      <td>408.903992</td>\n",
       "      <td>36863600</td>\n",
       "      <td>0</td>\n",
       "      <td>0</td>\n",
       "    </tr>\n",
       "    <tr>\n",
       "      <th>2014-09-21</th>\n",
       "      <td>408.084991</td>\n",
       "      <td>412.425995</td>\n",
       "      <td>393.181000</td>\n",
       "      <td>398.821014</td>\n",
       "      <td>26580100</td>\n",
       "      <td>0</td>\n",
       "      <td>0</td>\n",
       "    </tr>\n",
       "    <tr>\n",
       "      <th>...</th>\n",
       "      <td>...</td>\n",
       "      <td>...</td>\n",
       "      <td>...</td>\n",
       "      <td>...</td>\n",
       "      <td>...</td>\n",
       "      <td>...</td>\n",
       "      <td>...</td>\n",
       "    </tr>\n",
       "    <tr>\n",
       "      <th>2021-01-15</th>\n",
       "      <td>39156.707031</td>\n",
       "      <td>39577.710938</td>\n",
       "      <td>34659.589844</td>\n",
       "      <td>36825.367188</td>\n",
       "      <td>67760757880</td>\n",
       "      <td>0</td>\n",
       "      <td>0</td>\n",
       "    </tr>\n",
       "    <tr>\n",
       "      <th>2021-01-16</th>\n",
       "      <td>36821.648438</td>\n",
       "      <td>37864.367188</td>\n",
       "      <td>35633.554688</td>\n",
       "      <td>36178.140625</td>\n",
       "      <td>57706187875</td>\n",
       "      <td>0</td>\n",
       "      <td>0</td>\n",
       "    </tr>\n",
       "    <tr>\n",
       "      <th>2021-01-17</th>\n",
       "      <td>36163.648438</td>\n",
       "      <td>36722.351562</td>\n",
       "      <td>34069.320312</td>\n",
       "      <td>35791.277344</td>\n",
       "      <td>52359854336</td>\n",
       "      <td>0</td>\n",
       "      <td>0</td>\n",
       "    </tr>\n",
       "    <tr>\n",
       "      <th>2021-01-18</th>\n",
       "      <td>35792.238281</td>\n",
       "      <td>37299.285156</td>\n",
       "      <td>34883.843750</td>\n",
       "      <td>36630.074219</td>\n",
       "      <td>49511702429</td>\n",
       "      <td>0</td>\n",
       "      <td>0</td>\n",
       "    </tr>\n",
       "    <tr>\n",
       "      <th>2021-01-19</th>\n",
       "      <td>36564.941406</td>\n",
       "      <td>37195.429688</td>\n",
       "      <td>36441.019531</td>\n",
       "      <td>36646.433594</td>\n",
       "      <td>53134364672</td>\n",
       "      <td>0</td>\n",
       "      <td>0</td>\n",
       "    </tr>\n",
       "  </tbody>\n",
       "</table>\n",
       "<p>2317 rows × 7 columns</p>\n",
       "</div>"
      ],
      "text/plain": [
       "                    Open          High           Low         Close  \\\n",
       "Date                                                                 \n",
       "2014-09-17    465.864014    468.174011    452.421997    457.334015   \n",
       "2014-09-18    456.859985    456.859985    413.104004    424.440002   \n",
       "2014-09-19    424.102997    427.834991    384.532013    394.795990   \n",
       "2014-09-20    394.673004    423.295990    389.882996    408.903992   \n",
       "2014-09-21    408.084991    412.425995    393.181000    398.821014   \n",
       "...                  ...           ...           ...           ...   \n",
       "2021-01-15  39156.707031  39577.710938  34659.589844  36825.367188   \n",
       "2021-01-16  36821.648438  37864.367188  35633.554688  36178.140625   \n",
       "2021-01-17  36163.648438  36722.351562  34069.320312  35791.277344   \n",
       "2021-01-18  35792.238281  37299.285156  34883.843750  36630.074219   \n",
       "2021-01-19  36564.941406  37195.429688  36441.019531  36646.433594   \n",
       "\n",
       "                 Volume  Dividends  Stock Splits  \n",
       "Date                                              \n",
       "2014-09-17     21056800          0             0  \n",
       "2014-09-18     34483200          0             0  \n",
       "2014-09-19     37919700          0             0  \n",
       "2014-09-20     36863600          0             0  \n",
       "2014-09-21     26580100          0             0  \n",
       "...                 ...        ...           ...  \n",
       "2021-01-15  67760757880          0             0  \n",
       "2021-01-16  57706187875          0             0  \n",
       "2021-01-17  52359854336          0             0  \n",
       "2021-01-18  49511702429          0             0  \n",
       "2021-01-19  53134364672          0             0  \n",
       "\n",
       "[2317 rows x 7 columns]"
      ]
     },
     "execution_count": 3,
     "metadata": {},
     "output_type": "execute_result"
    }
   ],
   "source": [
    "df"
   ]
  },
  {
   "cell_type": "code",
   "execution_count": 4,
   "metadata": {},
   "outputs": [
    {
     "data": {
      "text/html": [
       "<div>\n",
       "<style scoped>\n",
       "    .dataframe tbody tr th:only-of-type {\n",
       "        vertical-align: middle;\n",
       "    }\n",
       "\n",
       "    .dataframe tbody tr th {\n",
       "        vertical-align: top;\n",
       "    }\n",
       "\n",
       "    .dataframe thead th {\n",
       "        text-align: right;\n",
       "    }\n",
       "</style>\n",
       "<table border=\"1\" class=\"dataframe\">\n",
       "  <thead>\n",
       "    <tr style=\"text-align: right;\">\n",
       "      <th></th>\n",
       "      <th>Close</th>\n",
       "    </tr>\n",
       "    <tr>\n",
       "      <th>Date</th>\n",
       "      <th></th>\n",
       "    </tr>\n",
       "  </thead>\n",
       "  <tbody>\n",
       "    <tr>\n",
       "      <th>2014-09-17</th>\n",
       "      <td>457.334015</td>\n",
       "    </tr>\n",
       "    <tr>\n",
       "      <th>2014-09-18</th>\n",
       "      <td>424.440002</td>\n",
       "    </tr>\n",
       "    <tr>\n",
       "      <th>2014-09-19</th>\n",
       "      <td>394.795990</td>\n",
       "    </tr>\n",
       "    <tr>\n",
       "      <th>2014-09-20</th>\n",
       "      <td>408.903992</td>\n",
       "    </tr>\n",
       "    <tr>\n",
       "      <th>2014-09-21</th>\n",
       "      <td>398.821014</td>\n",
       "    </tr>\n",
       "    <tr>\n",
       "      <th>...</th>\n",
       "      <td>...</td>\n",
       "    </tr>\n",
       "    <tr>\n",
       "      <th>2021-01-15</th>\n",
       "      <td>36825.367188</td>\n",
       "    </tr>\n",
       "    <tr>\n",
       "      <th>2021-01-16</th>\n",
       "      <td>36178.140625</td>\n",
       "    </tr>\n",
       "    <tr>\n",
       "      <th>2021-01-17</th>\n",
       "      <td>35791.277344</td>\n",
       "    </tr>\n",
       "    <tr>\n",
       "      <th>2021-01-18</th>\n",
       "      <td>36630.074219</td>\n",
       "    </tr>\n",
       "    <tr>\n",
       "      <th>2021-01-19</th>\n",
       "      <td>36646.433594</td>\n",
       "    </tr>\n",
       "  </tbody>\n",
       "</table>\n",
       "<p>2317 rows × 1 columns</p>\n",
       "</div>"
      ],
      "text/plain": [
       "                   Close\n",
       "Date                    \n",
       "2014-09-17    457.334015\n",
       "2014-09-18    424.440002\n",
       "2014-09-19    394.795990\n",
       "2014-09-20    408.903992\n",
       "2014-09-21    398.821014\n",
       "...                  ...\n",
       "2021-01-15  36825.367188\n",
       "2021-01-16  36178.140625\n",
       "2021-01-17  35791.277344\n",
       "2021-01-18  36630.074219\n",
       "2021-01-19  36646.433594\n",
       "\n",
       "[2317 rows x 1 columns]"
      ]
     },
     "execution_count": 4,
     "metadata": {},
     "output_type": "execute_result"
    }
   ],
   "source": [
    "data = df.filter(['Close'])\n",
    "data"
   ]
  },
  {
   "cell_type": "code",
   "execution_count": 5,
   "metadata": {},
   "outputs": [
    {
     "data": {
      "image/png": "[encoded data removed]",
      "text/plain": [
       "<Figure size 1152x576 with 1 Axes>"
      ]
     },
     "metadata": {},
     "output_type": "display_data"
    }
   ],
   "source": [
    "# Visualize closing price history\n",
    "plt.figure(figsize=(16,8))\n",
    "plt.title('Close Price History')\n",
    "plt.plot(data['Close'])\n",
    "plt.xlabel('Date', fontsize=18)\n",
    "plt.ylabel('Close Price USD ($)', fontsize=18)\n",
    "plt.show()"
   ]
  },
  {
   "cell_type": "code",
   "execution_count": 6,
   "metadata": {},
   "outputs": [],
   "source": [
    "scaler=MinMaxScaler(feature_range=(0,1))\n",
    "# Convert dataframe to numpy array\n",
    "dataset = data.values"
   ]
  },
  {
   "cell_type": "code",
   "execution_count": 7,
   "metadata": {},
   "outputs": [
    {
     "data": {
      "text/plain": [
       "array([[  457.33401489],\n",
       "       [  424.44000244],\n",
       "       [  394.79598999],\n",
       "       ...,\n",
       "       [35791.27734375],\n",
       "       [36630.07421875],\n",
       "       [36646.43359375]])"
      ]
     },
     "execution_count": 7,
     "metadata": {},
     "output_type": "execute_result"
    }
   ],
   "source": [
    "dataset"
   ]
  },
  {
   "cell_type": "code",
   "execution_count": 8,
   "metadata": {},
   "outputs": [],
   "source": [
    "df1=scaler.fit_transform(np.array(dataset).reshape(-1,1))"
   ]
  },
  {
   "cell_type": "code",
   "execution_count": 9,
   "metadata": {},
   "outputs": [
    {
     "name": "stdout",
     "output_type": "stream",
     "text": [
      "[[0.00687431]\n",
      " [0.0060645 ]\n",
      " [0.0053347 ]\n",
      " ...\n",
      " [0.87675054]\n",
      " [0.89740064]\n",
      " [0.89780339]]\n"
     ]
    }
   ],
   "source": [
    "print(df1)"
   ]
  },
  {
   "cell_type": "code",
   "execution_count": null,
   "metadata": {},
   "outputs": [],
   "source": []
  },
  {
   "cell_type": "code",
   "execution_count": 11,
   "metadata": {},
   "outputs": [],
   "source": [
    "training_size=int(len(df1)*0.8)\n",
    "test_size=len(df1)-training_size\n",
    "train_data, test_data = df1[0:training_size,:], df1[training_size:len(df1),:1]"
   ]
  },
  {
   "cell_type": "code",
   "execution_count": 12,
   "metadata": {},
   "outputs": [
    {
     "data": {
      "text/plain": [
       "(1853, 464)"
      ]
     },
     "execution_count": 12,
     "metadata": {},
     "output_type": "execute_result"
    }
   ],
   "source": [
    "training_size, test_size"
   ]
  },
  {
   "cell_type": "code",
   "execution_count": 13,
   "metadata": {},
   "outputs": [
    {
     "data": {
      "text/plain": [
       "(1853, 464)"
      ]
     },
     "execution_count": 13,
     "metadata": {},
     "output_type": "execute_result"
    }
   ],
   "source": [
    "len(train_data), len(test_data)"
   ]
  },
  {
   "cell_type": "code",
   "execution_count": 14,
   "metadata": {},
   "outputs": [
    {
     "data": {
      "text/plain": [
       "array([[0.00687431],\n",
       "       [0.0060645 ],\n",
       "       [0.0053347 ],\n",
       "       ...,\n",
       "       [0.20048628],\n",
       "       [0.20085061],\n",
       "       [0.20046779]])"
      ]
     },
     "execution_count": 14,
     "metadata": {},
     "output_type": "execute_result"
    }
   ],
   "source": [
    "train_data"
   ]
  },
  {
   "cell_type": "code",
   "execution_count": 15,
   "metadata": {},
   "outputs": [],
   "source": [
    "def create_dataset(dataset, time_step=1):\n",
    "    dataX, dataY = [], []\n",
    "    for i in range(len(dataset)-time_step-1):\n",
    "        a = dataset[i:(i+time_step), 0]\n",
    "        dataX.append(a)\n",
    "        dataY.append(dataset[i + time_step, 0])\n",
    "    return np.array(dataX), np.array(dataY)"
   ]
  },
  {
   "cell_type": "code",
   "execution_count": 16,
   "metadata": {},
   "outputs": [],
   "source": [
    "time_step = 100\n",
    "X_train, y_train = create_dataset(train_data, time_step)\n",
    "X_test, ytest = create_dataset(test_data, time_step)"
   ]
  },
  {
   "cell_type": "code",
   "execution_count": 17,
   "metadata": {},
   "outputs": [
    {
     "name": "stdout",
     "output_type": "stream",
     "text": [
      "[[0.00687431 0.0060645  0.0053347  ... 0.00385207 0.00355571 0.0034689 ]\n",
      " [0.0060645  0.0053347  0.00568202 ... 0.00355571 0.0034689  0.0036884 ]\n",
      " [0.0053347  0.00568202 0.00543379 ... 0.0034689  0.0036884  0.00339147]\n",
      " ...\n",
      " [0.26153875 0.2900864  0.27172498 ... 0.19861197 0.19819739 0.2072314 ]\n",
      " [0.2900864  0.27172498 0.2658909  ... 0.19819739 0.2072314  0.20700327]\n",
      " [0.27172498 0.2658909  0.27155544 ... 0.2072314  0.20700327 0.20048628]]\n"
     ]
    }
   ],
   "source": [
    "print(X_train)"
   ]
  },
  {
   "cell_type": "code",
   "execution_count": 18,
   "metadata": {},
   "outputs": [
    {
     "name": "stdout",
     "output_type": "stream",
     "text": [
      "(1752, 100)\n",
      "(1752,)\n"
     ]
    },
    {
     "data": {
      "text/plain": [
       "(None, None)"
      ]
     },
     "execution_count": 18,
     "metadata": {},
     "output_type": "execute_result"
    }
   ],
   "source": [
    "print(X_train.shape), print(y_train.shape)"
   ]
  },
  {
   "cell_type": "code",
   "execution_count": 19,
   "metadata": {},
   "outputs": [
    {
     "name": "stdout",
     "output_type": "stream",
     "text": [
      "(363, 100)\n",
      "(363,)\n"
     ]
    },
    {
     "data": {
      "text/plain": [
       "(None, None)"
      ]
     },
     "execution_count": 19,
     "metadata": {},
     "output_type": "execute_result"
    }
   ],
   "source": [
    "print(X_test.shape), print(ytest.shape)"
   ]
  },
  {
   "cell_type": "code",
   "execution_count": 20,
   "metadata": {},
   "outputs": [],
   "source": [
    "X_train = X_train.reshape(X_train.shape[0], X_train.shape[1], 1)\n",
    "X_test = X_test.reshape(X_test.shape[0], X_test.shape[1], 1)"
   ]
  },
  {
   "cell_type": "code",
   "execution_count": 22,
   "metadata": {},
   "outputs": [],
   "source": [
    "# Build the LSTM model\n",
    "model = Sequential()\n",
    "model.add(LSTM(50, return_sequences=True, input_shape= (100, 1)))\n",
    "model.add(LSTM(50, return_sequences=False))\n",
    "model.add(Dense(25))\n",
    "model.add(Dense(25))\n",
    "model.add(Dense(1))\n",
    "# Compile the model\n",
    "model.compile(optimizer='adam', loss='mean_squared_error')"
   ]
  },
  {
   "cell_type": "code",
   "execution_count": null,
   "metadata": {},
   "outputs": [],
   "source": []
  },
  {
   "cell_type": "code",
   "execution_count": 23,
   "metadata": {},
   "outputs": [
    {
     "name": "stdout",
     "output_type": "stream",
     "text": [
      "Model: \"sequential\"\n",
      "_________________________________________________________________\n",
      "Layer (type)                 Output Shape              Param #   \n",
      "=================================================================\n",
      "lstm (LSTM)                  (None, 100, 50)           10400     \n",
      "_________________________________________________________________\n",
      "lstm_1 (LSTM)                (None, 50)                20200     \n",
      "_________________________________________________________________\n",
      "dense (Dense)                (None, 25)                1275      \n",
      "_________________________________________________________________\n",
      "dense_1 (Dense)              (None, 25)                650       \n",
      "_________________________________________________________________\n",
      "dense_2 (Dense)              (None, 1)                 26        \n",
      "=================================================================\n",
      "Total params: 32,551\n",
      "Trainable params: 32,551\n",
      "Non-trainable params: 0\n",
      "_________________________________________________________________\n"
     ]
    }
   ],
   "source": [
    "model.summary()"
   ]
  },
  {
   "cell_type": "code",
   "execution_count": 31,
   "metadata": {},
   "outputs": [
    {
     "name": "stdout",
     "output_type": "stream",
     "text": [
      "Epoch 1/10\n",
      "28/28 [==============================] - 5s 100ms/step - loss: 0.0065 - val_loss: 0.0043\n",
      "Epoch 2/10\n",
      "28/28 [==============================] - 2s 80ms/step - loss: 3.9353e-04 - val_loss: 0.0022\n",
      "Epoch 3/10\n",
      "28/28 [==============================] - 2s 79ms/step - loss: 2.4847e-04 - val_loss: 0.0012\n",
      "Epoch 4/10\n",
      "28/28 [==============================] - 2s 79ms/step - loss: 2.4215e-04 - val_loss: 0.0027\n",
      "Epoch 5/10\n",
      "28/28 [==============================] - 2s 79ms/step - loss: 2.9335e-04 - val_loss: 0.0019\n",
      "Epoch 6/10\n",
      "28/28 [==============================] - 2s 79ms/step - loss: 2.0449e-04 - val_loss: 0.0032\n",
      "Epoch 7/10\n",
      "28/28 [==============================] - 2s 79ms/step - loss: 2.5427e-04 - val_loss: 0.0019\n",
      "Epoch 8/10\n",
      "28/28 [==============================] - 2s 79ms/step - loss: 1.8920e-04 - val_loss: 0.0021\n",
      "Epoch 9/10\n",
      "28/28 [==============================] - 2s 81ms/step - loss: 1.6723e-04 - val_loss: 0.0019\n",
      "Epoch 10/10\n",
      "28/28 [==============================] - 2s 80ms/step - loss: 1.5717e-04 - val_loss: 0.0022\n",
      "3630.4926480229547\n",
      "11584.663160955655\n",
      "Epoch 1/10\n",
      "28/28 [==============================] - 5s 98ms/step - loss: 0.0059 - val_loss: 0.0047\n",
      "Epoch 2/10\n",
      "28/28 [==============================] - 2s 78ms/step - loss: 3.6065e-04 - val_loss: 0.0030\n",
      "Epoch 3/10\n",
      "28/28 [==============================] - 2s 77ms/step - loss: 2.7774e-04 - val_loss: 0.0024\n",
      "Epoch 4/10\n",
      "28/28 [==============================] - 2s 78ms/step - loss: 2.6364e-04 - val_loss: 0.0016\n",
      "Epoch 5/10\n",
      "28/28 [==============================] - 2s 78ms/step - loss: 2.3870e-04 - val_loss: 0.0011\n",
      "Epoch 6/10\n",
      "28/28 [==============================] - 2s 79ms/step - loss: 2.0472e-04 - val_loss: 0.0017\n",
      "Epoch 7/10\n",
      "28/28 [==============================] - 2s 78ms/step - loss: 2.0549e-04 - val_loss: 0.0011\n",
      "Epoch 8/10\n",
      "28/28 [==============================] - 2s 78ms/step - loss: 2.2963e-04 - val_loss: 0.0019\n",
      "Epoch 9/10\n",
      "28/28 [==============================] - 2s 79ms/step - loss: 1.6642e-04 - val_loss: 0.0015\n",
      "Epoch 10/10\n",
      "28/28 [==============================] - 2s 80ms/step - loss: 1.4879e-04 - val_loss: 0.0018\n",
      "3613.634453231936\n",
      "11675.307879178365\n",
      "Epoch 1/10\n",
      "28/28 [==============================] - 5s 99ms/step - loss: 0.0088 - val_loss: 0.0032\n",
      "Epoch 2/10\n",
      "28/28 [==============================] - 2s 79ms/step - loss: 4.1305e-04 - val_loss: 0.0018\n",
      "Epoch 3/10\n",
      "28/28 [==============================] - 2s 78ms/step - loss: 2.9939e-04 - val_loss: 0.0026\n",
      "Epoch 4/10\n",
      "28/28 [==============================] - 2s 81ms/step - loss: 2.7525e-04 - val_loss: 0.0021\n",
      "Epoch 5/10\n",
      "28/28 [==============================] - 2s 78ms/step - loss: 2.3735e-04 - val_loss: 0.0021\n",
      "Epoch 6/10\n",
      "28/28 [==============================] - 2s 80ms/step - loss: 1.8041e-04 - val_loss: 0.0020\n",
      "Epoch 7/10\n",
      "28/28 [==============================] - 2s 78ms/step - loss: 1.8626e-04 - val_loss: 0.0028\n",
      "Epoch 8/10\n",
      "28/28 [==============================] - 2s 83ms/step - loss: 2.0541e-04 - val_loss: 0.0033\n",
      "Epoch 9/10\n",
      "28/28 [==============================] - 2s 79ms/step - loss: 1.8718e-04 - val_loss: 0.0020\n",
      "Epoch 10/10\n",
      "28/28 [==============================] - 2s 83ms/step - loss: 1.7608e-04 - val_loss: 0.0019\n",
      "3699.6718170768554\n",
      "11826.26500189703\n",
      "Epoch 1/10\n",
      "28/28 [==============================] - 5s 97ms/step - loss: 0.0031 - val_loss: 0.0028\n",
      "Epoch 2/10\n",
      "28/28 [==============================] - 2s 78ms/step - loss: 2.8555e-04 - val_loss: 0.0017\n",
      "Epoch 3/10\n",
      "28/28 [==============================] - 2s 77ms/step - loss: 2.7922e-04 - val_loss: 0.0014\n",
      "Epoch 4/10\n",
      "28/28 [==============================] - 2s 76ms/step - loss: 3.2097e-04 - val_loss: 0.0019\n",
      "Epoch 5/10\n",
      "28/28 [==============================] - 2s 76ms/step - loss: 1.8349e-04 - val_loss: 0.0013\n",
      "Epoch 6/10\n",
      "28/28 [==============================] - 2s 76ms/step - loss: 1.9210e-04 - val_loss: 0.0018\n",
      "Epoch 7/10\n",
      "28/28 [==============================] - 2s 84ms/step - loss: 1.8695e-04 - val_loss: 0.0017\n",
      "Epoch 8/10\n",
      "28/28 [==============================] - 2s 77ms/step - loss: 1.6019e-04 - val_loss: 0.0014\n",
      "Epoch 9/10\n",
      "28/28 [==============================] - 2s 76ms/step - loss: 1.8733e-04 - val_loss: 0.0026\n",
      "Epoch 10/10\n",
      "28/28 [==============================] - 2s 77ms/step - loss: 1.6706e-04 - val_loss: 0.0014\n",
      "4074.42610716117\n",
      "12268.806230052161\n",
      "Epoch 1/10\n",
      "28/28 [==============================] - 5s 95ms/step - loss: 0.0057 - val_loss: 0.0033\n",
      "Epoch 2/10\n",
      "28/28 [==============================] - 2s 75ms/step - loss: 4.1904e-04 - val_loss: 0.0021\n",
      "Epoch 3/10\n",
      "28/28 [==============================] - 2s 74ms/step - loss: 2.8650e-04 - val_loss: 0.0016\n",
      "Epoch 4/10\n",
      "28/28 [==============================] - 2s 84ms/step - loss: 2.8927e-04 - val_loss: 0.0024\n",
      "Epoch 5/10\n",
      "28/28 [==============================] - 2s 79ms/step - loss: 2.4888e-04 - val_loss: 0.0023\n",
      "Epoch 6/10\n",
      "28/28 [==============================] - 2s 81ms/step - loss: 2.0408e-04 - val_loss: 0.0014\n",
      "Epoch 7/10\n",
      "28/28 [==============================] - 2s 78ms/step - loss: 1.9307e-04 - val_loss: 0.0023\n",
      "Epoch 8/10\n",
      "28/28 [==============================] - 2s 79ms/step - loss: 1.9256e-04 - val_loss: 0.0018\n",
      "Epoch 9/10\n",
      "28/28 [==============================] - 2s 76ms/step - loss: 1.6569e-04 - val_loss: 0.0031\n",
      "Epoch 10/10\n",
      "28/28 [==============================] - 2s 77ms/step - loss: 1.6359e-04 - val_loss: 0.0019\n",
      "3806.6378473501186\n",
      "11938.094375175267\n",
      "Epoch 1/10\n",
      "28/28 [==============================] - 5s 98ms/step - loss: 0.0048 - val_loss: 0.0026\n",
      "Epoch 2/10\n",
      "28/28 [==============================] - 2s 85ms/step - loss: 3.5916e-04 - val_loss: 0.0018\n",
      "Epoch 3/10\n",
      "28/28 [==============================] - 2s 78ms/step - loss: 2.9403e-04 - val_loss: 0.0015\n",
      "Epoch 4/10\n",
      "28/28 [==============================] - 2s 78ms/step - loss: 2.6927e-04 - val_loss: 0.0015\n",
      "Epoch 5/10\n",
      "28/28 [==============================] - 2s 79ms/step - loss: 2.5326e-04 - val_loss: 0.0014\n",
      "Epoch 6/10\n",
      "28/28 [==============================] - 2s 79ms/step - loss: 1.9584e-04 - val_loss: 0.0021\n",
      "Epoch 7/10\n",
      "28/28 [==============================] - 2s 80ms/step - loss: 2.3073e-04 - val_loss: 0.0013\n",
      "Epoch 8/10\n",
      "28/28 [==============================] - 2s 80ms/step - loss: 1.9070e-04 - val_loss: 0.0011\n",
      "Epoch 9/10\n",
      "28/28 [==============================] - 2s 79ms/step - loss: 1.9553e-04 - val_loss: 9.7264e-04\n",
      "Epoch 10/10\n",
      "28/28 [==============================] - 2s 81ms/step - loss: 2.0298e-04 - val_loss: 0.0031\n",
      "3374.294593883481\n",
      "11036.824476705482\n"
     ]
    }
   ],
   "source": [
    "# give best model loop\n",
    "rmse = 4000\n",
    "while rmse > 3550:\n",
    "    # Train the model\n",
    "    model = Sequential()\n",
    "    model.add(LSTM(50, return_sequences=True, input_shape= (100, 1)))\n",
    "    model.add(LSTM(50, return_sequences=False))\n",
    "    model.add(Dense(25))\n",
    "    model.add(Dense(25))\n",
    "    model.add(Dense(1))\n",
    "    # Compile the model\n",
    "    model.compile(optimizer='adam', loss='mean_squared_error')\n",
    "    model.fit(X_train, y_train, validation_data=(X_test,ytest), epochs=10, batch_size=64, verbose=1)\n",
    "#     model.fit(x_train, y_train, batch_size=1, epochs=1)\n",
    "    # Create the testing data set\n",
    "    train_predict=model.predict(X_train)\n",
    "    test_predict=model.predict(X_test)\n",
    "    train_predict=scaler.inverse_transform(train_predict)\n",
    "    test_predict=scaler.inverse_transform(test_predict)\n",
    "    rmse = np.sqrt( np.mean( y_train - train_predict )**2 )\n",
    "    rmse2 = np.sqrt( np.mean( ytest - test_predict )**2 )\n",
    "    print(rmse)\n",
    "    print(rmse2)"
   ]
  },
  {
   "cell_type": "markdown",
   "metadata": {},
   "source": [
    "###TEST----------------"
   ]
  },
  {
   "cell_type": "code",
   "execution_count": 90,
   "metadata": {
    "collapsed": true,
    "jupyter": {
     "outputs_hidden": true
    }
   },
   "outputs": [
    {
     "name": "stdout",
     "output_type": "stream",
     "text": [
      "Epoch 1/100\n",
      "28/28 [==============================] - 8s 143ms/step - loss: 0.0056 - val_loss: 0.0049\n",
      "Epoch 2/100\n",
      "28/28 [==============================] - 3s 106ms/step - loss: 6.0007e-04 - val_loss: 0.0038\n",
      "Epoch 3/100\n",
      "28/28 [==============================] - 3s 104ms/step - loss: 3.9398e-04 - val_loss: 0.0050\n",
      "Epoch 4/100\n",
      "28/28 [==============================] - 3s 104ms/step - loss: 3.3671e-04 - val_loss: 0.0045\n",
      "Epoch 5/100\n",
      "28/28 [==============================] - 3s 105ms/step - loss: 2.8916e-04 - val_loss: 0.0032\n",
      "Epoch 6/100\n",
      "28/28 [==============================] - 3s 106ms/step - loss: 2.5174e-04 - val_loss: 0.0055\n",
      "Epoch 7/100\n",
      "28/28 [==============================] - 3s 106ms/step - loss: 2.7981e-04 - val_loss: 0.0043\n",
      "Epoch 8/100\n",
      "28/28 [==============================] - 3s 104ms/step - loss: 2.4635e-04 - val_loss: 0.0034\n",
      "Epoch 9/100\n",
      "28/28 [==============================] - 3s 104ms/step - loss: 2.5285e-04 - val_loss: 0.0031\n",
      "Epoch 10/100\n",
      "28/28 [==============================] - 3s 104ms/step - loss: 2.5325e-04 - val_loss: 0.0026\n",
      "Epoch 11/100\n",
      "28/28 [==============================] - 3s 104ms/step - loss: 2.5360e-04 - val_loss: 0.0022\n",
      "Epoch 12/100\n",
      "28/28 [==============================] - 3s 105ms/step - loss: 2.4141e-04 - val_loss: 0.0024\n",
      "Epoch 13/100\n",
      "28/28 [==============================] - 3s 104ms/step - loss: 2.0018e-04 - val_loss: 0.0023\n",
      "Epoch 14/100\n",
      "28/28 [==============================] - 3s 104ms/step - loss: 2.1509e-04 - val_loss: 0.0019\n",
      "Epoch 15/100\n",
      "28/28 [==============================] - 3s 105ms/step - loss: 1.7295e-04 - val_loss: 0.0014\n",
      "Epoch 16/100\n",
      "28/28 [==============================] - 3s 105ms/step - loss: 2.0182e-04 - val_loss: 0.0028\n",
      "Epoch 17/100\n",
      "28/28 [==============================] - 3s 104ms/step - loss: 2.2070e-04 - val_loss: 0.0022\n",
      "Epoch 18/100\n",
      "28/28 [==============================] - 3s 104ms/step - loss: 1.6100e-04 - val_loss: 0.0019\n",
      "Epoch 19/100\n",
      "28/28 [==============================] - 3s 105ms/step - loss: 1.7313e-04 - val_loss: 0.0018\n",
      "Epoch 20/100\n",
      "28/28 [==============================] - 3s 105ms/step - loss: 1.7812e-04 - val_loss: 0.0014\n",
      "Epoch 21/100\n",
      "28/28 [==============================] - 3s 110ms/step - loss: 1.7314e-04 - val_loss: 0.0016\n",
      "Epoch 22/100\n",
      "28/28 [==============================] - 3s 105ms/step - loss: 1.7083e-04 - val_loss: 0.0023\n",
      "Epoch 23/100\n",
      "28/28 [==============================] - 3s 104ms/step - loss: 1.3749e-04 - val_loss: 0.0019\n",
      "Epoch 24/100\n",
      "28/28 [==============================] - 3s 105ms/step - loss: 1.5658e-04 - val_loss: 0.0028\n",
      "Epoch 25/100\n",
      "28/28 [==============================] - 3s 103ms/step - loss: 1.9455e-04 - val_loss: 0.0026\n",
      "Epoch 26/100\n",
      "28/28 [==============================] - 3s 103ms/step - loss: 1.4152e-04 - val_loss: 0.0022\n",
      "Epoch 27/100\n",
      "28/28 [==============================] - 3s 103ms/step - loss: 1.3837e-04 - val_loss: 0.0015\n",
      "Epoch 28/100\n",
      "28/28 [==============================] - 3s 104ms/step - loss: 1.5260e-04 - val_loss: 0.0015\n",
      "Epoch 29/100\n",
      "28/28 [==============================] - 3s 104ms/step - loss: 2.1306e-04 - val_loss: 0.0012\n",
      "Epoch 30/100\n",
      "28/28 [==============================] - 3s 103ms/step - loss: 1.2793e-04 - val_loss: 0.0023\n",
      "Epoch 31/100\n",
      "28/28 [==============================] - 3s 103ms/step - loss: 1.7492e-04 - val_loss: 0.0015\n",
      "Epoch 32/100\n",
      "28/28 [==============================] - 3s 106ms/step - loss: 1.7339e-04 - val_loss: 0.0026\n",
      "Epoch 33/100\n",
      "28/28 [==============================] - 3s 106ms/step - loss: 1.4178e-04 - val_loss: 0.0016\n",
      "Epoch 34/100\n",
      "28/28 [==============================] - 3s 103ms/step - loss: 1.4330e-04 - val_loss: 0.0011\n",
      "Epoch 35/100\n",
      "28/28 [==============================] - 3s 103ms/step - loss: 1.4123e-04 - val_loss: 0.0016\n",
      "Epoch 36/100\n",
      "28/28 [==============================] - 3s 104ms/step - loss: 1.1924e-04 - val_loss: 0.0013\n",
      "Epoch 37/100\n",
      "28/28 [==============================] - 3s 104ms/step - loss: 1.1916e-04 - val_loss: 0.0011\n",
      "Epoch 38/100\n",
      "28/28 [==============================] - 3s 105ms/step - loss: 1.5642e-04 - val_loss: 0.0011\n",
      "Epoch 39/100\n",
      "28/28 [==============================] - 3s 108ms/step - loss: 1.1000e-04 - val_loss: 0.0011\n",
      "Epoch 40/100\n",
      "28/28 [==============================] - 3s 108ms/step - loss: 1.1717e-04 - val_loss: 0.0014\n",
      "Epoch 41/100\n",
      "28/28 [==============================] - 3s 111ms/step - loss: 1.0959e-04 - val_loss: 0.0011\n",
      "Epoch 42/100\n",
      "28/28 [==============================] - 3s 113ms/step - loss: 9.6758e-05 - val_loss: 0.0021\n",
      "Epoch 43/100\n",
      "28/28 [==============================] - 3s 110ms/step - loss: 1.0900e-04 - val_loss: 0.0015\n",
      "Epoch 44/100\n",
      "28/28 [==============================] - 3s 109ms/step - loss: 1.0558e-04 - val_loss: 0.0017\n",
      "Epoch 45/100\n",
      "28/28 [==============================] - 3s 109ms/step - loss: 1.1534e-04 - val_loss: 0.0022\n",
      "Epoch 46/100\n",
      "28/28 [==============================] - 3s 113ms/step - loss: 9.7285e-05 - val_loss: 0.0012-0\n",
      "Epoch 47/100\n",
      "28/28 [==============================] - 3s 111ms/step - loss: 8.7256e-05 - val_loss: 0.0011\n",
      "Epoch 48/100\n",
      "28/28 [==============================] - 3s 111ms/step - loss: 1.0153e-04 - val_loss: 0.0018\n",
      "Epoch 49/100\n",
      "28/28 [==============================] - 3s 111ms/step - loss: 1.1957e-04 - val_loss: 0.0018\n",
      "Epoch 50/100\n",
      "28/28 [==============================] - 3s 113ms/step - loss: 1.0987e-04 - val_loss: 0.0017\n",
      "Epoch 51/100\n",
      "28/28 [==============================] - 3s 115ms/step - loss: 8.3329e-05 - val_loss: 0.0013\n",
      "Epoch 52/100\n",
      "28/28 [==============================] - 3s 111ms/step - loss: 1.2881e-04 - val_loss: 0.0019\n",
      "Epoch 53/100\n",
      "28/28 [==============================] - 3s 109ms/step - loss: 8.7849e-05 - val_loss: 0.0011\n",
      "Epoch 54/100\n",
      "28/28 [==============================] - 3s 109ms/step - loss: 9.1384e-05 - val_loss: 8.3940e-04\n",
      "Epoch 55/100\n",
      "28/28 [==============================] - 3s 111ms/step - loss: 1.2088e-04 - val_loss: 9.9990e-04\n",
      "Epoch 56/100\n",
      "28/28 [==============================] - 3s 109ms/step - loss: 6.5254e-05 - val_loss: 0.0019\n",
      "Epoch 57/100\n",
      "28/28 [==============================] - 3s 109ms/step - loss: 8.8657e-05 - val_loss: 9.6096e-04\n",
      "Epoch 58/100\n",
      "28/28 [==============================] - 3s 108ms/step - loss: 7.3254e-05 - val_loss: 0.0013\n",
      "Epoch 59/100\n",
      "28/28 [==============================] - 3s 109ms/step - loss: 7.8723e-05 - val_loss: 0.0016\n",
      "Epoch 60/100\n",
      "28/28 [==============================] - 3s 108ms/step - loss: 6.1842e-05 - val_loss: 0.0011\n",
      "Epoch 61/100\n",
      "28/28 [==============================] - 3s 109ms/step - loss: 6.2193e-05 - val_loss: 0.0018\n",
      "Epoch 62/100\n",
      "28/28 [==============================] - 3s 108ms/step - loss: 1.1288e-04 - val_loss: 0.0015\n",
      "Epoch 63/100\n",
      "28/28 [==============================] - 3s 108ms/step - loss: 8.1932e-05 - val_loss: 9.5265e-04\n",
      "Epoch 64/100\n",
      "28/28 [==============================] - 3s 108ms/step - loss: 7.4220e-05 - val_loss: 0.0014\n",
      "Epoch 65/100\n",
      "28/28 [==============================] - 3s 108ms/step - loss: 5.7213e-05 - val_loss: 0.0010\n",
      "Epoch 66/100\n",
      "28/28 [==============================] - 3s 110ms/step - loss: 6.0249e-05 - val_loss: 8.4602e-04\n",
      "Epoch 67/100\n",
      "28/28 [==============================] - 3s 112ms/step - loss: 1.7560e-04 - val_loss: 6.2420e-04\n",
      "Epoch 68/100\n",
      "28/28 [==============================] - 3s 113ms/step - loss: 7.5251e-05 - val_loss: 8.3410e-04\n",
      "Epoch 69/100\n",
      "28/28 [==============================] - 3s 110ms/step - loss: 6.7450e-05 - val_loss: 7.7529e-04\n",
      "Epoch 70/100\n",
      "28/28 [==============================] - 3s 108ms/step - loss: 7.3870e-05 - val_loss: 8.4660e-04\n",
      "Epoch 71/100\n",
      "28/28 [==============================] - 3s 107ms/step - loss: 9.9033e-05 - val_loss: 0.0014\n",
      "Epoch 72/100\n",
      "28/28 [==============================] - 3s 113ms/step - loss: 8.8481e-05 - val_loss: 0.0011\n",
      "Epoch 73/100\n",
      "28/28 [==============================] - 3s 114ms/step - loss: 8.0263e-05 - val_loss: 8.8407e-04\n",
      "Epoch 74/100\n",
      "28/28 [==============================] - 3s 108ms/step - loss: 9.3473e-05 - val_loss: 0.0012\n",
      "Epoch 75/100\n",
      "28/28 [==============================] - 3s 108ms/step - loss: 5.8363e-05 - val_loss: 0.0010\n",
      "Epoch 76/100\n",
      "28/28 [==============================] - 3s 109ms/step - loss: 6.8414e-05 - val_loss: 9.9687e-04\n",
      "Epoch 77/100\n",
      "28/28 [==============================] - 3s 109ms/step - loss: 5.8829e-05 - val_loss: 0.0012\n",
      "Epoch 78/100\n",
      "28/28 [==============================] - 3s 108ms/step - loss: 6.0101e-05 - val_loss: 0.0012\n",
      "Epoch 79/100\n",
      "28/28 [==============================] - 3s 108ms/step - loss: 6.3275e-05 - val_loss: 0.0012\n",
      "Epoch 80/100\n",
      "28/28 [==============================] - 3s 108ms/step - loss: 6.5968e-05 - val_loss: 0.0013\n",
      "Epoch 81/100\n",
      "28/28 [==============================] - 3s 107ms/step - loss: 6.6409e-05 - val_loss: 0.0011\n",
      "Epoch 82/100\n",
      "28/28 [==============================] - 3s 110ms/step - loss: 6.3944e-05 - val_loss: 0.0013\n",
      "Epoch 83/100\n",
      "28/28 [==============================] - 3s 108ms/step - loss: 9.7435e-05 - val_loss: 0.0015\n",
      "Epoch 84/100\n",
      "28/28 [==============================] - 3s 108ms/step - loss: 8.1729e-05 - val_loss: 0.0016\n",
      "Epoch 85/100\n",
      "28/28 [==============================] - 3s 109ms/step - loss: 6.2902e-05 - val_loss: 0.0013\n",
      "Epoch 86/100\n",
      "28/28 [==============================] - 3s 109ms/step - loss: 5.9313e-05 - val_loss: 0.0011\n",
      "Epoch 87/100\n",
      "28/28 [==============================] - 3s 108ms/step - loss: 4.9396e-05 - val_loss: 8.8032e-04\n",
      "Epoch 88/100\n",
      "28/28 [==============================] - 3s 108ms/step - loss: 5.6811e-05 - val_loss: 0.0011\n",
      "Epoch 89/100\n",
      "28/28 [==============================] - 3s 111ms/step - loss: 7.4104e-05 - val_loss: 9.2801e-04\n",
      "Epoch 90/100\n",
      "28/28 [==============================] - 3s 110ms/step - loss: 6.2675e-05 - val_loss: 0.0018\n",
      "Epoch 91/100\n",
      "28/28 [==============================] - 3s 108ms/step - loss: 8.8062e-05 - val_loss: 0.0015\n",
      "Epoch 92/100\n",
      "28/28 [==============================] - 3s 110ms/step - loss: 5.9349e-05 - val_loss: 0.0012\n",
      "Epoch 93/100\n",
      "28/28 [==============================] - 3s 108ms/step - loss: 4.4580e-05 - val_loss: 9.3030e-04\n",
      "Epoch 94/100\n",
      "28/28 [==============================] - 3s 108ms/step - loss: 6.4494e-05 - val_loss: 0.0016\n",
      "Epoch 95/100\n",
      "28/28 [==============================] - 3s 110ms/step - loss: 6.2831e-05 - val_loss: 9.3839e-04\n",
      "Epoch 96/100\n",
      "28/28 [==============================] - 3s 108ms/step - loss: 4.9614e-05 - val_loss: 8.9164e-04\n",
      "Epoch 97/100\n",
      "28/28 [==============================] - 3s 109ms/step - loss: 5.5761e-05 - val_loss: 0.0011\n",
      "Epoch 98/100\n",
      "28/28 [==============================] - 3s 109ms/step - loss: 5.1058e-05 - val_loss: 0.0012\n",
      "Epoch 99/100\n",
      "28/28 [==============================] - 3s 109ms/step - loss: 6.3437e-05 - val_loss: 9.6798e-04\n",
      "Epoch 100/100\n",
      "28/28 [==============================] - 3s 108ms/step - loss: 5.6289e-05 - val_loss: 7.8033e-04\n"
     ]
    },
    {
     "data": {
      "text/plain": [
       "<tensorflow.python.keras.callbacks.History at 0x1c411618508>"
      ]
     },
     "execution_count": 90,
     "metadata": {},
     "output_type": "execute_result"
    }
   ],
   "source": [
    "# Train the model\n",
    "\n",
    "model.fit(X_train, y_train, validation_data=(X_test,ytest), epochs=10, batch_size=64, verbose=1)"
   ]
  },
  {
   "cell_type": "code",
   "execution_count": null,
   "metadata": {},
   "outputs": [],
   "source": []
  },
  {
   "cell_type": "code",
   "execution_count": 91,
   "metadata": {},
   "outputs": [],
   "source": [
    "train_predict=model.predict(X_train)\n",
    "test_predict=model.predict(X_test)"
   ]
  },
  {
   "cell_type": "code",
   "execution_count": 92,
   "metadata": {},
   "outputs": [],
   "source": [
    "train_predict=scaler.inverse_transform(train_predict)\n",
    "test_predict=scaler.inverse_transform(test_predict)"
   ]
  },
  {
   "cell_type": "code",
   "execution_count": 94,
   "metadata": {},
   "outputs": [
    {
     "data": {
      "text/plain": [
       "5643.470046841075"
      ]
     },
     "execution_count": 94,
     "metadata": {},
     "output_type": "execute_result"
    }
   ],
   "source": [
    "from sklearn.metrics import mean_squared_error\n",
    "math.sqrt(mean_squared_error(y_train,train_predict))"
   ]
  },
  {
   "cell_type": "code",
   "execution_count": 95,
   "metadata": {},
   "outputs": [
    {
     "data": {
      "text/plain": [
       "13741.205060742634"
      ]
     },
     "execution_count": 95,
     "metadata": {},
     "output_type": "execute_result"
    }
   ],
   "source": [
    "math.sqrt(mean_squared_error(ytest,test_predict))"
   ]
  },
  {
   "cell_type": "markdown",
   "metadata": {},
   "source": [
    "###TEST--------------"
   ]
  },
  {
   "cell_type": "code",
   "execution_count": 32,
   "metadata": {},
   "outputs": [
    {
     "data": {
      "image/png": "[encoded data removed]",
      "text/plain": [
       "<Figure size 1152x576 with 1 Axes>"
      ]
     },
     "metadata": {},
     "output_type": "display_data"
    }
   ],
   "source": [
    "look_back = 100\n",
    "trainPredictPlot=np.empty_like(df1)\n",
    "trainPredictPlot[:,:] = np.nan\n",
    "trainPredictPlot[look_back:len(train_predict)+look_back,:] = train_predict\n",
    "\n",
    "testPredictPlot = np.empty_like(df1)\n",
    "testPredictPlot[:,:] = np.nan\n",
    "testPredictPlot[len(train_predict)+(look_back*2)+1:len(df1)-1, :] = test_predict\n",
    "\n",
    "plt.figure(figsize=(16,8))\n",
    "plt.plot(scaler.inverse_transform(df1))\n",
    "plt.plot(trainPredictPlot)\n",
    "plt.plot(testPredictPlot)\n",
    "plt.show()"
   ]
  },
  {
   "cell_type": "code",
   "execution_count": 33,
   "metadata": {},
   "outputs": [
    {
     "data": {
      "text/plain": [
       "(1, 100)"
      ]
     },
     "execution_count": 33,
     "metadata": {},
     "output_type": "execute_result"
    }
   ],
   "source": [
    "x_input=test_data[len(test_data)-100:].reshape(1,-1)\n",
    "x_input.shape"
   ]
  },
  {
   "cell_type": "code",
   "execution_count": 34,
   "metadata": {},
   "outputs": [],
   "source": [
    "temp_input=list(x_input)\n",
    "temp_input=temp_input[0].tolist()"
   ]
  },
  {
   "cell_type": "code",
   "execution_count": 35,
   "metadata": {
    "collapsed": true,
    "jupyter": {
     "outputs_hidden": true
    }
   },
   "outputs": [
    {
     "name": "stdout",
     "output_type": "stream",
     "text": [
      "[0.7274294]\n",
      "101\n",
      "1 day input [0.27690628 0.27699509 0.27861605 0.27435144 0.27523718 0.27832087\n",
      " 0.28468918 0.28898017 0.31131807 0.31481891 0.31397319 0.31831897\n",
      " 0.31642607 0.31751112 0.33176464 0.3223373  0.32643872 0.32911329\n",
      " 0.33488571 0.3338053  0.32921095 0.33905379 0.34356902 0.37917117\n",
      " 0.3788273  0.36080327 0.37670237 0.37307722 0.37205768 0.38216212\n",
      " 0.39631798 0.39733879 0.39119224 0.38842138 0.40714449 0.43002254\n",
      " 0.43392706 0.43424917 0.45404814 0.45456312 0.44786115 0.44771637\n",
      " 0.46601654 0.45677606 0.41784161 0.41680219 0.43179528 0.44312162\n",
      " 0.47877817 0.45852096 0.46832152 0.47433603 0.45597951 0.46716785\n",
      " 0.47186733 0.4680886  0.44665835 0.45238888 0.44527595 0.44020233\n",
      " 0.45853716 0.46687618 0.46944297 0.47363877 0.52025484 0.55704909\n",
      " 0.56524217 0.5832599  0.57359614 0.55699788 0.58112292 0.56778737\n",
      " 0.57996387 0.60283076 0.64646118 0.64240544 0.66240848 0.66924335\n",
      " 0.7056425  0.70960039 0.71876918 0.78654734 0.80266658 0.78272273\n",
      " 0.83246523 0.90218379 0.96487977 1.         0.9866305  0.93990158\n",
      " 0.87122066 0.830755   0.9142961  0.96035695 0.90220851 0.88627462\n",
      " 0.87675054 0.89740064 0.89780339 0.72742939]\n",
      "1 day output [[0.70472234]]\n",
      "2 day input [0.27699509 0.27861605 0.27435144 0.27523718 0.27832087 0.28468918\n",
      " 0.28898017 0.31131807 0.31481891 0.31397319 0.31831897 0.31642607\n",
      " 0.31751112 0.33176464 0.3223373  0.32643872 0.32911329 0.33488571\n",
      " 0.3338053  0.32921095 0.33905379 0.34356902 0.37917117 0.3788273\n",
      " 0.36080327 0.37670237 0.37307722 0.37205768 0.38216212 0.39631798\n",
      " 0.39733879 0.39119224 0.38842138 0.40714449 0.43002254 0.43392706\n",
      " 0.43424917 0.45404814 0.45456312 0.44786115 0.44771637 0.46601654\n",
      " 0.45677606 0.41784161 0.41680219 0.43179528 0.44312162 0.47877817\n",
      " 0.45852096 0.46832152 0.47433603 0.45597951 0.46716785 0.47186733\n",
      " 0.4680886  0.44665835 0.45238888 0.44527595 0.44020233 0.45853716\n",
      " 0.46687618 0.46944297 0.47363877 0.52025484 0.55704909 0.56524217\n",
      " 0.5832599  0.57359614 0.55699788 0.58112292 0.56778737 0.57996387\n",
      " 0.60283076 0.64646118 0.64240544 0.66240848 0.66924335 0.7056425\n",
      " 0.70960039 0.71876918 0.78654734 0.80266658 0.78272273 0.83246523\n",
      " 0.90218379 0.96487977 1.         0.9866305  0.93990158 0.87122066\n",
      " 0.830755   0.9142961  0.96035695 0.90220851 0.88627462 0.87675054\n",
      " 0.89740064 0.89780339 0.72742939 0.70472234]\n",
      "2 day output [[0.67477703]]\n",
      "3 day input [0.27861605 0.27435144 0.27523718 0.27832087 0.28468918 0.28898017\n",
      " 0.31131807 0.31481891 0.31397319 0.31831897 0.31642607 0.31751112\n",
      " 0.33176464 0.3223373  0.32643872 0.32911329 0.33488571 0.3338053\n",
      " 0.32921095 0.33905379 0.34356902 0.37917117 0.3788273  0.36080327\n",
      " 0.37670237 0.37307722 0.37205768 0.38216212 0.39631798 0.39733879\n",
      " 0.39119224 0.38842138 0.40714449 0.43002254 0.43392706 0.43424917\n",
      " 0.45404814 0.45456312 0.44786115 0.44771637 0.46601654 0.45677606\n",
      " 0.41784161 0.41680219 0.43179528 0.44312162 0.47877817 0.45852096\n",
      " 0.46832152 0.47433603 0.45597951 0.46716785 0.47186733 0.4680886\n",
      " 0.44665835 0.45238888 0.44527595 0.44020233 0.45853716 0.46687618\n",
      " 0.46944297 0.47363877 0.52025484 0.55704909 0.56524217 0.5832599\n",
      " 0.57359614 0.55699788 0.58112292 0.56778737 0.57996387 0.60283076\n",
      " 0.64646118 0.64240544 0.66240848 0.66924335 0.7056425  0.70960039\n",
      " 0.71876918 0.78654734 0.80266658 0.78272273 0.83246523 0.90218379\n",
      " 0.96487977 1.         0.9866305  0.93990158 0.87122066 0.830755\n",
      " 0.9142961  0.96035695 0.90220851 0.88627462 0.87675054 0.89740064\n",
      " 0.89780339 0.72742939 0.70472234 0.67477703]\n",
      "3 day output [[0.6409062]]\n",
      "4 day input [0.27435144 0.27523718 0.27832087 0.28468918 0.28898017 0.31131807\n",
      " 0.31481891 0.31397319 0.31831897 0.31642607 0.31751112 0.33176464\n",
      " 0.3223373  0.32643872 0.32911329 0.33488571 0.3338053  0.32921095\n",
      " 0.33905379 0.34356902 0.37917117 0.3788273  0.36080327 0.37670237\n",
      " 0.37307722 0.37205768 0.38216212 0.39631798 0.39733879 0.39119224\n",
      " 0.38842138 0.40714449 0.43002254 0.43392706 0.43424917 0.45404814\n",
      " 0.45456312 0.44786115 0.44771637 0.46601654 0.45677606 0.41784161\n",
      " 0.41680219 0.43179528 0.44312162 0.47877817 0.45852096 0.46832152\n",
      " 0.47433603 0.45597951 0.46716785 0.47186733 0.4680886  0.44665835\n",
      " 0.45238888 0.44527595 0.44020233 0.45853716 0.46687618 0.46944297\n",
      " 0.47363877 0.52025484 0.55704909 0.56524217 0.5832599  0.57359614\n",
      " 0.55699788 0.58112292 0.56778737 0.57996387 0.60283076 0.64646118\n",
      " 0.64240544 0.66240848 0.66924335 0.7056425  0.70960039 0.71876918\n",
      " 0.78654734 0.80266658 0.78272273 0.83246523 0.90218379 0.96487977\n",
      " 1.         0.9866305  0.93990158 0.87122066 0.830755   0.9142961\n",
      " 0.96035695 0.90220851 0.88627462 0.87675054 0.89740064 0.89780339\n",
      " 0.72742939 0.70472234 0.67477703 0.64090621]\n",
      "4 day output [[0.6051626]]\n",
      "5 day input [0.27523718 0.27832087 0.28468918 0.28898017 0.31131807 0.31481891\n",
      " 0.31397319 0.31831897 0.31642607 0.31751112 0.33176464 0.3223373\n",
      " 0.32643872 0.32911329 0.33488571 0.3338053  0.32921095 0.33905379\n",
      " 0.34356902 0.37917117 0.3788273  0.36080327 0.37670237 0.37307722\n",
      " 0.37205768 0.38216212 0.39631798 0.39733879 0.39119224 0.38842138\n",
      " 0.40714449 0.43002254 0.43392706 0.43424917 0.45404814 0.45456312\n",
      " 0.44786115 0.44771637 0.46601654 0.45677606 0.41784161 0.41680219\n",
      " 0.43179528 0.44312162 0.47877817 0.45852096 0.46832152 0.47433603\n",
      " 0.45597951 0.46716785 0.47186733 0.4680886  0.44665835 0.45238888\n",
      " 0.44527595 0.44020233 0.45853716 0.46687618 0.46944297 0.47363877\n",
      " 0.52025484 0.55704909 0.56524217 0.5832599  0.57359614 0.55699788\n",
      " 0.58112292 0.56778737 0.57996387 0.60283076 0.64646118 0.64240544\n",
      " 0.66240848 0.66924335 0.7056425  0.70960039 0.71876918 0.78654734\n",
      " 0.80266658 0.78272273 0.83246523 0.90218379 0.96487977 1.\n",
      " 0.9866305  0.93990158 0.87122066 0.830755   0.9142961  0.96035695\n",
      " 0.90220851 0.88627462 0.87675054 0.89740064 0.89780339 0.72742939\n",
      " 0.70472234 0.67477703 0.64090621 0.60516262]\n",
      "5 day output [[0.5688544]]\n",
      "6 day input [0.27832087 0.28468918 0.28898017 0.31131807 0.31481891 0.31397319\n",
      " 0.31831897 0.31642607 0.31751112 0.33176464 0.3223373  0.32643872\n",
      " 0.32911329 0.33488571 0.3338053  0.32921095 0.33905379 0.34356902\n",
      " 0.37917117 0.3788273  0.36080327 0.37670237 0.37307722 0.37205768\n",
      " 0.38216212 0.39631798 0.39733879 0.39119224 0.38842138 0.40714449\n",
      " 0.43002254 0.43392706 0.43424917 0.45404814 0.45456312 0.44786115\n",
      " 0.44771637 0.46601654 0.45677606 0.41784161 0.41680219 0.43179528\n",
      " 0.44312162 0.47877817 0.45852096 0.46832152 0.47433603 0.45597951\n",
      " 0.46716785 0.47186733 0.4680886  0.44665835 0.45238888 0.44527595\n",
      " 0.44020233 0.45853716 0.46687618 0.46944297 0.47363877 0.52025484\n",
      " 0.55704909 0.56524217 0.5832599  0.57359614 0.55699788 0.58112292\n",
      " 0.56778737 0.57996387 0.60283076 0.64646118 0.64240544 0.66240848\n",
      " 0.66924335 0.7056425  0.70960039 0.71876918 0.78654734 0.80266658\n",
      " 0.78272273 0.83246523 0.90218379 0.96487977 1.         0.9866305\n",
      " 0.93990158 0.87122066 0.830755   0.9142961  0.96035695 0.90220851\n",
      " 0.88627462 0.87675054 0.89740064 0.89780339 0.72742939 0.70472234\n",
      " 0.67477703 0.64090621 0.60516262 0.56885439]\n",
      "6 day output [[0.5328327]]\n",
      "7 day input [0.28468918 0.28898017 0.31131807 0.31481891 0.31397319 0.31831897\n",
      " 0.31642607 0.31751112 0.33176464 0.3223373  0.32643872 0.32911329\n",
      " 0.33488571 0.3338053  0.32921095 0.33905379 0.34356902 0.37917117\n",
      " 0.3788273  0.36080327 0.37670237 0.37307722 0.37205768 0.38216212\n",
      " 0.39631798 0.39733879 0.39119224 0.38842138 0.40714449 0.43002254\n",
      " 0.43392706 0.43424917 0.45404814 0.45456312 0.44786115 0.44771637\n",
      " 0.46601654 0.45677606 0.41784161 0.41680219 0.43179528 0.44312162\n",
      " 0.47877817 0.45852096 0.46832152 0.47433603 0.45597951 0.46716785\n",
      " 0.47186733 0.4680886  0.44665835 0.45238888 0.44527595 0.44020233\n",
      " 0.45853716 0.46687618 0.46944297 0.47363877 0.52025484 0.55704909\n",
      " 0.56524217 0.5832599  0.57359614 0.55699788 0.58112292 0.56778737\n",
      " 0.57996387 0.60283076 0.64646118 0.64240544 0.66240848 0.66924335\n",
      " 0.7056425  0.70960039 0.71876918 0.78654734 0.80266658 0.78272273\n",
      " 0.83246523 0.90218379 0.96487977 1.         0.9866305  0.93990158\n",
      " 0.87122066 0.830755   0.9142961  0.96035695 0.90220851 0.88627462\n",
      " 0.87675054 0.89740064 0.89780339 0.72742939 0.70472234 0.67477703\n",
      " 0.64090621 0.60516262 0.56885439 0.53283268]\n",
      "7 day output [[0.49766004]]\n",
      "8 day input [0.28898017 0.31131807 0.31481891 0.31397319 0.31831897 0.31642607\n",
      " 0.31751112 0.33176464 0.3223373  0.32643872 0.32911329 0.33488571\n",
      " 0.3338053  0.32921095 0.33905379 0.34356902 0.37917117 0.3788273\n",
      " 0.36080327 0.37670237 0.37307722 0.37205768 0.38216212 0.39631798\n",
      " 0.39733879 0.39119224 0.38842138 0.40714449 0.43002254 0.43392706\n",
      " 0.43424917 0.45404814 0.45456312 0.44786115 0.44771637 0.46601654\n",
      " 0.45677606 0.41784161 0.41680219 0.43179528 0.44312162 0.47877817\n",
      " 0.45852096 0.46832152 0.47433603 0.45597951 0.46716785 0.47186733\n",
      " 0.4680886  0.44665835 0.45238888 0.44527595 0.44020233 0.45853716\n",
      " 0.46687618 0.46944297 0.47363877 0.52025484 0.55704909 0.56524217\n",
      " 0.5832599  0.57359614 0.55699788 0.58112292 0.56778737 0.57996387\n",
      " 0.60283076 0.64646118 0.64240544 0.66240848 0.66924335 0.7056425\n",
      " 0.70960039 0.71876918 0.78654734 0.80266658 0.78272273 0.83246523\n",
      " 0.90218379 0.96487977 1.         0.9866305  0.93990158 0.87122066\n",
      " 0.830755   0.9142961  0.96035695 0.90220851 0.88627462 0.87675054\n",
      " 0.89740064 0.89780339 0.72742939 0.70472234 0.67477703 0.64090621\n",
      " 0.60516262 0.56885439 0.53283268 0.49766004]\n",
      "8 day output [[0.46371022]]\n",
      "9 day input [0.31131807 0.31481891 0.31397319 0.31831897 0.31642607 0.31751112\n",
      " 0.33176464 0.3223373  0.32643872 0.32911329 0.33488571 0.3338053\n",
      " 0.32921095 0.33905379 0.34356902 0.37917117 0.3788273  0.36080327\n",
      " 0.37670237 0.37307722 0.37205768 0.38216212 0.39631798 0.39733879\n",
      " 0.39119224 0.38842138 0.40714449 0.43002254 0.43392706 0.43424917\n",
      " 0.45404814 0.45456312 0.44786115 0.44771637 0.46601654 0.45677606\n",
      " 0.41784161 0.41680219 0.43179528 0.44312162 0.47877817 0.45852096\n",
      " 0.46832152 0.47433603 0.45597951 0.46716785 0.47186733 0.4680886\n",
      " 0.44665835 0.45238888 0.44527595 0.44020233 0.45853716 0.46687618\n",
      " 0.46944297 0.47363877 0.52025484 0.55704909 0.56524217 0.5832599\n",
      " 0.57359614 0.55699788 0.58112292 0.56778737 0.57996387 0.60283076\n",
      " 0.64646118 0.64240544 0.66240848 0.66924335 0.7056425  0.70960039\n",
      " 0.71876918 0.78654734 0.80266658 0.78272273 0.83246523 0.90218379\n",
      " 0.96487977 1.         0.9866305  0.93990158 0.87122066 0.830755\n",
      " 0.9142961  0.96035695 0.90220851 0.88627462 0.87675054 0.89740064\n",
      " 0.89780339 0.72742939 0.70472234 0.67477703 0.64090621 0.60516262\n",
      " 0.56885439 0.53283268 0.49766004 0.46371022]\n",
      "9 day output [[0.43122965]]\n",
      "10 day input [0.31481891 0.31397319 0.31831897 0.31642607 0.31751112 0.33176464\n",
      " 0.3223373  0.32643872 0.32911329 0.33488571 0.3338053  0.32921095\n",
      " 0.33905379 0.34356902 0.37917117 0.3788273  0.36080327 0.37670237\n",
      " 0.37307722 0.37205768 0.38216212 0.39631798 0.39733879 0.39119224\n",
      " 0.38842138 0.40714449 0.43002254 0.43392706 0.43424917 0.45404814\n",
      " 0.45456312 0.44786115 0.44771637 0.46601654 0.45677606 0.41784161\n",
      " 0.41680219 0.43179528 0.44312162 0.47877817 0.45852096 0.46832152\n",
      " 0.47433603 0.45597951 0.46716785 0.47186733 0.4680886  0.44665835\n",
      " 0.45238888 0.44527595 0.44020233 0.45853716 0.46687618 0.46944297\n",
      " 0.47363877 0.52025484 0.55704909 0.56524217 0.5832599  0.57359614\n",
      " 0.55699788 0.58112292 0.56778737 0.57996387 0.60283076 0.64646118\n",
      " 0.64240544 0.66240848 0.66924335 0.7056425  0.70960039 0.71876918\n",
      " 0.78654734 0.80266658 0.78272273 0.83246523 0.90218379 0.96487977\n",
      " 1.         0.9866305  0.93990158 0.87122066 0.830755   0.9142961\n",
      " 0.96035695 0.90220851 0.88627462 0.87675054 0.89740064 0.89780339\n",
      " 0.72742939 0.70472234 0.67477703 0.64090621 0.60516262 0.56885439\n",
      " 0.53283268 0.49766004 0.46371022 0.43122965]\n",
      "10 day output [[0.40037438]]\n",
      "11 day input [0.31397319 0.31831897 0.31642607 0.31751112 0.33176464 0.3223373\n",
      " 0.32643872 0.32911329 0.33488571 0.3338053  0.32921095 0.33905379\n",
      " 0.34356902 0.37917117 0.3788273  0.36080327 0.37670237 0.37307722\n",
      " 0.37205768 0.38216212 0.39631798 0.39733879 0.39119224 0.38842138\n",
      " 0.40714449 0.43002254 0.43392706 0.43424917 0.45404814 0.45456312\n",
      " 0.44786115 0.44771637 0.46601654 0.45677606 0.41784161 0.41680219\n",
      " 0.43179528 0.44312162 0.47877817 0.45852096 0.46832152 0.47433603\n",
      " 0.45597951 0.46716785 0.47186733 0.4680886  0.44665835 0.45238888\n",
      " 0.44527595 0.44020233 0.45853716 0.46687618 0.46944297 0.47363877\n",
      " 0.52025484 0.55704909 0.56524217 0.5832599  0.57359614 0.55699788\n",
      " 0.58112292 0.56778737 0.57996387 0.60283076 0.64646118 0.64240544\n",
      " 0.66240848 0.66924335 0.7056425  0.70960039 0.71876918 0.78654734\n",
      " 0.80266658 0.78272273 0.83246523 0.90218379 0.96487977 1.\n",
      " 0.9866305  0.93990158 0.87122066 0.830755   0.9142961  0.96035695\n",
      " 0.90220851 0.88627462 0.87675054 0.89740064 0.89780339 0.72742939\n",
      " 0.70472234 0.67477703 0.64090621 0.60516262 0.56885439 0.53283268\n",
      " 0.49766004 0.46371022 0.43122965 0.40037438]\n",
      "11 day output [[0.37123486]]\n",
      "12 day input [0.31831897 0.31642607 0.31751112 0.33176464 0.3223373  0.32643872\n",
      " 0.32911329 0.33488571 0.3338053  0.32921095 0.33905379 0.34356902\n",
      " 0.37917117 0.3788273  0.36080327 0.37670237 0.37307722 0.37205768\n",
      " 0.38216212 0.39631798 0.39733879 0.39119224 0.38842138 0.40714449\n",
      " 0.43002254 0.43392706 0.43424917 0.45404814 0.45456312 0.44786115\n",
      " 0.44771637 0.46601654 0.45677606 0.41784161 0.41680219 0.43179528\n",
      " 0.44312162 0.47877817 0.45852096 0.46832152 0.47433603 0.45597951\n",
      " 0.46716785 0.47186733 0.4680886  0.44665835 0.45238888 0.44527595\n",
      " 0.44020233 0.45853716 0.46687618 0.46944297 0.47363877 0.52025484\n",
      " 0.55704909 0.56524217 0.5832599  0.57359614 0.55699788 0.58112292\n",
      " 0.56778737 0.57996387 0.60283076 0.64646118 0.64240544 0.66240848\n",
      " 0.66924335 0.7056425  0.70960039 0.71876918 0.78654734 0.80266658\n",
      " 0.78272273 0.83246523 0.90218379 0.96487977 1.         0.9866305\n",
      " 0.93990158 0.87122066 0.830755   0.9142961  0.96035695 0.90220851\n",
      " 0.88627462 0.87675054 0.89740064 0.89780339 0.72742939 0.70472234\n",
      " 0.67477703 0.64090621 0.60516262 0.56885439 0.53283268 0.49766004\n",
      " 0.46371022 0.43122965 0.40037438 0.37123486]\n",
      "12 day output [[0.34385243]]\n",
      "13 day input [0.31642607 0.31751112 0.33176464 0.3223373  0.32643872 0.32911329\n",
      " 0.33488571 0.3338053  0.32921095 0.33905379 0.34356902 0.37917117\n",
      " 0.3788273  0.36080327 0.37670237 0.37307722 0.37205768 0.38216212\n",
      " 0.39631798 0.39733879 0.39119224 0.38842138 0.40714449 0.43002254\n",
      " 0.43392706 0.43424917 0.45404814 0.45456312 0.44786115 0.44771637\n",
      " 0.46601654 0.45677606 0.41784161 0.41680219 0.43179528 0.44312162\n",
      " 0.47877817 0.45852096 0.46832152 0.47433603 0.45597951 0.46716785\n",
      " 0.47186733 0.4680886  0.44665835 0.45238888 0.44527595 0.44020233\n",
      " 0.45853716 0.46687618 0.46944297 0.47363877 0.52025484 0.55704909\n",
      " 0.56524217 0.5832599  0.57359614 0.55699788 0.58112292 0.56778737\n",
      " 0.57996387 0.60283076 0.64646118 0.64240544 0.66240848 0.66924335\n",
      " 0.7056425  0.70960039 0.71876918 0.78654734 0.80266658 0.78272273\n",
      " 0.83246523 0.90218379 0.96487977 1.         0.9866305  0.93990158\n",
      " 0.87122066 0.830755   0.9142961  0.96035695 0.90220851 0.88627462\n",
      " 0.87675054 0.89740064 0.89780339 0.72742939 0.70472234 0.67477703\n",
      " 0.64090621 0.60516262 0.56885439 0.53283268 0.49766004 0.46371022\n",
      " 0.43122965 0.40037438 0.37123486 0.34385243]\n",
      "13 day output [[0.31823134]]\n",
      "14 day input [0.31751112 0.33176464 0.3223373  0.32643872 0.32911329 0.33488571\n",
      " 0.3338053  0.32921095 0.33905379 0.34356902 0.37917117 0.3788273\n",
      " 0.36080327 0.37670237 0.37307722 0.37205768 0.38216212 0.39631798\n",
      " 0.39733879 0.39119224 0.38842138 0.40714449 0.43002254 0.43392706\n",
      " 0.43424917 0.45404814 0.45456312 0.44786115 0.44771637 0.46601654\n",
      " 0.45677606 0.41784161 0.41680219 0.43179528 0.44312162 0.47877817\n",
      " 0.45852096 0.46832152 0.47433603 0.45597951 0.46716785 0.47186733\n",
      " 0.4680886  0.44665835 0.45238888 0.44527595 0.44020233 0.45853716\n",
      " 0.46687618 0.46944297 0.47363877 0.52025484 0.55704909 0.56524217\n",
      " 0.5832599  0.57359614 0.55699788 0.58112292 0.56778737 0.57996387\n",
      " 0.60283076 0.64646118 0.64240544 0.66240848 0.66924335 0.7056425\n",
      " 0.70960039 0.71876918 0.78654734 0.80266658 0.78272273 0.83246523\n",
      " 0.90218379 0.96487977 1.         0.9866305  0.93990158 0.87122066\n",
      " 0.830755   0.9142961  0.96035695 0.90220851 0.88627462 0.87675054\n",
      " 0.89740064 0.89780339 0.72742939 0.70472234 0.67477703 0.64090621\n",
      " 0.60516262 0.56885439 0.53283268 0.49766004 0.46371022 0.43122965\n",
      " 0.40037438 0.37123486 0.34385243 0.31823134]\n",
      "14 day output [[0.2943472]]\n",
      "15 day input [0.33176464 0.3223373  0.32643872 0.32911329 0.33488571 0.3338053\n",
      " 0.32921095 0.33905379 0.34356902 0.37917117 0.3788273  0.36080327\n",
      " 0.37670237 0.37307722 0.37205768 0.38216212 0.39631798 0.39733879\n",
      " 0.39119224 0.38842138 0.40714449 0.43002254 0.43392706 0.43424917\n",
      " 0.45404814 0.45456312 0.44786115 0.44771637 0.46601654 0.45677606\n",
      " 0.41784161 0.41680219 0.43179528 0.44312162 0.47877817 0.45852096\n",
      " 0.46832152 0.47433603 0.45597951 0.46716785 0.47186733 0.4680886\n",
      " 0.44665835 0.45238888 0.44527595 0.44020233 0.45853716 0.46687618\n",
      " 0.46944297 0.47363877 0.52025484 0.55704909 0.56524217 0.5832599\n",
      " 0.57359614 0.55699788 0.58112292 0.56778737 0.57996387 0.60283076\n",
      " 0.64646118 0.64240544 0.66240848 0.66924335 0.7056425  0.70960039\n",
      " 0.71876918 0.78654734 0.80266658 0.78272273 0.83246523 0.90218379\n",
      " 0.96487977 1.         0.9866305  0.93990158 0.87122066 0.830755\n",
      " 0.9142961  0.96035695 0.90220851 0.88627462 0.87675054 0.89740064\n",
      " 0.89780339 0.72742939 0.70472234 0.67477703 0.64090621 0.60516262\n",
      " 0.56885439 0.53283268 0.49766004 0.46371022 0.43122965 0.40037438\n",
      " 0.37123486 0.34385243 0.31823134 0.2943472 ]\n",
      "15 day output [[0.27215427]]\n",
      "16 day input [0.3223373  0.32643872 0.32911329 0.33488571 0.3338053  0.32921095\n",
      " 0.33905379 0.34356902 0.37917117 0.3788273  0.36080327 0.37670237\n",
      " 0.37307722 0.37205768 0.38216212 0.39631798 0.39733879 0.39119224\n",
      " 0.38842138 0.40714449 0.43002254 0.43392706 0.43424917 0.45404814\n",
      " 0.45456312 0.44786115 0.44771637 0.46601654 0.45677606 0.41784161\n",
      " 0.41680219 0.43179528 0.44312162 0.47877817 0.45852096 0.46832152\n",
      " 0.47433603 0.45597951 0.46716785 0.47186733 0.4680886  0.44665835\n",
      " 0.45238888 0.44527595 0.44020233 0.45853716 0.46687618 0.46944297\n",
      " 0.47363877 0.52025484 0.55704909 0.56524217 0.5832599  0.57359614\n",
      " 0.55699788 0.58112292 0.56778737 0.57996387 0.60283076 0.64646118\n",
      " 0.64240544 0.66240848 0.66924335 0.7056425  0.70960039 0.71876918\n",
      " 0.78654734 0.80266658 0.78272273 0.83246523 0.90218379 0.96487977\n",
      " 1.         0.9866305  0.93990158 0.87122066 0.830755   0.9142961\n",
      " 0.96035695 0.90220851 0.88627462 0.87675054 0.89740064 0.89780339\n",
      " 0.72742939 0.70472234 0.67477703 0.64090621 0.60516262 0.56885439\n",
      " 0.53283268 0.49766004 0.46371022 0.43122965 0.40037438 0.37123486\n",
      " 0.34385243 0.31823134 0.2943472  0.27215427]\n",
      "16 day output [[0.25159043]]\n",
      "17 day input [0.32643872 0.32911329 0.33488571 0.3338053  0.32921095 0.33905379\n",
      " 0.34356902 0.37917117 0.3788273  0.36080327 0.37670237 0.37307722\n",
      " 0.37205768 0.38216212 0.39631798 0.39733879 0.39119224 0.38842138\n",
      " 0.40714449 0.43002254 0.43392706 0.43424917 0.45404814 0.45456312\n",
      " 0.44786115 0.44771637 0.46601654 0.45677606 0.41784161 0.41680219\n",
      " 0.43179528 0.44312162 0.47877817 0.45852096 0.46832152 0.47433603\n",
      " 0.45597951 0.46716785 0.47186733 0.4680886  0.44665835 0.45238888\n",
      " 0.44527595 0.44020233 0.45853716 0.46687618 0.46944297 0.47363877\n",
      " 0.52025484 0.55704909 0.56524217 0.5832599  0.57359614 0.55699788\n",
      " 0.58112292 0.56778737 0.57996387 0.60283076 0.64646118 0.64240544\n",
      " 0.66240848 0.66924335 0.7056425  0.70960039 0.71876918 0.78654734\n",
      " 0.80266658 0.78272273 0.83246523 0.90218379 0.96487977 1.\n",
      " 0.9866305  0.93990158 0.87122066 0.830755   0.9142961  0.96035695\n",
      " 0.90220851 0.88627462 0.87675054 0.89740064 0.89780339 0.72742939\n",
      " 0.70472234 0.67477703 0.64090621 0.60516262 0.56885439 0.53283268\n",
      " 0.49766004 0.46371022 0.43122965 0.40037438 0.37123486 0.34385243\n",
      " 0.31823134 0.2943472  0.27215427 0.25159043]\n",
      "17 day output [[0.23258244]]\n",
      "18 day input [0.32911329 0.33488571 0.3338053  0.32921095 0.33905379 0.34356902\n",
      " 0.37917117 0.3788273  0.36080327 0.37670237 0.37307722 0.37205768\n",
      " 0.38216212 0.39631798 0.39733879 0.39119224 0.38842138 0.40714449\n",
      " 0.43002254 0.43392706 0.43424917 0.45404814 0.45456312 0.44786115\n",
      " 0.44771637 0.46601654 0.45677606 0.41784161 0.41680219 0.43179528\n",
      " 0.44312162 0.47877817 0.45852096 0.46832152 0.47433603 0.45597951\n",
      " 0.46716785 0.47186733 0.4680886  0.44665835 0.45238888 0.44527595\n",
      " 0.44020233 0.45853716 0.46687618 0.46944297 0.47363877 0.52025484\n",
      " 0.55704909 0.56524217 0.5832599  0.57359614 0.55699788 0.58112292\n",
      " 0.56778737 0.57996387 0.60283076 0.64646118 0.64240544 0.66240848\n",
      " 0.66924335 0.7056425  0.70960039 0.71876918 0.78654734 0.80266658\n",
      " 0.78272273 0.83246523 0.90218379 0.96487977 1.         0.9866305\n",
      " 0.93990158 0.87122066 0.830755   0.9142961  0.96035695 0.90220851\n",
      " 0.88627462 0.87675054 0.89740064 0.89780339 0.72742939 0.70472234\n",
      " 0.67477703 0.64090621 0.60516262 0.56885439 0.53283268 0.49766004\n",
      " 0.46371022 0.43122965 0.40037438 0.37123486 0.34385243 0.31823134\n",
      " 0.2943472  0.27215427 0.25159043 0.23258244]\n",
      "18 day output [[0.21504907]]\n",
      "19 day input [0.33488571 0.3338053  0.32921095 0.33905379 0.34356902 0.37917117\n",
      " 0.3788273  0.36080327 0.37670237 0.37307722 0.37205768 0.38216212\n",
      " 0.39631798 0.39733879 0.39119224 0.38842138 0.40714449 0.43002254\n",
      " 0.43392706 0.43424917 0.45404814 0.45456312 0.44786115 0.44771637\n",
      " 0.46601654 0.45677606 0.41784161 0.41680219 0.43179528 0.44312162\n",
      " 0.47877817 0.45852096 0.46832152 0.47433603 0.45597951 0.46716785\n",
      " 0.47186733 0.4680886  0.44665835 0.45238888 0.44527595 0.44020233\n",
      " 0.45853716 0.46687618 0.46944297 0.47363877 0.52025484 0.55704909\n",
      " 0.56524217 0.5832599  0.57359614 0.55699788 0.58112292 0.56778737\n",
      " 0.57996387 0.60283076 0.64646118 0.64240544 0.66240848 0.66924335\n",
      " 0.7056425  0.70960039 0.71876918 0.78654734 0.80266658 0.78272273\n",
      " 0.83246523 0.90218379 0.96487977 1.         0.9866305  0.93990158\n",
      " 0.87122066 0.830755   0.9142961  0.96035695 0.90220851 0.88627462\n",
      " 0.87675054 0.89740064 0.89780339 0.72742939 0.70472234 0.67477703\n",
      " 0.64090621 0.60516262 0.56885439 0.53283268 0.49766004 0.46371022\n",
      " 0.43122965 0.40037438 0.37123486 0.34385243 0.31823134 0.2943472\n",
      " 0.27215427 0.25159043 0.23258244 0.21504907]\n",
      "19 day output [[0.19890408]]\n",
      "20 day input [0.3338053  0.32921095 0.33905379 0.34356902 0.37917117 0.3788273\n",
      " 0.36080327 0.37670237 0.37307722 0.37205768 0.38216212 0.39631798\n",
      " 0.39733879 0.39119224 0.38842138 0.40714449 0.43002254 0.43392706\n",
      " 0.43424917 0.45404814 0.45456312 0.44786115 0.44771637 0.46601654\n",
      " 0.45677606 0.41784161 0.41680219 0.43179528 0.44312162 0.47877817\n",
      " 0.45852096 0.46832152 0.47433603 0.45597951 0.46716785 0.47186733\n",
      " 0.4680886  0.44665835 0.45238888 0.44527595 0.44020233 0.45853716\n",
      " 0.46687618 0.46944297 0.47363877 0.52025484 0.55704909 0.56524217\n",
      " 0.5832599  0.57359614 0.55699788 0.58112292 0.56778737 0.57996387\n",
      " 0.60283076 0.64646118 0.64240544 0.66240848 0.66924335 0.7056425\n",
      " 0.70960039 0.71876918 0.78654734 0.80266658 0.78272273 0.83246523\n",
      " 0.90218379 0.96487977 1.         0.9866305  0.93990158 0.87122066\n",
      " 0.830755   0.9142961  0.96035695 0.90220851 0.88627462 0.87675054\n",
      " 0.89740064 0.89780339 0.72742939 0.70472234 0.67477703 0.64090621\n",
      " 0.60516262 0.56885439 0.53283268 0.49766004 0.46371022 0.43122965\n",
      " 0.40037438 0.37123486 0.34385243 0.31823134 0.2943472  0.27215427\n",
      " 0.25159043 0.23258244 0.21504907 0.19890408]\n",
      "20 day output [[0.18405905]]\n",
      "21 day input [0.32921095 0.33905379 0.34356902 0.37917117 0.3788273  0.36080327\n",
      " 0.37670237 0.37307722 0.37205768 0.38216212 0.39631798 0.39733879\n",
      " 0.39119224 0.38842138 0.40714449 0.43002254 0.43392706 0.43424917\n",
      " 0.45404814 0.45456312 0.44786115 0.44771637 0.46601654 0.45677606\n",
      " 0.41784161 0.41680219 0.43179528 0.44312162 0.47877817 0.45852096\n",
      " 0.46832152 0.47433603 0.45597951 0.46716785 0.47186733 0.4680886\n",
      " 0.44665835 0.45238888 0.44527595 0.44020233 0.45853716 0.46687618\n",
      " 0.46944297 0.47363877 0.52025484 0.55704909 0.56524217 0.5832599\n",
      " 0.57359614 0.55699788 0.58112292 0.56778737 0.57996387 0.60283076\n",
      " 0.64646118 0.64240544 0.66240848 0.66924335 0.7056425  0.70960039\n",
      " 0.71876918 0.78654734 0.80266658 0.78272273 0.83246523 0.90218379\n",
      " 0.96487977 1.         0.9866305  0.93990158 0.87122066 0.830755\n",
      " 0.9142961  0.96035695 0.90220851 0.88627462 0.87675054 0.89740064\n",
      " 0.89780339 0.72742939 0.70472234 0.67477703 0.64090621 0.60516262\n",
      " 0.56885439 0.53283268 0.49766004 0.46371022 0.43122965 0.40037438\n",
      " 0.37123486 0.34385243 0.31823134 0.2943472  0.27215427 0.25159043\n",
      " 0.23258244 0.21504907 0.19890408 0.18405905]\n",
      "21 day output [[0.17042504]]\n",
      "22 day input [0.33905379 0.34356902 0.37917117 0.3788273  0.36080327 0.37670237\n",
      " 0.37307722 0.37205768 0.38216212 0.39631798 0.39733879 0.39119224\n",
      " 0.38842138 0.40714449 0.43002254 0.43392706 0.43424917 0.45404814\n",
      " 0.45456312 0.44786115 0.44771637 0.46601654 0.45677606 0.41784161\n",
      " 0.41680219 0.43179528 0.44312162 0.47877817 0.45852096 0.46832152\n",
      " 0.47433603 0.45597951 0.46716785 0.47186733 0.4680886  0.44665835\n",
      " 0.45238888 0.44527595 0.44020233 0.45853716 0.46687618 0.46944297\n",
      " 0.47363877 0.52025484 0.55704909 0.56524217 0.5832599  0.57359614\n",
      " 0.55699788 0.58112292 0.56778737 0.57996387 0.60283076 0.64646118\n",
      " 0.64240544 0.66240848 0.66924335 0.7056425  0.70960039 0.71876918\n",
      " 0.78654734 0.80266658 0.78272273 0.83246523 0.90218379 0.96487977\n",
      " 1.         0.9866305  0.93990158 0.87122066 0.830755   0.9142961\n",
      " 0.96035695 0.90220851 0.88627462 0.87675054 0.89740064 0.89780339\n",
      " 0.72742939 0.70472234 0.67477703 0.64090621 0.60516262 0.56885439\n",
      " 0.53283268 0.49766004 0.46371022 0.43122965 0.40037438 0.37123486\n",
      " 0.34385243 0.31823134 0.2943472  0.27215427 0.25159043 0.23258244\n",
      " 0.21504907 0.19890408 0.18405905 0.17042504]\n",
      "22 day output [[0.15791412]]\n",
      "23 day input [0.34356902 0.37917117 0.3788273  0.36080327 0.37670237 0.37307722\n",
      " 0.37205768 0.38216212 0.39631798 0.39733879 0.39119224 0.38842138\n",
      " 0.40714449 0.43002254 0.43392706 0.43424917 0.45404814 0.45456312\n",
      " 0.44786115 0.44771637 0.46601654 0.45677606 0.41784161 0.41680219\n",
      " 0.43179528 0.44312162 0.47877817 0.45852096 0.46832152 0.47433603\n",
      " 0.45597951 0.46716785 0.47186733 0.4680886  0.44665835 0.45238888\n",
      " 0.44527595 0.44020233 0.45853716 0.46687618 0.46944297 0.47363877\n",
      " 0.52025484 0.55704909 0.56524217 0.5832599  0.57359614 0.55699788\n",
      " 0.58112292 0.56778737 0.57996387 0.60283076 0.64646118 0.64240544\n",
      " 0.66240848 0.66924335 0.7056425  0.70960039 0.71876918 0.78654734\n",
      " 0.80266658 0.78272273 0.83246523 0.90218379 0.96487977 1.\n",
      " 0.9866305  0.93990158 0.87122066 0.830755   0.9142961  0.96035695\n",
      " 0.90220851 0.88627462 0.87675054 0.89740064 0.89780339 0.72742939\n",
      " 0.70472234 0.67477703 0.64090621 0.60516262 0.56885439 0.53283268\n",
      " 0.49766004 0.46371022 0.43122965 0.40037438 0.37123486 0.34385243\n",
      " 0.31823134 0.2943472  0.27215427 0.25159043 0.23258244 0.21504907\n",
      " 0.19890408 0.18405905 0.17042504 0.15791412]\n",
      "23 day output [[0.14644076]]\n",
      "24 day input [0.37917117 0.3788273  0.36080327 0.37670237 0.37307722 0.37205768\n",
      " 0.38216212 0.39631798 0.39733879 0.39119224 0.38842138 0.40714449\n",
      " 0.43002254 0.43392706 0.43424917 0.45404814 0.45456312 0.44786115\n",
      " 0.44771637 0.46601654 0.45677606 0.41784161 0.41680219 0.43179528\n",
      " 0.44312162 0.47877817 0.45852096 0.46832152 0.47433603 0.45597951\n",
      " 0.46716785 0.47186733 0.4680886  0.44665835 0.45238888 0.44527595\n",
      " 0.44020233 0.45853716 0.46687618 0.46944297 0.47363877 0.52025484\n",
      " 0.55704909 0.56524217 0.5832599  0.57359614 0.55699788 0.58112292\n",
      " 0.56778737 0.57996387 0.60283076 0.64646118 0.64240544 0.66240848\n",
      " 0.66924335 0.7056425  0.70960039 0.71876918 0.78654734 0.80266658\n",
      " 0.78272273 0.83246523 0.90218379 0.96487977 1.         0.9866305\n",
      " 0.93990158 0.87122066 0.830755   0.9142961  0.96035695 0.90220851\n",
      " 0.88627462 0.87675054 0.89740064 0.89780339 0.72742939 0.70472234\n",
      " 0.67477703 0.64090621 0.60516262 0.56885439 0.53283268 0.49766004\n",
      " 0.46371022 0.43122965 0.40037438 0.37123486 0.34385243 0.31823134\n",
      " 0.2943472  0.27215427 0.25159043 0.23258244 0.21504907 0.19890408\n",
      " 0.18405905 0.17042504 0.15791412 0.14644076]\n",
      "24 day output [[0.13592257]]\n",
      "25 day input [0.3788273  0.36080327 0.37670237 0.37307722 0.37205768 0.38216212\n",
      " 0.39631798 0.39733879 0.39119224 0.38842138 0.40714449 0.43002254\n",
      " 0.43392706 0.43424917 0.45404814 0.45456312 0.44786115 0.44771637\n",
      " 0.46601654 0.45677606 0.41784161 0.41680219 0.43179528 0.44312162\n",
      " 0.47877817 0.45852096 0.46832152 0.47433603 0.45597951 0.46716785\n",
      " 0.47186733 0.4680886  0.44665835 0.45238888 0.44527595 0.44020233\n",
      " 0.45853716 0.46687618 0.46944297 0.47363877 0.52025484 0.55704909\n",
      " 0.56524217 0.5832599  0.57359614 0.55699788 0.58112292 0.56778737\n",
      " 0.57996387 0.60283076 0.64646118 0.64240544 0.66240848 0.66924335\n",
      " 0.7056425  0.70960039 0.71876918 0.78654734 0.80266658 0.78272273\n",
      " 0.83246523 0.90218379 0.96487977 1.         0.9866305  0.93990158\n",
      " 0.87122066 0.830755   0.9142961  0.96035695 0.90220851 0.88627462\n",
      " 0.87675054 0.89740064 0.89780339 0.72742939 0.70472234 0.67477703\n",
      " 0.64090621 0.60516262 0.56885439 0.53283268 0.49766004 0.46371022\n",
      " 0.43122965 0.40037438 0.37123486 0.34385243 0.31823134 0.2943472\n",
      " 0.27215427 0.25159043 0.23258244 0.21504907 0.19890408 0.18405905\n",
      " 0.17042504 0.15791412 0.14644076 0.13592257]\n",
      "25 day output [[0.12628096]]\n",
      "26 day input [0.36080327 0.37670237 0.37307722 0.37205768 0.38216212 0.39631798\n",
      " 0.39733879 0.39119224 0.38842138 0.40714449 0.43002254 0.43392706\n",
      " 0.43424917 0.45404814 0.45456312 0.44786115 0.44771637 0.46601654\n",
      " 0.45677606 0.41784161 0.41680219 0.43179528 0.44312162 0.47877817\n",
      " 0.45852096 0.46832152 0.47433603 0.45597951 0.46716785 0.47186733\n",
      " 0.4680886  0.44665835 0.45238888 0.44527595 0.44020233 0.45853716\n",
      " 0.46687618 0.46944297 0.47363877 0.52025484 0.55704909 0.56524217\n",
      " 0.5832599  0.57359614 0.55699788 0.58112292 0.56778737 0.57996387\n",
      " 0.60283076 0.64646118 0.64240544 0.66240848 0.66924335 0.7056425\n",
      " 0.70960039 0.71876918 0.78654734 0.80266658 0.78272273 0.83246523\n",
      " 0.90218379 0.96487977 1.         0.9866305  0.93990158 0.87122066\n",
      " 0.830755   0.9142961  0.96035695 0.90220851 0.88627462 0.87675054\n",
      " 0.89740064 0.89780339 0.72742939 0.70472234 0.67477703 0.64090621\n",
      " 0.60516262 0.56885439 0.53283268 0.49766004 0.46371022 0.43122965\n",
      " 0.40037438 0.37123486 0.34385243 0.31823134 0.2943472  0.27215427\n",
      " 0.25159043 0.23258244 0.21504907 0.19890408 0.18405905 0.17042504\n",
      " 0.15791412 0.14644076 0.13592257 0.12628096]\n",
      "26 day output [[0.11744152]]\n",
      "27 day input [0.37670237 0.37307722 0.37205768 0.38216212 0.39631798 0.39733879\n",
      " 0.39119224 0.38842138 0.40714449 0.43002254 0.43392706 0.43424917\n",
      " 0.45404814 0.45456312 0.44786115 0.44771637 0.46601654 0.45677606\n",
      " 0.41784161 0.41680219 0.43179528 0.44312162 0.47877817 0.45852096\n",
      " 0.46832152 0.47433603 0.45597951 0.46716785 0.47186733 0.4680886\n",
      " 0.44665835 0.45238888 0.44527595 0.44020233 0.45853716 0.46687618\n",
      " 0.46944297 0.47363877 0.52025484 0.55704909 0.56524217 0.5832599\n",
      " 0.57359614 0.55699788 0.58112292 0.56778737 0.57996387 0.60283076\n",
      " 0.64646118 0.64240544 0.66240848 0.66924335 0.7056425  0.70960039\n",
      " 0.71876918 0.78654734 0.80266658 0.78272273 0.83246523 0.90218379\n",
      " 0.96487977 1.         0.9866305  0.93990158 0.87122066 0.830755\n",
      " 0.9142961  0.96035695 0.90220851 0.88627462 0.87675054 0.89740064\n",
      " 0.89780339 0.72742939 0.70472234 0.67477703 0.64090621 0.60516262\n",
      " 0.56885439 0.53283268 0.49766004 0.46371022 0.43122965 0.40037438\n",
      " 0.37123486 0.34385243 0.31823134 0.2943472  0.27215427 0.25159043\n",
      " 0.23258244 0.21504907 0.19890408 0.18405905 0.17042504 0.15791412\n",
      " 0.14644076 0.13592257 0.12628096 0.11744152]\n",
      "27 day output [[0.10933442]]\n",
      "28 day input [0.37307722 0.37205768 0.38216212 0.39631798 0.39733879 0.39119224\n",
      " 0.38842138 0.40714449 0.43002254 0.43392706 0.43424917 0.45404814\n",
      " 0.45456312 0.44786115 0.44771637 0.46601654 0.45677606 0.41784161\n",
      " 0.41680219 0.43179528 0.44312162 0.47877817 0.45852096 0.46832152\n",
      " 0.47433603 0.45597951 0.46716785 0.47186733 0.4680886  0.44665835\n",
      " 0.45238888 0.44527595 0.44020233 0.45853716 0.46687618 0.46944297\n",
      " 0.47363877 0.52025484 0.55704909 0.56524217 0.5832599  0.57359614\n",
      " 0.55699788 0.58112292 0.56778737 0.57996387 0.60283076 0.64646118\n",
      " 0.64240544 0.66240848 0.66924335 0.7056425  0.70960039 0.71876918\n",
      " 0.78654734 0.80266658 0.78272273 0.83246523 0.90218379 0.96487977\n",
      " 1.         0.9866305  0.93990158 0.87122066 0.830755   0.9142961\n",
      " 0.96035695 0.90220851 0.88627462 0.87675054 0.89740064 0.89780339\n",
      " 0.72742939 0.70472234 0.67477703 0.64090621 0.60516262 0.56885439\n",
      " 0.53283268 0.49766004 0.46371022 0.43122965 0.40037438 0.37123486\n",
      " 0.34385243 0.31823134 0.2943472  0.27215427 0.25159043 0.23258244\n",
      " 0.21504907 0.19890408 0.18405905 0.17042504 0.15791412 0.14644076\n",
      " 0.13592257 0.12628096 0.11744152 0.10933442]\n",
      "28 day output [[0.10189429]]\n",
      "29 day input [0.37205768 0.38216212 0.39631798 0.39733879 0.39119224 0.38842138\n",
      " 0.40714449 0.43002254 0.43392706 0.43424917 0.45404814 0.45456312\n",
      " 0.44786115 0.44771637 0.46601654 0.45677606 0.41784161 0.41680219\n",
      " 0.43179528 0.44312162 0.47877817 0.45852096 0.46832152 0.47433603\n",
      " 0.45597951 0.46716785 0.47186733 0.4680886  0.44665835 0.45238888\n",
      " 0.44527595 0.44020233 0.45853716 0.46687618 0.46944297 0.47363877\n",
      " 0.52025484 0.55704909 0.56524217 0.5832599  0.57359614 0.55699788\n",
      " 0.58112292 0.56778737 0.57996387 0.60283076 0.64646118 0.64240544\n",
      " 0.66240848 0.66924335 0.7056425  0.70960039 0.71876918 0.78654734\n",
      " 0.80266658 0.78272273 0.83246523 0.90218379 0.96487977 1.\n",
      " 0.9866305  0.93990158 0.87122066 0.830755   0.9142961  0.96035695\n",
      " 0.90220851 0.88627462 0.87675054 0.89740064 0.89780339 0.72742939\n",
      " 0.70472234 0.67477703 0.64090621 0.60516262 0.56885439 0.53283268\n",
      " 0.49766004 0.46371022 0.43122965 0.40037438 0.37123486 0.34385243\n",
      " 0.31823134 0.2943472  0.27215427 0.25159043 0.23258244 0.21504907\n",
      " 0.19890408 0.18405905 0.17042504 0.15791412 0.14644076 0.13592257\n",
      " 0.12628096 0.11744152 0.10933442 0.10189429]\n",
      "29 day output [[0.09506056]]\n",
      "[[0.7274293899536133], [0.7047223448753357], [0.6747770309448242], [0.6409062147140503], [0.6051626205444336], [0.5688543915748596], [0.532832682132721], [0.4976600408554077], [0.463710218667984], [0.4312296509742737], [0.4003743827342987], [0.37123486399650574], [0.3438524305820465], [0.31823134422302246], [0.29434719681739807], [0.2721542716026306], [0.25159043073654175], [0.2325824350118637], [0.21504907310009003], [0.19890408217906952], [0.1840590536594391], [0.17042504251003265], [0.15791411697864532], [0.1464407593011856], [0.13592256605625153], [0.12628096342086792], [0.11744152009487152], [0.10933441668748856], [0.10189428925514221], [0.0950605571269989]]\n"
     ]
    }
   ],
   "source": [
    "# predict for next 30 days\n",
    "lst_output=[]\n",
    "n_steps=100\n",
    "i=0\n",
    "\n",
    "while i<30:\n",
    "    if(len(temp_input)>100):\n",
    "        x_input=np.array(temp_input[1:])\n",
    "        print(\"{} day input {}\".format(i,x_input))\n",
    "        x_input=x_input.reshape(1,-1)\n",
    "        x_input=x_input.reshape((1,n_steps,1))\n",
    "        yhat=model.predict(x_input, verbose=0)\n",
    "        print(\"{} day output {}\".format(i,yhat))\n",
    "        temp_input.extend(yhat[0].tolist())\n",
    "        temp_input=temp_input[1:]\n",
    "        lst_output.extend(yhat.tolist())\n",
    "        i=i+1\n",
    "    else:\n",
    "        x_input=x_input.reshape((1, n_steps, 1))\n",
    "        yhat=model.predict(x_input, verbose=0)\n",
    "        print(yhat[0])\n",
    "        temp_input.extend(yhat[0].tolist())\n",
    "        print(len(temp_input))\n",
    "        lst_output.extend(yhat.tolist())\n",
    "        i=i+1\n",
    "    \n",
    "print(lst_output)    \n",
    "    \n"
   ]
  },
  {
   "cell_type": "code",
   "execution_count": 36,
   "metadata": {},
   "outputs": [],
   "source": [
    "day_new=np.arange(1,101)\n",
    "day_pred=np.arange(1,101)"
   ]
  },
  {
   "cell_type": "code",
   "execution_count": 37,
   "metadata": {},
   "outputs": [
    {
     "data": {
      "text/plain": [
       "2317"
      ]
     },
     "execution_count": 37,
     "metadata": {},
     "output_type": "execute_result"
    }
   ],
   "source": [
    "len(df1)"
   ]
  },
  {
   "cell_type": "code",
   "execution_count": 38,
   "metadata": {},
   "outputs": [],
   "source": [
    "df3=df1.tolist()\n",
    "df3.extend(lst_output)"
   ]
  },
  {
   "cell_type": "code",
   "execution_count": 39,
   "metadata": {},
   "outputs": [
    {
     "data": {
      "text/plain": [
       "[<matplotlib.lines.Line2D at 0x25d8e2e5d88>]"
      ]
     },
     "execution_count": 39,
     "metadata": {},
     "output_type": "execute_result"
    },
    {
     "data": {
      "image/png": "[encoded data removed]",
      "text/plain": [
       "<Figure size 432x288 with 1 Axes>"
      ]
     },
     "metadata": {},
     "output_type": "display_data"
    }
   ],
   "source": [
    "plt.plot(day_new,scaler.inverse_transform(df1[len(df1)-100:]))\n",
    "# plt.plot(day_pred,scaler.inverse_transform(lst_output))"
   ]
  },
  {
   "cell_type": "code",
   "execution_count": 159,
   "metadata": {},
   "outputs": [],
   "source": [
    "# plt.plot(day_pred,scaler.inverse_transform(lst_output))"
   ]
  },
  {
   "cell_type": "code",
   "execution_count": 160,
   "metadata": {},
   "outputs": [],
   "source": [
    "# scaler.inverse_transform(lst_output)"
   ]
  },
  {
   "cell_type": "code",
   "execution_count": 161,
   "metadata": {},
   "outputs": [],
   "source": [
    "# scaler.inverse_transform(df1[len(df1)-100:])"
   ]
  },
  {
   "cell_type": "code",
   "execution_count": 40,
   "metadata": {},
   "outputs": [
    {
     "data": {
      "text/plain": [
       "[<matplotlib.lines.Line2D at 0x25d8ddc3548>]"
      ]
     },
     "execution_count": 40,
     "metadata": {},
     "output_type": "execute_result"
    },
    {
     "data": {
      "image/png": "[encoded data removed]",
      "text/plain": [
       "<Figure size 432x288 with 1 Axes>"
      ]
     },
     "metadata": {},
     "output_type": "display_data"
    }
   ],
   "source": [
    "df3=df1.tolist()\n",
    "df3.extend(lst_output)\n",
    "plt.plot(scaler.inverse_transform(df3[2256:]))"
   ]
  },
  {
   "cell_type": "code",
   "execution_count": 41,
   "metadata": {},
   "outputs": [
    {
     "data": {
      "text/plain": [
       "[<matplotlib.lines.Line2D at 0x25d8e2f4548>]"
      ]
     },
     "execution_count": 41,
     "metadata": {},
     "output_type": "execute_result"
    },
    {
     "data": {
      "image/png": "[encoded data removed]",
      "text/plain": [
       "<Figure size 1152x576 with 1 Axes>"
      ]
     },
     "metadata": {},
     "output_type": "display_data"
    }
   ],
   "source": [
    "plt.figure(figsize=(16,8))\n",
    "plt.plot(scaler.inverse_transform(df3[2286:]))"
   ]
  },
  {
   "cell_type": "code",
   "execution_count": 42,
   "metadata": {},
   "outputs": [
    {
     "data": {
      "text/plain": [
       "[<matplotlib.lines.Line2D at 0x25d9ab004c8>]"
      ]
     },
     "execution_count": 42,
     "metadata": {},
     "output_type": "execute_result"
    },
    {
     "data": {
      "image/png": "[encoded data removed]",
      "text/plain": [
       "<Figure size 1152x576 with 1 Axes>"
      ]
     },
     "metadata": {},
     "output_type": "display_data"
    }
   ],
   "source": [
    "plt.figure(figsize=(16,8))\n",
    "plt.plot(scaler.inverse_transform(df3))"
   ]
  },
  {
   "cell_type": "code",
   "execution_count": 165,
   "metadata": {
    "collapsed": true,
    "jupyter": {
     "outputs_hidden": true
    }
   },
   "outputs": [
    {
     "data": {
      "text/plain": [
       "array([[23477.29492187],\n",
       "       [22803.08203125],\n",
       "       [23783.02929688],\n",
       "       [23241.34570312],\n",
       "       [23735.94921875],\n",
       "       [24664.79101562],\n",
       "       [26437.03710937],\n",
       "       [26272.29492188],\n",
       "       [27084.80859375],\n",
       "       [27362.4375    ],\n",
       "       [28840.953125  ],\n",
       "       [29001.72070312],\n",
       "       [29374.15234375],\n",
       "       [32127.26757812],\n",
       "       [32782.0234375 ],\n",
       "       [31971.9140625 ],\n",
       "       [33992.4296875 ],\n",
       "       [36824.36328125],\n",
       "       [39371.04296875],\n",
       "       [40797.609375  ],\n",
       "       [40254.546875  ],\n",
       "       [38356.44140625],\n",
       "       [35566.65625   ],\n",
       "       [33922.9609375 ],\n",
       "       [37316.359375  ],\n",
       "       [39187.328125  ],\n",
       "       [36825.3671875 ],\n",
       "       [36178.140625  ],\n",
       "       [35791.27734375],\n",
       "       [36916.94140625],\n",
       "       [33920.30244883],\n",
       "       [27639.56943989],\n",
       "       [24154.60980306],\n",
       "       [24233.63729533],\n",
       "       [25482.60142849],\n",
       "       [26145.89390838],\n",
       "       [25671.52800255],\n",
       "       [24448.45039086],\n",
       "       [23216.87225758],\n",
       "       [22450.0336918 ],\n",
       "       [22155.00433838],\n",
       "       [22083.87935323],\n",
       "       [21993.64211588],\n",
       "       [21767.42074414],\n",
       "       [21414.38882854],\n",
       "       [21009.49186776],\n",
       "       [20626.78439158],\n",
       "       [20302.77675762],\n",
       "       [20035.88192746],\n",
       "       [19805.24929103],\n",
       "       [19589.98102658],\n",
       "       [19379.17487017],\n",
       "       [19172.59476343],\n",
       "       [18976.09858505],\n",
       "       [18796.3322854 ],\n",
       "       [18637.37422637],\n",
       "       [18499.96163634],\n",
       "       [18382.40336911],\n",
       "       [18282.05436063],\n",
       "       [18196.45476188]])"
      ]
     },
     "execution_count": 165,
     "metadata": {},
     "output_type": "execute_result"
    }
   ],
   "source": [
    "scaler.inverse_transform(df3[2286:])"
   ]
  },
  {
   "cell_type": "code",
   "execution_count": null,
   "metadata": {},
   "outputs": [],
   "source": []
  }
 ],
 "metadata": {
  "kernelspec": {
   "display_name": "Python 3",
   "language": "python",
   "name": "python3"
  },
  "language_info": {
   "codemirror_mode": {
    "name": "ipython",
    "version": 3
   },
   "file_extension": ".py",
   "mimetype": "text/x-python",
   "name": "python",
   "nbconvert_exporter": "python",
   "pygments_lexer": "ipython3",
   "version": "3.7.6"
  }
 },
 "nbformat": 4,
 "nbformat_minor": 4
}
