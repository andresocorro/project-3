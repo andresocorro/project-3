{
 "cells": [
  {
   "cell_type": "code",
   "execution_count": 2,
   "metadata": {},
   "outputs": [],
   "source": [
    "import pandas as pd\n",
    "import yfinance as yf\n"
   ]
  },
  {
   "cell_type": "code",
   "execution_count": 19,
   "metadata": {},
   "outputs": [],
   "source": [
    "df = yf.download(\"tsla\", start=\"2021-01-12\", end=\"2021-01-16\", progress = False)"
   ]
  },
  {
   "cell_type": "code",
   "execution_count": 20,
   "metadata": {},
   "outputs": [
    {
     "data": {
      "text/html": [
       "<div>\n",
       "<style scoped>\n",
       "    .dataframe tbody tr th:only-of-type {\n",
       "        vertical-align: middle;\n",
       "    }\n",
       "\n",
       "    .dataframe tbody tr th {\n",
       "        vertical-align: top;\n",
       "    }\n",
       "\n",
       "    .dataframe thead th {\n",
       "        text-align: right;\n",
       "    }\n",
       "</style>\n",
       "<table border=\"1\" class=\"dataframe\">\n",
       "  <thead>\n",
       "    <tr style=\"text-align: right;\">\n",
       "      <th></th>\n",
       "      <th>Open</th>\n",
       "      <th>High</th>\n",
       "      <th>Low</th>\n",
       "      <th>Close</th>\n",
       "      <th>Adj Close</th>\n",
       "      <th>Volume</th>\n",
       "    </tr>\n",
       "    <tr>\n",
       "      <th>Date</th>\n",
       "      <th></th>\n",
       "      <th></th>\n",
       "      <th></th>\n",
       "      <th></th>\n",
       "      <th></th>\n",
       "      <th></th>\n",
       "    </tr>\n",
       "  </thead>\n",
       "  <tbody>\n",
       "    <tr>\n",
       "      <th>2021-01-12</th>\n",
       "      <td>831.000000</td>\n",
       "      <td>868.000000</td>\n",
       "      <td>827.340027</td>\n",
       "      <td>849.440002</td>\n",
       "      <td>849.440002</td>\n",
       "      <td>46270700</td>\n",
       "    </tr>\n",
       "    <tr>\n",
       "      <th>2021-01-13</th>\n",
       "      <td>852.760010</td>\n",
       "      <td>860.469971</td>\n",
       "      <td>832.000000</td>\n",
       "      <td>854.409973</td>\n",
       "      <td>854.409973</td>\n",
       "      <td>33312500</td>\n",
       "    </tr>\n",
       "    <tr>\n",
       "      <th>2021-01-14</th>\n",
       "      <td>843.390015</td>\n",
       "      <td>863.000000</td>\n",
       "      <td>838.750000</td>\n",
       "      <td>845.000000</td>\n",
       "      <td>845.000000</td>\n",
       "      <td>31266300</td>\n",
       "    </tr>\n",
       "    <tr>\n",
       "      <th>2021-01-15</th>\n",
       "      <td>852.000000</td>\n",
       "      <td>859.900024</td>\n",
       "      <td>819.099976</td>\n",
       "      <td>826.159973</td>\n",
       "      <td>826.159973</td>\n",
       "      <td>38647900</td>\n",
       "    </tr>\n",
       "  </tbody>\n",
       "</table>\n",
       "</div>"
      ],
      "text/plain": [
       "                  Open        High         Low       Close   Adj Close  \\\n",
       "Date                                                                     \n",
       "2021-01-12  831.000000  868.000000  827.340027  849.440002  849.440002   \n",
       "2021-01-13  852.760010  860.469971  832.000000  854.409973  854.409973   \n",
       "2021-01-14  843.390015  863.000000  838.750000  845.000000  845.000000   \n",
       "2021-01-15  852.000000  859.900024  819.099976  826.159973  826.159973   \n",
       "\n",
       "              Volume  \n",
       "Date                  \n",
       "2021-01-12  46270700  \n",
       "2021-01-13  33312500  \n",
       "2021-01-14  31266300  \n",
       "2021-01-15  38647900  "
      ]
     },
     "execution_count": 20,
     "metadata": {},
     "output_type": "execute_result"
    }
   ],
   "source": [
    "df.head(6)"
   ]
  }
 ],
 "metadata": {
  "kernelspec": {
   "display_name": "Python 3",
   "language": "python",
   "name": "python3"
  },
  "language_info": {
   "codemirror_mode": {
    "name": "ipython",
    "version": 3
   },
   "file_extension": ".py",
   "mimetype": "text/x-python",
   "name": "python",
   "nbconvert_exporter": "python",
   "pygments_lexer": "ipython3",
   "version": "3.8.3"
  }
 },
 "nbformat": 4,
 "nbformat_minor": 4
}
