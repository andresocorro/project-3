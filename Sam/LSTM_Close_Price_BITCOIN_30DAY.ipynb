{
 "cells": [
  {
   "cell_type": "code",
   "execution_count": 1,
   "metadata": {},
   "outputs": [],
   "source": [
    "import math\n",
    "import yfinance as yf\n",
    "import numpy as np\n",
    "import pandas as pd\n",
    "from sklearn.preprocessing import MinMaxScaler\n",
    "from keras.models import Sequential\n",
    "from keras.layers import Dense, LSTM\n",
    "import matplotlib.pyplot as plt\n",
    "plt.style.use('fivethirtyeight')"
   ]
  },
  {
   "cell_type": "code",
   "execution_count": 2,
   "metadata": {},
   "outputs": [],
   "source": [
    "df = yf.Ticker('BTC-USD').history(period='Max')"
   ]
  },
  {
   "cell_type": "code",
   "execution_count": 3,
   "metadata": {},
   "outputs": [
    {
     "data": {
      "text/html": [
       "<div>\n",
       "<style scoped>\n",
       "    .dataframe tbody tr th:only-of-type {\n",
       "        vertical-align: middle;\n",
       "    }\n",
       "\n",
       "    .dataframe tbody tr th {\n",
       "        vertical-align: top;\n",
       "    }\n",
       "\n",
       "    .dataframe thead th {\n",
       "        text-align: right;\n",
       "    }\n",
       "</style>\n",
       "<table border=\"1\" class=\"dataframe\">\n",
       "  <thead>\n",
       "    <tr style=\"text-align: right;\">\n",
       "      <th></th>\n",
       "      <th>Open</th>\n",
       "      <th>High</th>\n",
       "      <th>Low</th>\n",
       "      <th>Close</th>\n",
       "      <th>Volume</th>\n",
       "      <th>Dividends</th>\n",
       "      <th>Stock Splits</th>\n",
       "    </tr>\n",
       "    <tr>\n",
       "      <th>Date</th>\n",
       "      <th></th>\n",
       "      <th></th>\n",
       "      <th></th>\n",
       "      <th></th>\n",
       "      <th></th>\n",
       "      <th></th>\n",
       "      <th></th>\n",
       "    </tr>\n",
       "  </thead>\n",
       "  <tbody>\n",
       "    <tr>\n",
       "      <th>2014-09-17</th>\n",
       "      <td>465.864014</td>\n",
       "      <td>468.174011</td>\n",
       "      <td>452.421997</td>\n",
       "      <td>457.334015</td>\n",
       "      <td>21056800</td>\n",
       "      <td>0</td>\n",
       "      <td>0</td>\n",
       "    </tr>\n",
       "    <tr>\n",
       "      <th>2014-09-18</th>\n",
       "      <td>456.859985</td>\n",
       "      <td>456.859985</td>\n",
       "      <td>413.104004</td>\n",
       "      <td>424.440002</td>\n",
       "      <td>34483200</td>\n",
       "      <td>0</td>\n",
       "      <td>0</td>\n",
       "    </tr>\n",
       "    <tr>\n",
       "      <th>2014-09-19</th>\n",
       "      <td>424.102997</td>\n",
       "      <td>427.834991</td>\n",
       "      <td>384.532013</td>\n",
       "      <td>394.795990</td>\n",
       "      <td>37919700</td>\n",
       "      <td>0</td>\n",
       "      <td>0</td>\n",
       "    </tr>\n",
       "    <tr>\n",
       "      <th>2014-09-20</th>\n",
       "      <td>394.673004</td>\n",
       "      <td>423.295990</td>\n",
       "      <td>389.882996</td>\n",
       "      <td>408.903992</td>\n",
       "      <td>36863600</td>\n",
       "      <td>0</td>\n",
       "      <td>0</td>\n",
       "    </tr>\n",
       "    <tr>\n",
       "      <th>2014-09-21</th>\n",
       "      <td>408.084991</td>\n",
       "      <td>412.425995</td>\n",
       "      <td>393.181000</td>\n",
       "      <td>398.821014</td>\n",
       "      <td>26580100</td>\n",
       "      <td>0</td>\n",
       "      <td>0</td>\n",
       "    </tr>\n",
       "    <tr>\n",
       "      <th>...</th>\n",
       "      <td>...</td>\n",
       "      <td>...</td>\n",
       "      <td>...</td>\n",
       "      <td>...</td>\n",
       "      <td>...</td>\n",
       "      <td>...</td>\n",
       "      <td>...</td>\n",
       "    </tr>\n",
       "    <tr>\n",
       "      <th>2021-01-14</th>\n",
       "      <td>37325.109375</td>\n",
       "      <td>39966.406250</td>\n",
       "      <td>36868.562500</td>\n",
       "      <td>39187.328125</td>\n",
       "      <td>63615990033</td>\n",
       "      <td>0</td>\n",
       "      <td>0</td>\n",
       "    </tr>\n",
       "    <tr>\n",
       "      <th>2021-01-15</th>\n",
       "      <td>39156.707031</td>\n",
       "      <td>39577.710938</td>\n",
       "      <td>34659.589844</td>\n",
       "      <td>36825.367188</td>\n",
       "      <td>67760757880</td>\n",
       "      <td>0</td>\n",
       "      <td>0</td>\n",
       "    </tr>\n",
       "    <tr>\n",
       "      <th>2021-01-16</th>\n",
       "      <td>36821.648438</td>\n",
       "      <td>37864.367188</td>\n",
       "      <td>35633.554688</td>\n",
       "      <td>36178.140625</td>\n",
       "      <td>57706187875</td>\n",
       "      <td>0</td>\n",
       "      <td>0</td>\n",
       "    </tr>\n",
       "    <tr>\n",
       "      <th>2021-01-17</th>\n",
       "      <td>36163.648438</td>\n",
       "      <td>36722.351562</td>\n",
       "      <td>34069.320312</td>\n",
       "      <td>35791.277344</td>\n",
       "      <td>52359854336</td>\n",
       "      <td>0</td>\n",
       "      <td>0</td>\n",
       "    </tr>\n",
       "    <tr>\n",
       "      <th>2021-01-19</th>\n",
       "      <td>36939.601562</td>\n",
       "      <td>37195.429688</td>\n",
       "      <td>36441.019531</td>\n",
       "      <td>36916.941406</td>\n",
       "      <td>52496379904</td>\n",
       "      <td>0</td>\n",
       "      <td>0</td>\n",
       "    </tr>\n",
       "  </tbody>\n",
       "</table>\n",
       "<p>2316 rows × 7 columns</p>\n",
       "</div>"
      ],
      "text/plain": [
       "                    Open          High           Low         Close  \\\n",
       "Date                                                                 \n",
       "2014-09-17    465.864014    468.174011    452.421997    457.334015   \n",
       "2014-09-18    456.859985    456.859985    413.104004    424.440002   \n",
       "2014-09-19    424.102997    427.834991    384.532013    394.795990   \n",
       "2014-09-20    394.673004    423.295990    389.882996    408.903992   \n",
       "2014-09-21    408.084991    412.425995    393.181000    398.821014   \n",
       "...                  ...           ...           ...           ...   \n",
       "2021-01-14  37325.109375  39966.406250  36868.562500  39187.328125   \n",
       "2021-01-15  39156.707031  39577.710938  34659.589844  36825.367188   \n",
       "2021-01-16  36821.648438  37864.367188  35633.554688  36178.140625   \n",
       "2021-01-17  36163.648438  36722.351562  34069.320312  35791.277344   \n",
       "2021-01-19  36939.601562  37195.429688  36441.019531  36916.941406   \n",
       "\n",
       "                 Volume  Dividends  Stock Splits  \n",
       "Date                                              \n",
       "2014-09-17     21056800          0             0  \n",
       "2014-09-18     34483200          0             0  \n",
       "2014-09-19     37919700          0             0  \n",
       "2014-09-20     36863600          0             0  \n",
       "2014-09-21     26580100          0             0  \n",
       "...                 ...        ...           ...  \n",
       "2021-01-14  63615990033          0             0  \n",
       "2021-01-15  67760757880          0             0  \n",
       "2021-01-16  57706187875          0             0  \n",
       "2021-01-17  52359854336          0             0  \n",
       "2021-01-19  52496379904          0             0  \n",
       "\n",
       "[2316 rows x 7 columns]"
      ]
     },
     "execution_count": 3,
     "metadata": {},
     "output_type": "execute_result"
    }
   ],
   "source": [
    "df"
   ]
  },
  {
   "cell_type": "code",
   "execution_count": 12,
   "metadata": {},
   "outputs": [
    {
     "data": {
      "text/html": [
       "<div>\n",
       "<style scoped>\n",
       "    .dataframe tbody tr th:only-of-type {\n",
       "        vertical-align: middle;\n",
       "    }\n",
       "\n",
       "    .dataframe tbody tr th {\n",
       "        vertical-align: top;\n",
       "    }\n",
       "\n",
       "    .dataframe thead th {\n",
       "        text-align: right;\n",
       "    }\n",
       "</style>\n",
       "<table border=\"1\" class=\"dataframe\">\n",
       "  <thead>\n",
       "    <tr style=\"text-align: right;\">\n",
       "      <th></th>\n",
       "      <th>Close</th>\n",
       "    </tr>\n",
       "    <tr>\n",
       "      <th>Date</th>\n",
       "      <th></th>\n",
       "    </tr>\n",
       "  </thead>\n",
       "  <tbody>\n",
       "    <tr>\n",
       "      <th>2014-09-17</th>\n",
       "      <td>457.334015</td>\n",
       "    </tr>\n",
       "    <tr>\n",
       "      <th>2014-09-18</th>\n",
       "      <td>424.440002</td>\n",
       "    </tr>\n",
       "    <tr>\n",
       "      <th>2014-09-19</th>\n",
       "      <td>394.795990</td>\n",
       "    </tr>\n",
       "    <tr>\n",
       "      <th>2014-09-20</th>\n",
       "      <td>408.903992</td>\n",
       "    </tr>\n",
       "    <tr>\n",
       "      <th>2014-09-21</th>\n",
       "      <td>398.821014</td>\n",
       "    </tr>\n",
       "    <tr>\n",
       "      <th>...</th>\n",
       "      <td>...</td>\n",
       "    </tr>\n",
       "    <tr>\n",
       "      <th>2021-01-14</th>\n",
       "      <td>39187.328125</td>\n",
       "    </tr>\n",
       "    <tr>\n",
       "      <th>2021-01-15</th>\n",
       "      <td>36825.367188</td>\n",
       "    </tr>\n",
       "    <tr>\n",
       "      <th>2021-01-16</th>\n",
       "      <td>36178.140625</td>\n",
       "    </tr>\n",
       "    <tr>\n",
       "      <th>2021-01-17</th>\n",
       "      <td>35791.277344</td>\n",
       "    </tr>\n",
       "    <tr>\n",
       "      <th>2021-01-19</th>\n",
       "      <td>36916.941406</td>\n",
       "    </tr>\n",
       "  </tbody>\n",
       "</table>\n",
       "<p>2316 rows × 1 columns</p>\n",
       "</div>"
      ],
      "text/plain": [
       "                   Close\n",
       "Date                    \n",
       "2014-09-17    457.334015\n",
       "2014-09-18    424.440002\n",
       "2014-09-19    394.795990\n",
       "2014-09-20    408.903992\n",
       "2014-09-21    398.821014\n",
       "...                  ...\n",
       "2021-01-14  39187.328125\n",
       "2021-01-15  36825.367188\n",
       "2021-01-16  36178.140625\n",
       "2021-01-17  35791.277344\n",
       "2021-01-19  36916.941406\n",
       "\n",
       "[2316 rows x 1 columns]"
      ]
     },
     "execution_count": 12,
     "metadata": {},
     "output_type": "execute_result"
    }
   ],
   "source": [
    "data = df.filter(['Close'])\n",
    "data"
   ]
  },
  {
   "cell_type": "code",
   "execution_count": 13,
   "metadata": {},
   "outputs": [
    {
     "data": {
      "image/png": "[encoded data removed]",
      "text/plain": [
       "<Figure size 1152x576 with 1 Axes>"
      ]
     },
     "metadata": {},
     "output_type": "display_data"
    }
   ],
   "source": [
    "# Visualize closing price history\n",
    "plt.figure(figsize=(16,8))\n",
    "plt.title('Close Price History')\n",
    "plt.plot(data['Close'])\n",
    "plt.xlabel('Date', fontsize=18)\n",
    "plt.ylabel('Close Price USD ($)', fontsize=18)\n",
    "plt.show()"
   ]
  },
  {
   "cell_type": "code",
   "execution_count": 14,
   "metadata": {},
   "outputs": [],
   "source": [
    "scaler=MinMaxScaler(feature_range=(0,1))\n",
    "# Convert dataframe to numpy array\n",
    "dataset = data.values"
   ]
  },
  {
   "cell_type": "code",
   "execution_count": 15,
   "metadata": {},
   "outputs": [
    {
     "data": {
      "text/plain": [
       "array([[  457.33401489],\n",
       "       [  424.44000244],\n",
       "       [  394.79598999],\n",
       "       ...,\n",
       "       [36178.140625  ],\n",
       "       [35791.27734375],\n",
       "       [36916.94140625]])"
      ]
     },
     "execution_count": 15,
     "metadata": {},
     "output_type": "execute_result"
    }
   ],
   "source": [
    "dataset"
   ]
  },
  {
   "cell_type": "code",
   "execution_count": 16,
   "metadata": {},
   "outputs": [],
   "source": [
    "df1=scaler.fit_transform(np.array(dataset).reshape(-1,1))"
   ]
  },
  {
   "cell_type": "code",
   "execution_count": 60,
   "metadata": {},
   "outputs": [
    {
     "name": "stdout",
     "output_type": "stream",
     "text": [
      "[[0.00687431]\n",
      " [0.0060645 ]\n",
      " [0.0053347 ]\n",
      " ...\n",
      " [0.88627462]\n",
      " [0.87675054]\n",
      " [0.90446295]]\n"
     ]
    }
   ],
   "source": [
    "print(df1)"
   ]
  },
  {
   "cell_type": "code",
   "execution_count": 52,
   "metadata": {},
   "outputs": [
    {
     "data": {
      "text/plain": [
       "array([[0.00687431],\n",
       "       [0.0060645 ],\n",
       "       [0.0053347 ],\n",
       "       ...,\n",
       "       [0.20700327],\n",
       "       [0.20048628],\n",
       "       [0.20085061]])"
      ]
     },
     "execution_count": 52,
     "metadata": {},
     "output_type": "execute_result"
    }
   ],
   "source": [
    "df1[0:training_size,:]"
   ]
  },
  {
   "cell_type": "code",
   "execution_count": 36,
   "metadata": {},
   "outputs": [],
   "source": [
    "training_size=int(len(df1)*0.8)\n",
    "test_size=len(df1)-training_size\n",
    "train_data, test_data = df1[0:training_size,:], df1[training_size:len(df1),:1]"
   ]
  },
  {
   "cell_type": "code",
   "execution_count": 62,
   "metadata": {},
   "outputs": [
    {
     "data": {
      "text/plain": [
       "(1852, 464)"
      ]
     },
     "execution_count": 62,
     "metadata": {},
     "output_type": "execute_result"
    }
   ],
   "source": [
    "training_size, test_size"
   ]
  },
  {
   "cell_type": "code",
   "execution_count": 65,
   "metadata": {},
   "outputs": [
    {
     "data": {
      "text/plain": [
       "(1852, 464)"
      ]
     },
     "execution_count": 65,
     "metadata": {},
     "output_type": "execute_result"
    }
   ],
   "source": [
    "len(train_data), len(test_data)"
   ]
  },
  {
   "cell_type": "code",
   "execution_count": 66,
   "metadata": {},
   "outputs": [
    {
     "data": {
      "text/plain": [
       "array([[0.00687431],\n",
       "       [0.0060645 ],\n",
       "       [0.0053347 ],\n",
       "       ...,\n",
       "       [0.20700327],\n",
       "       [0.20048628],\n",
       "       [0.20085061]])"
      ]
     },
     "execution_count": 66,
     "metadata": {},
     "output_type": "execute_result"
    }
   ],
   "source": [
    "train_data"
   ]
  },
  {
   "cell_type": "code",
   "execution_count": 82,
   "metadata": {},
   "outputs": [],
   "source": [
    "def create_dataset(dataset, time_step=1):\n",
    "    dataX, dataY = [], []\n",
    "    for i in range(len(dataset)-time_step-1):\n",
    "        a = dataset[i:(i+time_step), 0]\n",
    "        dataX.append(a)\n",
    "        dataY.append(dataset[i + time_step, 0])\n",
    "    return np.array(dataX), np.array(dataY)"
   ]
  },
  {
   "cell_type": "code",
   "execution_count": 83,
   "metadata": {},
   "outputs": [],
   "source": [
    "time_step = 100\n",
    "X_train, y_train = create_dataset(train_data, time_step)\n",
    "X_test, ytest = create_dataset(test_data, time_step)"
   ]
  },
  {
   "cell_type": "code",
   "execution_count": 84,
   "metadata": {},
   "outputs": [
    {
     "name": "stdout",
     "output_type": "stream",
     "text": [
      "[[0.00687431 0.0060645  0.0053347  ... 0.00385207 0.00355571 0.0034689 ]\n",
      " [0.0060645  0.0053347  0.00568202 ... 0.00355571 0.0034689  0.0036884 ]\n",
      " [0.0053347  0.00568202 0.00543379 ... 0.0034689  0.0036884  0.00339147]\n",
      " ...\n",
      " [0.2561585  0.26153875 0.2900864  ... 0.19227345 0.19861197 0.19819739]\n",
      " [0.26153875 0.2900864  0.27172498 ... 0.19861197 0.19819739 0.2072314 ]\n",
      " [0.2900864  0.27172498 0.2658909  ... 0.19819739 0.2072314  0.20700327]]\n"
     ]
    }
   ],
   "source": [
    "print(X_train)"
   ]
  },
  {
   "cell_type": "code",
   "execution_count": 85,
   "metadata": {},
   "outputs": [
    {
     "name": "stdout",
     "output_type": "stream",
     "text": [
      "(1751, 100)\n",
      "(1751,)\n"
     ]
    },
    {
     "data": {
      "text/plain": [
       "(None, None)"
      ]
     },
     "execution_count": 85,
     "metadata": {},
     "output_type": "execute_result"
    }
   ],
   "source": [
    "print(X_train.shape), print(y_train.shape)"
   ]
  },
  {
   "cell_type": "code",
   "execution_count": 86,
   "metadata": {},
   "outputs": [
    {
     "name": "stdout",
     "output_type": "stream",
     "text": [
      "(363, 100)\n",
      "(363,)\n"
     ]
    },
    {
     "data": {
      "text/plain": [
       "(None, None)"
      ]
     },
     "execution_count": 86,
     "metadata": {},
     "output_type": "execute_result"
    }
   ],
   "source": [
    "print(X_test.shape), print(ytest.shape)"
   ]
  },
  {
   "cell_type": "code",
   "execution_count": 87,
   "metadata": {},
   "outputs": [],
   "source": [
    "X_train = X_train.reshape(X_train.shape[0], X_train.shape[1], 1)\n",
    "X_test = X_test.reshape(X_test.shape[0], X_test.shape[1], 1)"
   ]
  },
  {
   "cell_type": "code",
   "execution_count": 88,
   "metadata": {},
   "outputs": [],
   "source": [
    "# Build the LSTM model\n",
    "model = Sequential()\n",
    "model.add(LSTM(50, return_sequences=True, input_shape= (100, 1)))\n",
    "model.add(LSTM(50, return_sequences=True))\n",
    "model.add(LSTM(50))\n",
    "model.add(Dense(1))\n",
    "# Compile the model\n",
    "model.compile(optimizer='adam', loss='mean_squared_error')"
   ]
  },
  {
   "cell_type": "code",
   "execution_count": 89,
   "metadata": {},
   "outputs": [
    {
     "name": "stdout",
     "output_type": "stream",
     "text": [
      "Model: \"sequential\"\n",
      "_________________________________________________________________\n",
      "Layer (type)                 Output Shape              Param #   \n",
      "=================================================================\n",
      "lstm (LSTM)                  (None, 100, 50)           10400     \n",
      "_________________________________________________________________\n",
      "lstm_1 (LSTM)                (None, 100, 50)           20200     \n",
      "_________________________________________________________________\n",
      "lstm_2 (LSTM)                (None, 50)                20200     \n",
      "_________________________________________________________________\n",
      "dense (Dense)                (None, 1)                 51        \n",
      "=================================================================\n",
      "Total params: 50,851\n",
      "Trainable params: 50,851\n",
      "Non-trainable params: 0\n",
      "_________________________________________________________________\n"
     ]
    }
   ],
   "source": [
    "model.summary()"
   ]
  },
  {
   "cell_type": "code",
   "execution_count": 90,
   "metadata": {
    "collapsed": true,
    "jupyter": {
     "outputs_hidden": true
    }
   },
   "outputs": [
    {
     "name": "stdout",
     "output_type": "stream",
     "text": [
      "Epoch 1/100\n",
      "28/28 [==============================] - 8s 143ms/step - loss: 0.0056 - val_loss: 0.0049\n",
      "Epoch 2/100\n",
      "28/28 [==============================] - 3s 106ms/step - loss: 6.0007e-04 - val_loss: 0.0038\n",
      "Epoch 3/100\n",
      "28/28 [==============================] - 3s 104ms/step - loss: 3.9398e-04 - val_loss: 0.0050\n",
      "Epoch 4/100\n",
      "28/28 [==============================] - 3s 104ms/step - loss: 3.3671e-04 - val_loss: 0.0045\n",
      "Epoch 5/100\n",
      "28/28 [==============================] - 3s 105ms/step - loss: 2.8916e-04 - val_loss: 0.0032\n",
      "Epoch 6/100\n",
      "28/28 [==============================] - 3s 106ms/step - loss: 2.5174e-04 - val_loss: 0.0055\n",
      "Epoch 7/100\n",
      "28/28 [==============================] - 3s 106ms/step - loss: 2.7981e-04 - val_loss: 0.0043\n",
      "Epoch 8/100\n",
      "28/28 [==============================] - 3s 104ms/step - loss: 2.4635e-04 - val_loss: 0.0034\n",
      "Epoch 9/100\n",
      "28/28 [==============================] - 3s 104ms/step - loss: 2.5285e-04 - val_loss: 0.0031\n",
      "Epoch 10/100\n",
      "28/28 [==============================] - 3s 104ms/step - loss: 2.5325e-04 - val_loss: 0.0026\n",
      "Epoch 11/100\n",
      "28/28 [==============================] - 3s 104ms/step - loss: 2.5360e-04 - val_loss: 0.0022\n",
      "Epoch 12/100\n",
      "28/28 [==============================] - 3s 105ms/step - loss: 2.4141e-04 - val_loss: 0.0024\n",
      "Epoch 13/100\n",
      "28/28 [==============================] - 3s 104ms/step - loss: 2.0018e-04 - val_loss: 0.0023\n",
      "Epoch 14/100\n",
      "28/28 [==============================] - 3s 104ms/step - loss: 2.1509e-04 - val_loss: 0.0019\n",
      "Epoch 15/100\n",
      "28/28 [==============================] - 3s 105ms/step - loss: 1.7295e-04 - val_loss: 0.0014\n",
      "Epoch 16/100\n",
      "28/28 [==============================] - 3s 105ms/step - loss: 2.0182e-04 - val_loss: 0.0028\n",
      "Epoch 17/100\n",
      "28/28 [==============================] - 3s 104ms/step - loss: 2.2070e-04 - val_loss: 0.0022\n",
      "Epoch 18/100\n",
      "28/28 [==============================] - 3s 104ms/step - loss: 1.6100e-04 - val_loss: 0.0019\n",
      "Epoch 19/100\n",
      "28/28 [==============================] - 3s 105ms/step - loss: 1.7313e-04 - val_loss: 0.0018\n",
      "Epoch 20/100\n",
      "28/28 [==============================] - 3s 105ms/step - loss: 1.7812e-04 - val_loss: 0.0014\n",
      "Epoch 21/100\n",
      "28/28 [==============================] - 3s 110ms/step - loss: 1.7314e-04 - val_loss: 0.0016\n",
      "Epoch 22/100\n",
      "28/28 [==============================] - 3s 105ms/step - loss: 1.7083e-04 - val_loss: 0.0023\n",
      "Epoch 23/100\n",
      "28/28 [==============================] - 3s 104ms/step - loss: 1.3749e-04 - val_loss: 0.0019\n",
      "Epoch 24/100\n",
      "28/28 [==============================] - 3s 105ms/step - loss: 1.5658e-04 - val_loss: 0.0028\n",
      "Epoch 25/100\n",
      "28/28 [==============================] - 3s 103ms/step - loss: 1.9455e-04 - val_loss: 0.0026\n",
      "Epoch 26/100\n",
      "28/28 [==============================] - 3s 103ms/step - loss: 1.4152e-04 - val_loss: 0.0022\n",
      "Epoch 27/100\n",
      "28/28 [==============================] - 3s 103ms/step - loss: 1.3837e-04 - val_loss: 0.0015\n",
      "Epoch 28/100\n",
      "28/28 [==============================] - 3s 104ms/step - loss: 1.5260e-04 - val_loss: 0.0015\n",
      "Epoch 29/100\n",
      "28/28 [==============================] - 3s 104ms/step - loss: 2.1306e-04 - val_loss: 0.0012\n",
      "Epoch 30/100\n",
      "28/28 [==============================] - 3s 103ms/step - loss: 1.2793e-04 - val_loss: 0.0023\n",
      "Epoch 31/100\n",
      "28/28 [==============================] - 3s 103ms/step - loss: 1.7492e-04 - val_loss: 0.0015\n",
      "Epoch 32/100\n",
      "28/28 [==============================] - 3s 106ms/step - loss: 1.7339e-04 - val_loss: 0.0026\n",
      "Epoch 33/100\n",
      "28/28 [==============================] - 3s 106ms/step - loss: 1.4178e-04 - val_loss: 0.0016\n",
      "Epoch 34/100\n",
      "28/28 [==============================] - 3s 103ms/step - loss: 1.4330e-04 - val_loss: 0.0011\n",
      "Epoch 35/100\n",
      "28/28 [==============================] - 3s 103ms/step - loss: 1.4123e-04 - val_loss: 0.0016\n",
      "Epoch 36/100\n",
      "28/28 [==============================] - 3s 104ms/step - loss: 1.1924e-04 - val_loss: 0.0013\n",
      "Epoch 37/100\n",
      "28/28 [==============================] - 3s 104ms/step - loss: 1.1916e-04 - val_loss: 0.0011\n",
      "Epoch 38/100\n",
      "28/28 [==============================] - 3s 105ms/step - loss: 1.5642e-04 - val_loss: 0.0011\n",
      "Epoch 39/100\n",
      "28/28 [==============================] - 3s 108ms/step - loss: 1.1000e-04 - val_loss: 0.0011\n",
      "Epoch 40/100\n",
      "28/28 [==============================] - 3s 108ms/step - loss: 1.1717e-04 - val_loss: 0.0014\n",
      "Epoch 41/100\n",
      "28/28 [==============================] - 3s 111ms/step - loss: 1.0959e-04 - val_loss: 0.0011\n",
      "Epoch 42/100\n",
      "28/28 [==============================] - 3s 113ms/step - loss: 9.6758e-05 - val_loss: 0.0021\n",
      "Epoch 43/100\n",
      "28/28 [==============================] - 3s 110ms/step - loss: 1.0900e-04 - val_loss: 0.0015\n",
      "Epoch 44/100\n",
      "28/28 [==============================] - 3s 109ms/step - loss: 1.0558e-04 - val_loss: 0.0017\n",
      "Epoch 45/100\n",
      "28/28 [==============================] - 3s 109ms/step - loss: 1.1534e-04 - val_loss: 0.0022\n",
      "Epoch 46/100\n",
      "28/28 [==============================] - 3s 113ms/step - loss: 9.7285e-05 - val_loss: 0.0012-0\n",
      "Epoch 47/100\n",
      "28/28 [==============================] - 3s 111ms/step - loss: 8.7256e-05 - val_loss: 0.0011\n",
      "Epoch 48/100\n",
      "28/28 [==============================] - 3s 111ms/step - loss: 1.0153e-04 - val_loss: 0.0018\n",
      "Epoch 49/100\n",
      "28/28 [==============================] - 3s 111ms/step - loss: 1.1957e-04 - val_loss: 0.0018\n",
      "Epoch 50/100\n",
      "28/28 [==============================] - 3s 113ms/step - loss: 1.0987e-04 - val_loss: 0.0017\n",
      "Epoch 51/100\n",
      "28/28 [==============================] - 3s 115ms/step - loss: 8.3329e-05 - val_loss: 0.0013\n",
      "Epoch 52/100\n",
      "28/28 [==============================] - 3s 111ms/step - loss: 1.2881e-04 - val_loss: 0.0019\n",
      "Epoch 53/100\n",
      "28/28 [==============================] - 3s 109ms/step - loss: 8.7849e-05 - val_loss: 0.0011\n",
      "Epoch 54/100\n",
      "28/28 [==============================] - 3s 109ms/step - loss: 9.1384e-05 - val_loss: 8.3940e-04\n",
      "Epoch 55/100\n",
      "28/28 [==============================] - 3s 111ms/step - loss: 1.2088e-04 - val_loss: 9.9990e-04\n",
      "Epoch 56/100\n",
      "28/28 [==============================] - 3s 109ms/step - loss: 6.5254e-05 - val_loss: 0.0019\n",
      "Epoch 57/100\n",
      "28/28 [==============================] - 3s 109ms/step - loss: 8.8657e-05 - val_loss: 9.6096e-04\n",
      "Epoch 58/100\n",
      "28/28 [==============================] - 3s 108ms/step - loss: 7.3254e-05 - val_loss: 0.0013\n",
      "Epoch 59/100\n",
      "28/28 [==============================] - 3s 109ms/step - loss: 7.8723e-05 - val_loss: 0.0016\n",
      "Epoch 60/100\n",
      "28/28 [==============================] - 3s 108ms/step - loss: 6.1842e-05 - val_loss: 0.0011\n",
      "Epoch 61/100\n",
      "28/28 [==============================] - 3s 109ms/step - loss: 6.2193e-05 - val_loss: 0.0018\n",
      "Epoch 62/100\n",
      "28/28 [==============================] - 3s 108ms/step - loss: 1.1288e-04 - val_loss: 0.0015\n",
      "Epoch 63/100\n",
      "28/28 [==============================] - 3s 108ms/step - loss: 8.1932e-05 - val_loss: 9.5265e-04\n",
      "Epoch 64/100\n",
      "28/28 [==============================] - 3s 108ms/step - loss: 7.4220e-05 - val_loss: 0.0014\n",
      "Epoch 65/100\n",
      "28/28 [==============================] - 3s 108ms/step - loss: 5.7213e-05 - val_loss: 0.0010\n",
      "Epoch 66/100\n",
      "28/28 [==============================] - 3s 110ms/step - loss: 6.0249e-05 - val_loss: 8.4602e-04\n",
      "Epoch 67/100\n",
      "28/28 [==============================] - 3s 112ms/step - loss: 1.7560e-04 - val_loss: 6.2420e-04\n",
      "Epoch 68/100\n",
      "28/28 [==============================] - 3s 113ms/step - loss: 7.5251e-05 - val_loss: 8.3410e-04\n",
      "Epoch 69/100\n",
      "28/28 [==============================] - 3s 110ms/step - loss: 6.7450e-05 - val_loss: 7.7529e-04\n",
      "Epoch 70/100\n",
      "28/28 [==============================] - 3s 108ms/step - loss: 7.3870e-05 - val_loss: 8.4660e-04\n",
      "Epoch 71/100\n",
      "28/28 [==============================] - 3s 107ms/step - loss: 9.9033e-05 - val_loss: 0.0014\n",
      "Epoch 72/100\n",
      "28/28 [==============================] - 3s 113ms/step - loss: 8.8481e-05 - val_loss: 0.0011\n",
      "Epoch 73/100\n",
      "28/28 [==============================] - 3s 114ms/step - loss: 8.0263e-05 - val_loss: 8.8407e-04\n",
      "Epoch 74/100\n",
      "28/28 [==============================] - 3s 108ms/step - loss: 9.3473e-05 - val_loss: 0.0012\n",
      "Epoch 75/100\n",
      "28/28 [==============================] - 3s 108ms/step - loss: 5.8363e-05 - val_loss: 0.0010\n",
      "Epoch 76/100\n",
      "28/28 [==============================] - 3s 109ms/step - loss: 6.8414e-05 - val_loss: 9.9687e-04\n",
      "Epoch 77/100\n",
      "28/28 [==============================] - 3s 109ms/step - loss: 5.8829e-05 - val_loss: 0.0012\n",
      "Epoch 78/100\n",
      "28/28 [==============================] - 3s 108ms/step - loss: 6.0101e-05 - val_loss: 0.0012\n",
      "Epoch 79/100\n",
      "28/28 [==============================] - 3s 108ms/step - loss: 6.3275e-05 - val_loss: 0.0012\n",
      "Epoch 80/100\n",
      "28/28 [==============================] - 3s 108ms/step - loss: 6.5968e-05 - val_loss: 0.0013\n",
      "Epoch 81/100\n",
      "28/28 [==============================] - 3s 107ms/step - loss: 6.6409e-05 - val_loss: 0.0011\n",
      "Epoch 82/100\n",
      "28/28 [==============================] - 3s 110ms/step - loss: 6.3944e-05 - val_loss: 0.0013\n",
      "Epoch 83/100\n",
      "28/28 [==============================] - 3s 108ms/step - loss: 9.7435e-05 - val_loss: 0.0015\n",
      "Epoch 84/100\n",
      "28/28 [==============================] - 3s 108ms/step - loss: 8.1729e-05 - val_loss: 0.0016\n",
      "Epoch 85/100\n",
      "28/28 [==============================] - 3s 109ms/step - loss: 6.2902e-05 - val_loss: 0.0013\n",
      "Epoch 86/100\n",
      "28/28 [==============================] - 3s 109ms/step - loss: 5.9313e-05 - val_loss: 0.0011\n",
      "Epoch 87/100\n",
      "28/28 [==============================] - 3s 108ms/step - loss: 4.9396e-05 - val_loss: 8.8032e-04\n",
      "Epoch 88/100\n",
      "28/28 [==============================] - 3s 108ms/step - loss: 5.6811e-05 - val_loss: 0.0011\n",
      "Epoch 89/100\n",
      "28/28 [==============================] - 3s 111ms/step - loss: 7.4104e-05 - val_loss: 9.2801e-04\n",
      "Epoch 90/100\n",
      "28/28 [==============================] - 3s 110ms/step - loss: 6.2675e-05 - val_loss: 0.0018\n",
      "Epoch 91/100\n",
      "28/28 [==============================] - 3s 108ms/step - loss: 8.8062e-05 - val_loss: 0.0015\n",
      "Epoch 92/100\n",
      "28/28 [==============================] - 3s 110ms/step - loss: 5.9349e-05 - val_loss: 0.0012\n",
      "Epoch 93/100\n",
      "28/28 [==============================] - 3s 108ms/step - loss: 4.4580e-05 - val_loss: 9.3030e-04\n",
      "Epoch 94/100\n",
      "28/28 [==============================] - 3s 108ms/step - loss: 6.4494e-05 - val_loss: 0.0016\n",
      "Epoch 95/100\n",
      "28/28 [==============================] - 3s 110ms/step - loss: 6.2831e-05 - val_loss: 9.3839e-04\n",
      "Epoch 96/100\n",
      "28/28 [==============================] - 3s 108ms/step - loss: 4.9614e-05 - val_loss: 8.9164e-04\n",
      "Epoch 97/100\n",
      "28/28 [==============================] - 3s 109ms/step - loss: 5.5761e-05 - val_loss: 0.0011\n",
      "Epoch 98/100\n",
      "28/28 [==============================] - 3s 109ms/step - loss: 5.1058e-05 - val_loss: 0.0012\n",
      "Epoch 99/100\n",
      "28/28 [==============================] - 3s 109ms/step - loss: 6.3437e-05 - val_loss: 9.6798e-04\n",
      "Epoch 100/100\n",
      "28/28 [==============================] - 3s 108ms/step - loss: 5.6289e-05 - val_loss: 7.8033e-04\n"
     ]
    },
    {
     "data": {
      "text/plain": [
       "<tensorflow.python.keras.callbacks.History at 0x1c411618508>"
      ]
     },
     "execution_count": 90,
     "metadata": {},
     "output_type": "execute_result"
    }
   ],
   "source": [
    "# Train the model\n",
    "model.fit(X_train, y_train, validation_data=(X_test,ytest), epochs=100, batch_size=64, verbose=1)"
   ]
  },
  {
   "cell_type": "code",
   "execution_count": null,
   "metadata": {},
   "outputs": [],
   "source": []
  },
  {
   "cell_type": "code",
   "execution_count": 91,
   "metadata": {},
   "outputs": [],
   "source": [
    "train_predict=model.predict(X_train)\n",
    "test_predict=model.predict(X_test)"
   ]
  },
  {
   "cell_type": "code",
   "execution_count": 92,
   "metadata": {},
   "outputs": [],
   "source": [
    "train_predict=scaler.inverse_transform(train_predict)\n",
    "test_predict=scaler.inverse_transform(test_predict)"
   ]
  },
  {
   "cell_type": "code",
   "execution_count": 94,
   "metadata": {},
   "outputs": [
    {
     "data": {
      "text/plain": [
       "5643.470046841075"
      ]
     },
     "execution_count": 94,
     "metadata": {},
     "output_type": "execute_result"
    }
   ],
   "source": [
    "from sklearn.metrics import mean_squared_error\n",
    "math.sqrt(mean_squared_error(y_train,train_predict))"
   ]
  },
  {
   "cell_type": "code",
   "execution_count": 95,
   "metadata": {},
   "outputs": [
    {
     "data": {
      "text/plain": [
       "13741.205060742634"
      ]
     },
     "execution_count": 95,
     "metadata": {},
     "output_type": "execute_result"
    }
   ],
   "source": [
    "math.sqrt(mean_squared_error(ytest,test_predict))"
   ]
  },
  {
   "cell_type": "code",
   "execution_count": 97,
   "metadata": {},
   "outputs": [
    {
     "data": {
      "image/png": "[encoded data removed]",
      "text/plain": [
       "<Figure size 1152x576 with 1 Axes>"
      ]
     },
     "metadata": {},
     "output_type": "display_data"
    }
   ],
   "source": [
    "look_back = 100\n",
    "trainPredictPlot=np.empty_like(df1)\n",
    "trainPredictPlot[:,:] = np.nan\n",
    "trainPredictPlot[look_back:len(train_predict)+look_back,:] = train_predict\n",
    "\n",
    "testPredictPlot = np.empty_like(df1)\n",
    "testPredictPlot[:,:] = np.nan\n",
    "testPredictPlot[len(train_predict)+(look_back*2)+1:len(df1)-1, :] = test_predict\n",
    "\n",
    "plt.figure(figsize=(16,8))\n",
    "plt.plot(scaler.inverse_transform(df1))\n",
    "plt.plot(trainPredictPlot)\n",
    "plt.plot(testPredictPlot)\n",
    "plt.show()"
   ]
  },
  {
   "cell_type": "code",
   "execution_count": 98,
   "metadata": {},
   "outputs": [
    {
     "data": {
      "text/plain": [
       "(1, 100)"
      ]
     },
     "execution_count": 98,
     "metadata": {},
     "output_type": "execute_result"
    }
   ],
   "source": [
    "x_input=test_data[len(test_data)-100:].reshape(1,-1)\n",
    "x_input.shape"
   ]
  },
  {
   "cell_type": "code",
   "execution_count": 99,
   "metadata": {},
   "outputs": [],
   "source": [
    "temp_input=list(x_input)\n",
    "temp_input=temp_input[0].tolist()"
   ]
  },
  {
   "cell_type": "code",
   "execution_count": 101,
   "metadata": {
    "collapsed": true,
    "jupyter": {
     "outputs_hidden": true
    }
   },
   "outputs": [
    {
     "name": "stdout",
     "output_type": "stream",
     "text": [
      "0 day input [0.28009351 0.27690628 0.27699509 0.27861605 0.27435144 0.27523718\n",
      " 0.27832087 0.28468918 0.28898017 0.31131807 0.31481891 0.31397319\n",
      " 0.31831897 0.31642607 0.31751112 0.33176464 0.3223373  0.32643872\n",
      " 0.32911329 0.33488571 0.3338053  0.32921095 0.33905379 0.34356902\n",
      " 0.37917117 0.3788273  0.36080327 0.37670237 0.37307722 0.37205768\n",
      " 0.38216212 0.39631798 0.39733879 0.39119224 0.38842138 0.40714449\n",
      " 0.43002254 0.43392706 0.43424917 0.45404814 0.45456312 0.44786115\n",
      " 0.44771637 0.46601654 0.45677606 0.41784161 0.41680219 0.43179528\n",
      " 0.44312162 0.47877817 0.45852096 0.46832152 0.47433603 0.45597951\n",
      " 0.46716785 0.47186733 0.4680886  0.44665835 0.45238888 0.44527595\n",
      " 0.44020233 0.45853716 0.46687618 0.46944297 0.47363877 0.52025484\n",
      " 0.55704909 0.56524217 0.5832599  0.57359614 0.55699788 0.58112292\n",
      " 0.56778737 0.57996387 0.60283076 0.64646118 0.64240544 0.66240848\n",
      " 0.66924335 0.7056425  0.70960039 0.71876918 0.78654734 0.80266658\n",
      " 0.78272273 0.83246523 0.90218379 0.96487977 1.         0.9866305\n",
      " 0.93990158 0.87122066 0.830755   0.9142961  0.96035695 0.90220851\n",
      " 0.88627462 0.87675054 0.90446295 0.83068955]\n",
      "0 day output [[0.676066]]\n",
      "1 day input [0.27690628 0.27699509 0.27861605 0.27435144 0.27523718 0.27832087\n",
      " 0.28468918 0.28898017 0.31131807 0.31481891 0.31397319 0.31831897\n",
      " 0.31642607 0.31751112 0.33176464 0.3223373  0.32643872 0.32911329\n",
      " 0.33488571 0.3338053  0.32921095 0.33905379 0.34356902 0.37917117\n",
      " 0.3788273  0.36080327 0.37670237 0.37307722 0.37205768 0.38216212\n",
      " 0.39631798 0.39733879 0.39119224 0.38842138 0.40714449 0.43002254\n",
      " 0.43392706 0.43424917 0.45404814 0.45456312 0.44786115 0.44771637\n",
      " 0.46601654 0.45677606 0.41784161 0.41680219 0.43179528 0.44312162\n",
      " 0.47877817 0.45852096 0.46832152 0.47433603 0.45597951 0.46716785\n",
      " 0.47186733 0.4680886  0.44665835 0.45238888 0.44527595 0.44020233\n",
      " 0.45853716 0.46687618 0.46944297 0.47363877 0.52025484 0.55704909\n",
      " 0.56524217 0.5832599  0.57359614 0.55699788 0.58112292 0.56778737\n",
      " 0.57996387 0.60283076 0.64646118 0.64240544 0.66240848 0.66924335\n",
      " 0.7056425  0.70960039 0.71876918 0.78654734 0.80266658 0.78272273\n",
      " 0.83246523 0.90218379 0.96487977 1.         0.9866305  0.93990158\n",
      " 0.87122066 0.830755   0.9142961  0.96035695 0.90220851 0.88627462\n",
      " 0.87675054 0.90446295 0.83068955 0.67606598]\n",
      "1 day output [[0.59027076]]\n",
      "2 day input [0.27699509 0.27861605 0.27435144 0.27523718 0.27832087 0.28468918\n",
      " 0.28898017 0.31131807 0.31481891 0.31397319 0.31831897 0.31642607\n",
      " 0.31751112 0.33176464 0.3223373  0.32643872 0.32911329 0.33488571\n",
      " 0.3338053  0.32921095 0.33905379 0.34356902 0.37917117 0.3788273\n",
      " 0.36080327 0.37670237 0.37307722 0.37205768 0.38216212 0.39631798\n",
      " 0.39733879 0.39119224 0.38842138 0.40714449 0.43002254 0.43392706\n",
      " 0.43424917 0.45404814 0.45456312 0.44786115 0.44771637 0.46601654\n",
      " 0.45677606 0.41784161 0.41680219 0.43179528 0.44312162 0.47877817\n",
      " 0.45852096 0.46832152 0.47433603 0.45597951 0.46716785 0.47186733\n",
      " 0.4680886  0.44665835 0.45238888 0.44527595 0.44020233 0.45853716\n",
      " 0.46687618 0.46944297 0.47363877 0.52025484 0.55704909 0.56524217\n",
      " 0.5832599  0.57359614 0.55699788 0.58112292 0.56778737 0.57996387\n",
      " 0.60283076 0.64646118 0.64240544 0.66240848 0.66924335 0.7056425\n",
      " 0.70960039 0.71876918 0.78654734 0.80266658 0.78272273 0.83246523\n",
      " 0.90218379 0.96487977 1.         0.9866305  0.93990158 0.87122066\n",
      " 0.830755   0.9142961  0.96035695 0.90220851 0.88627462 0.87675054\n",
      " 0.90446295 0.83068955 0.67606598 0.59027076]\n",
      "2 day output [[0.5922163]]\n",
      "3 day input [0.27861605 0.27435144 0.27523718 0.27832087 0.28468918 0.28898017\n",
      " 0.31131807 0.31481891 0.31397319 0.31831897 0.31642607 0.31751112\n",
      " 0.33176464 0.3223373  0.32643872 0.32911329 0.33488571 0.3338053\n",
      " 0.32921095 0.33905379 0.34356902 0.37917117 0.3788273  0.36080327\n",
      " 0.37670237 0.37307722 0.37205768 0.38216212 0.39631798 0.39733879\n",
      " 0.39119224 0.38842138 0.40714449 0.43002254 0.43392706 0.43424917\n",
      " 0.45404814 0.45456312 0.44786115 0.44771637 0.46601654 0.45677606\n",
      " 0.41784161 0.41680219 0.43179528 0.44312162 0.47877817 0.45852096\n",
      " 0.46832152 0.47433603 0.45597951 0.46716785 0.47186733 0.4680886\n",
      " 0.44665835 0.45238888 0.44527595 0.44020233 0.45853716 0.46687618\n",
      " 0.46944297 0.47363877 0.52025484 0.55704909 0.56524217 0.5832599\n",
      " 0.57359614 0.55699788 0.58112292 0.56778737 0.57996387 0.60283076\n",
      " 0.64646118 0.64240544 0.66240848 0.66924335 0.7056425  0.70960039\n",
      " 0.71876918 0.78654734 0.80266658 0.78272273 0.83246523 0.90218379\n",
      " 0.96487977 1.         0.9866305  0.93990158 0.87122066 0.830755\n",
      " 0.9142961  0.96035695 0.90220851 0.88627462 0.87675054 0.90446295\n",
      " 0.83068955 0.67606598 0.59027076 0.59221631]\n",
      "3 day output [[0.6229642]]\n",
      "4 day input [0.27435144 0.27523718 0.27832087 0.28468918 0.28898017 0.31131807\n",
      " 0.31481891 0.31397319 0.31831897 0.31642607 0.31751112 0.33176464\n",
      " 0.3223373  0.32643872 0.32911329 0.33488571 0.3338053  0.32921095\n",
      " 0.33905379 0.34356902 0.37917117 0.3788273  0.36080327 0.37670237\n",
      " 0.37307722 0.37205768 0.38216212 0.39631798 0.39733879 0.39119224\n",
      " 0.38842138 0.40714449 0.43002254 0.43392706 0.43424917 0.45404814\n",
      " 0.45456312 0.44786115 0.44771637 0.46601654 0.45677606 0.41784161\n",
      " 0.41680219 0.43179528 0.44312162 0.47877817 0.45852096 0.46832152\n",
      " 0.47433603 0.45597951 0.46716785 0.47186733 0.4680886  0.44665835\n",
      " 0.45238888 0.44527595 0.44020233 0.45853716 0.46687618 0.46944297\n",
      " 0.47363877 0.52025484 0.55704909 0.56524217 0.5832599  0.57359614\n",
      " 0.55699788 0.58112292 0.56778737 0.57996387 0.60283076 0.64646118\n",
      " 0.64240544 0.66240848 0.66924335 0.7056425  0.70960039 0.71876918\n",
      " 0.78654734 0.80266658 0.78272273 0.83246523 0.90218379 0.96487977\n",
      " 1.         0.9866305  0.93990158 0.87122066 0.830755   0.9142961\n",
      " 0.96035695 0.90220851 0.88627462 0.87675054 0.90446295 0.83068955\n",
      " 0.67606598 0.59027076 0.59221631 0.6229642 ]\n",
      "4 day output [[0.6392936]]\n",
      "5 day input [0.27523718 0.27832087 0.28468918 0.28898017 0.31131807 0.31481891\n",
      " 0.31397319 0.31831897 0.31642607 0.31751112 0.33176464 0.3223373\n",
      " 0.32643872 0.32911329 0.33488571 0.3338053  0.32921095 0.33905379\n",
      " 0.34356902 0.37917117 0.3788273  0.36080327 0.37670237 0.37307722\n",
      " 0.37205768 0.38216212 0.39631798 0.39733879 0.39119224 0.38842138\n",
      " 0.40714449 0.43002254 0.43392706 0.43424917 0.45404814 0.45456312\n",
      " 0.44786115 0.44771637 0.46601654 0.45677606 0.41784161 0.41680219\n",
      " 0.43179528 0.44312162 0.47877817 0.45852096 0.46832152 0.47433603\n",
      " 0.45597951 0.46716785 0.47186733 0.4680886  0.44665835 0.45238888\n",
      " 0.44527595 0.44020233 0.45853716 0.46687618 0.46944297 0.47363877\n",
      " 0.52025484 0.55704909 0.56524217 0.5832599  0.57359614 0.55699788\n",
      " 0.58112292 0.56778737 0.57996387 0.60283076 0.64646118 0.64240544\n",
      " 0.66240848 0.66924335 0.7056425  0.70960039 0.71876918 0.78654734\n",
      " 0.80266658 0.78272273 0.83246523 0.90218379 0.96487977 1.\n",
      " 0.9866305  0.93990158 0.87122066 0.830755   0.9142961  0.96035695\n",
      " 0.90220851 0.88627462 0.87675054 0.90446295 0.83068955 0.67606598\n",
      " 0.59027076 0.59221631 0.6229642  0.63929361]\n",
      "5 day output [[0.62761533]]\n",
      "6 day input [0.27832087 0.28468918 0.28898017 0.31131807 0.31481891 0.31397319\n",
      " 0.31831897 0.31642607 0.31751112 0.33176464 0.3223373  0.32643872\n",
      " 0.32911329 0.33488571 0.3338053  0.32921095 0.33905379 0.34356902\n",
      " 0.37917117 0.3788273  0.36080327 0.37670237 0.37307722 0.37205768\n",
      " 0.38216212 0.39631798 0.39733879 0.39119224 0.38842138 0.40714449\n",
      " 0.43002254 0.43392706 0.43424917 0.45404814 0.45456312 0.44786115\n",
      " 0.44771637 0.46601654 0.45677606 0.41784161 0.41680219 0.43179528\n",
      " 0.44312162 0.47877817 0.45852096 0.46832152 0.47433603 0.45597951\n",
      " 0.46716785 0.47186733 0.4680886  0.44665835 0.45238888 0.44527595\n",
      " 0.44020233 0.45853716 0.46687618 0.46944297 0.47363877 0.52025484\n",
      " 0.55704909 0.56524217 0.5832599  0.57359614 0.55699788 0.58112292\n",
      " 0.56778737 0.57996387 0.60283076 0.64646118 0.64240544 0.66240848\n",
      " 0.66924335 0.7056425  0.70960039 0.71876918 0.78654734 0.80266658\n",
      " 0.78272273 0.83246523 0.90218379 0.96487977 1.         0.9866305\n",
      " 0.93990158 0.87122066 0.830755   0.9142961  0.96035695 0.90220851\n",
      " 0.88627462 0.87675054 0.90446295 0.83068955 0.67606598 0.59027076\n",
      " 0.59221631 0.6229642  0.63929361 0.62761533]\n",
      "6 day output [[0.59750473]]\n",
      "7 day input [0.28468918 0.28898017 0.31131807 0.31481891 0.31397319 0.31831897\n",
      " 0.31642607 0.31751112 0.33176464 0.3223373  0.32643872 0.32911329\n",
      " 0.33488571 0.3338053  0.32921095 0.33905379 0.34356902 0.37917117\n",
      " 0.3788273  0.36080327 0.37670237 0.37307722 0.37205768 0.38216212\n",
      " 0.39631798 0.39733879 0.39119224 0.38842138 0.40714449 0.43002254\n",
      " 0.43392706 0.43424917 0.45404814 0.45456312 0.44786115 0.44771637\n",
      " 0.46601654 0.45677606 0.41784161 0.41680219 0.43179528 0.44312162\n",
      " 0.47877817 0.45852096 0.46832152 0.47433603 0.45597951 0.46716785\n",
      " 0.47186733 0.4680886  0.44665835 0.45238888 0.44527595 0.44020233\n",
      " 0.45853716 0.46687618 0.46944297 0.47363877 0.52025484 0.55704909\n",
      " 0.56524217 0.5832599  0.57359614 0.55699788 0.58112292 0.56778737\n",
      " 0.57996387 0.60283076 0.64646118 0.64240544 0.66240848 0.66924335\n",
      " 0.7056425  0.70960039 0.71876918 0.78654734 0.80266658 0.78272273\n",
      " 0.83246523 0.90218379 0.96487977 1.         0.9866305  0.93990158\n",
      " 0.87122066 0.830755   0.9142961  0.96035695 0.90220851 0.88627462\n",
      " 0.87675054 0.90446295 0.83068955 0.67606598 0.59027076 0.59221631\n",
      " 0.6229642  0.63929361 0.62761533 0.59750473]\n",
      "7 day output [[0.56718487]]\n",
      "8 day input [0.28898017 0.31131807 0.31481891 0.31397319 0.31831897 0.31642607\n",
      " 0.31751112 0.33176464 0.3223373  0.32643872 0.32911329 0.33488571\n",
      " 0.3338053  0.32921095 0.33905379 0.34356902 0.37917117 0.3788273\n",
      " 0.36080327 0.37670237 0.37307722 0.37205768 0.38216212 0.39631798\n",
      " 0.39733879 0.39119224 0.38842138 0.40714449 0.43002254 0.43392706\n",
      " 0.43424917 0.45404814 0.45456312 0.44786115 0.44771637 0.46601654\n",
      " 0.45677606 0.41784161 0.41680219 0.43179528 0.44312162 0.47877817\n",
      " 0.45852096 0.46832152 0.47433603 0.45597951 0.46716785 0.47186733\n",
      " 0.4680886  0.44665835 0.45238888 0.44527595 0.44020233 0.45853716\n",
      " 0.46687618 0.46944297 0.47363877 0.52025484 0.55704909 0.56524217\n",
      " 0.5832599  0.57359614 0.55699788 0.58112292 0.56778737 0.57996387\n",
      " 0.60283076 0.64646118 0.64240544 0.66240848 0.66924335 0.7056425\n",
      " 0.70960039 0.71876918 0.78654734 0.80266658 0.78272273 0.83246523\n",
      " 0.90218379 0.96487977 1.         0.9866305  0.93990158 0.87122066\n",
      " 0.830755   0.9142961  0.96035695 0.90220851 0.88627462 0.87675054\n",
      " 0.90446295 0.83068955 0.67606598 0.59027076 0.59221631 0.6229642\n",
      " 0.63929361 0.62761533 0.59750473 0.56718487]\n",
      "8 day output [[0.5483063]]\n",
      "9 day input [0.31131807 0.31481891 0.31397319 0.31831897 0.31642607 0.31751112\n",
      " 0.33176464 0.3223373  0.32643872 0.32911329 0.33488571 0.3338053\n",
      " 0.32921095 0.33905379 0.34356902 0.37917117 0.3788273  0.36080327\n",
      " 0.37670237 0.37307722 0.37205768 0.38216212 0.39631798 0.39733879\n",
      " 0.39119224 0.38842138 0.40714449 0.43002254 0.43392706 0.43424917\n",
      " 0.45404814 0.45456312 0.44786115 0.44771637 0.46601654 0.45677606\n",
      " 0.41784161 0.41680219 0.43179528 0.44312162 0.47877817 0.45852096\n",
      " 0.46832152 0.47433603 0.45597951 0.46716785 0.47186733 0.4680886\n",
      " 0.44665835 0.45238888 0.44527595 0.44020233 0.45853716 0.46687618\n",
      " 0.46944297 0.47363877 0.52025484 0.55704909 0.56524217 0.5832599\n",
      " 0.57359614 0.55699788 0.58112292 0.56778737 0.57996387 0.60283076\n",
      " 0.64646118 0.64240544 0.66240848 0.66924335 0.7056425  0.70960039\n",
      " 0.71876918 0.78654734 0.80266658 0.78272273 0.83246523 0.90218379\n",
      " 0.96487977 1.         0.9866305  0.93990158 0.87122066 0.830755\n",
      " 0.9142961  0.96035695 0.90220851 0.88627462 0.87675054 0.90446295\n",
      " 0.83068955 0.67606598 0.59027076 0.59221631 0.6229642  0.63929361\n",
      " 0.62761533 0.59750473 0.56718487 0.54830629]\n",
      "9 day output [[0.54104304]]\n",
      "10 day input [0.31481891 0.31397319 0.31831897 0.31642607 0.31751112 0.33176464\n",
      " 0.3223373  0.32643872 0.32911329 0.33488571 0.3338053  0.32921095\n",
      " 0.33905379 0.34356902 0.37917117 0.3788273  0.36080327 0.37670237\n",
      " 0.37307722 0.37205768 0.38216212 0.39631798 0.39733879 0.39119224\n",
      " 0.38842138 0.40714449 0.43002254 0.43392706 0.43424917 0.45404814\n",
      " 0.45456312 0.44786115 0.44771637 0.46601654 0.45677606 0.41784161\n",
      " 0.41680219 0.43179528 0.44312162 0.47877817 0.45852096 0.46832152\n",
      " 0.47433603 0.45597951 0.46716785 0.47186733 0.4680886  0.44665835\n",
      " 0.45238888 0.44527595 0.44020233 0.45853716 0.46687618 0.46944297\n",
      " 0.47363877 0.52025484 0.55704909 0.56524217 0.5832599  0.57359614\n",
      " 0.55699788 0.58112292 0.56778737 0.57996387 0.60283076 0.64646118\n",
      " 0.64240544 0.66240848 0.66924335 0.7056425  0.70960039 0.71876918\n",
      " 0.78654734 0.80266658 0.78272273 0.83246523 0.90218379 0.96487977\n",
      " 1.         0.9866305  0.93990158 0.87122066 0.830755   0.9142961\n",
      " 0.96035695 0.90220851 0.88627462 0.87675054 0.90446295 0.83068955\n",
      " 0.67606598 0.59027076 0.59221631 0.6229642  0.63929361 0.62761533\n",
      " 0.59750473 0.56718487 0.54830629 0.54104304]\n",
      "10 day output [[0.53929204]]\n",
      "11 day input [0.31397319 0.31831897 0.31642607 0.31751112 0.33176464 0.3223373\n",
      " 0.32643872 0.32911329 0.33488571 0.3338053  0.32921095 0.33905379\n",
      " 0.34356902 0.37917117 0.3788273  0.36080327 0.37670237 0.37307722\n",
      " 0.37205768 0.38216212 0.39631798 0.39733879 0.39119224 0.38842138\n",
      " 0.40714449 0.43002254 0.43392706 0.43424917 0.45404814 0.45456312\n",
      " 0.44786115 0.44771637 0.46601654 0.45677606 0.41784161 0.41680219\n",
      " 0.43179528 0.44312162 0.47877817 0.45852096 0.46832152 0.47433603\n",
      " 0.45597951 0.46716785 0.47186733 0.4680886  0.44665835 0.45238888\n",
      " 0.44527595 0.44020233 0.45853716 0.46687618 0.46944297 0.47363877\n",
      " 0.52025484 0.55704909 0.56524217 0.5832599  0.57359614 0.55699788\n",
      " 0.58112292 0.56778737 0.57996387 0.60283076 0.64646118 0.64240544\n",
      " 0.66240848 0.66924335 0.7056425  0.70960039 0.71876918 0.78654734\n",
      " 0.80266658 0.78272273 0.83246523 0.90218379 0.96487977 1.\n",
      " 0.9866305  0.93990158 0.87122066 0.830755   0.9142961  0.96035695\n",
      " 0.90220851 0.88627462 0.87675054 0.90446295 0.83068955 0.67606598\n",
      " 0.59027076 0.59221631 0.6229642  0.63929361 0.62761533 0.59750473\n",
      " 0.56718487 0.54830629 0.54104304 0.53929204]\n",
      "11 day output [[0.5370705]]\n",
      "12 day input [0.31831897 0.31642607 0.31751112 0.33176464 0.3223373  0.32643872\n",
      " 0.32911329 0.33488571 0.3338053  0.32921095 0.33905379 0.34356902\n",
      " 0.37917117 0.3788273  0.36080327 0.37670237 0.37307722 0.37205768\n",
      " 0.38216212 0.39631798 0.39733879 0.39119224 0.38842138 0.40714449\n",
      " 0.43002254 0.43392706 0.43424917 0.45404814 0.45456312 0.44786115\n",
      " 0.44771637 0.46601654 0.45677606 0.41784161 0.41680219 0.43179528\n",
      " 0.44312162 0.47877817 0.45852096 0.46832152 0.47433603 0.45597951\n",
      " 0.46716785 0.47186733 0.4680886  0.44665835 0.45238888 0.44527595\n",
      " 0.44020233 0.45853716 0.46687618 0.46944297 0.47363877 0.52025484\n",
      " 0.55704909 0.56524217 0.5832599  0.57359614 0.55699788 0.58112292\n",
      " 0.56778737 0.57996387 0.60283076 0.64646118 0.64240544 0.66240848\n",
      " 0.66924335 0.7056425  0.70960039 0.71876918 0.78654734 0.80266658\n",
      " 0.78272273 0.83246523 0.90218379 0.96487977 1.         0.9866305\n",
      " 0.93990158 0.87122066 0.830755   0.9142961  0.96035695 0.90220851\n",
      " 0.88627462 0.87675054 0.90446295 0.83068955 0.67606598 0.59027076\n",
      " 0.59221631 0.6229642  0.63929361 0.62761533 0.59750473 0.56718487\n",
      " 0.54830629 0.54104304 0.53929204 0.53707051]\n",
      "12 day output [[0.53150123]]\n",
      "13 day input [0.31642607 0.31751112 0.33176464 0.3223373  0.32643872 0.32911329\n",
      " 0.33488571 0.3338053  0.32921095 0.33905379 0.34356902 0.37917117\n",
      " 0.3788273  0.36080327 0.37670237 0.37307722 0.37205768 0.38216212\n",
      " 0.39631798 0.39733879 0.39119224 0.38842138 0.40714449 0.43002254\n",
      " 0.43392706 0.43424917 0.45404814 0.45456312 0.44786115 0.44771637\n",
      " 0.46601654 0.45677606 0.41784161 0.41680219 0.43179528 0.44312162\n",
      " 0.47877817 0.45852096 0.46832152 0.47433603 0.45597951 0.46716785\n",
      " 0.47186733 0.4680886  0.44665835 0.45238888 0.44527595 0.44020233\n",
      " 0.45853716 0.46687618 0.46944297 0.47363877 0.52025484 0.55704909\n",
      " 0.56524217 0.5832599  0.57359614 0.55699788 0.58112292 0.56778737\n",
      " 0.57996387 0.60283076 0.64646118 0.64240544 0.66240848 0.66924335\n",
      " 0.7056425  0.70960039 0.71876918 0.78654734 0.80266658 0.78272273\n",
      " 0.83246523 0.90218379 0.96487977 1.         0.9866305  0.93990158\n",
      " 0.87122066 0.830755   0.9142961  0.96035695 0.90220851 0.88627462\n",
      " 0.87675054 0.90446295 0.83068955 0.67606598 0.59027076 0.59221631\n",
      " 0.6229642  0.63929361 0.62761533 0.59750473 0.56718487 0.54830629\n",
      " 0.54104304 0.53929204 0.53707051 0.53150123]\n",
      "13 day output [[0.52281004]]\n",
      "14 day input [0.31751112 0.33176464 0.3223373  0.32643872 0.32911329 0.33488571\n",
      " 0.3338053  0.32921095 0.33905379 0.34356902 0.37917117 0.3788273\n",
      " 0.36080327 0.37670237 0.37307722 0.37205768 0.38216212 0.39631798\n",
      " 0.39733879 0.39119224 0.38842138 0.40714449 0.43002254 0.43392706\n",
      " 0.43424917 0.45404814 0.45456312 0.44786115 0.44771637 0.46601654\n",
      " 0.45677606 0.41784161 0.41680219 0.43179528 0.44312162 0.47877817\n",
      " 0.45852096 0.46832152 0.47433603 0.45597951 0.46716785 0.47186733\n",
      " 0.4680886  0.44665835 0.45238888 0.44527595 0.44020233 0.45853716\n",
      " 0.46687618 0.46944297 0.47363877 0.52025484 0.55704909 0.56524217\n",
      " 0.5832599  0.57359614 0.55699788 0.58112292 0.56778737 0.57996387\n",
      " 0.60283076 0.64646118 0.64240544 0.66240848 0.66924335 0.7056425\n",
      " 0.70960039 0.71876918 0.78654734 0.80266658 0.78272273 0.83246523\n",
      " 0.90218379 0.96487977 1.         0.9866305  0.93990158 0.87122066\n",
      " 0.830755   0.9142961  0.96035695 0.90220851 0.88627462 0.87675054\n",
      " 0.90446295 0.83068955 0.67606598 0.59027076 0.59221631 0.6229642\n",
      " 0.63929361 0.62761533 0.59750473 0.56718487 0.54830629 0.54104304\n",
      " 0.53929204 0.53707051 0.53150123 0.52281004]\n",
      "14 day output [[0.512842]]\n",
      "15 day input [0.33176464 0.3223373  0.32643872 0.32911329 0.33488571 0.3338053\n",
      " 0.32921095 0.33905379 0.34356902 0.37917117 0.3788273  0.36080327\n",
      " 0.37670237 0.37307722 0.37205768 0.38216212 0.39631798 0.39733879\n",
      " 0.39119224 0.38842138 0.40714449 0.43002254 0.43392706 0.43424917\n",
      " 0.45404814 0.45456312 0.44786115 0.44771637 0.46601654 0.45677606\n",
      " 0.41784161 0.41680219 0.43179528 0.44312162 0.47877817 0.45852096\n",
      " 0.46832152 0.47433603 0.45597951 0.46716785 0.47186733 0.4680886\n",
      " 0.44665835 0.45238888 0.44527595 0.44020233 0.45853716 0.46687618\n",
      " 0.46944297 0.47363877 0.52025484 0.55704909 0.56524217 0.5832599\n",
      " 0.57359614 0.55699788 0.58112292 0.56778737 0.57996387 0.60283076\n",
      " 0.64646118 0.64240544 0.66240848 0.66924335 0.7056425  0.70960039\n",
      " 0.71876918 0.78654734 0.80266658 0.78272273 0.83246523 0.90218379\n",
      " 0.96487977 1.         0.9866305  0.93990158 0.87122066 0.830755\n",
      " 0.9142961  0.96035695 0.90220851 0.88627462 0.87675054 0.90446295\n",
      " 0.83068955 0.67606598 0.59027076 0.59221631 0.6229642  0.63929361\n",
      " 0.62761533 0.59750473 0.56718487 0.54830629 0.54104304 0.53929204\n",
      " 0.53707051 0.53150123 0.52281004 0.512842  ]\n",
      "15 day output [[0.50342023]]\n",
      "16 day input [0.3223373  0.32643872 0.32911329 0.33488571 0.3338053  0.32921095\n",
      " 0.33905379 0.34356902 0.37917117 0.3788273  0.36080327 0.37670237\n",
      " 0.37307722 0.37205768 0.38216212 0.39631798 0.39733879 0.39119224\n",
      " 0.38842138 0.40714449 0.43002254 0.43392706 0.43424917 0.45404814\n",
      " 0.45456312 0.44786115 0.44771637 0.46601654 0.45677606 0.41784161\n",
      " 0.41680219 0.43179528 0.44312162 0.47877817 0.45852096 0.46832152\n",
      " 0.47433603 0.45597951 0.46716785 0.47186733 0.4680886  0.44665835\n",
      " 0.45238888 0.44527595 0.44020233 0.45853716 0.46687618 0.46944297\n",
      " 0.47363877 0.52025484 0.55704909 0.56524217 0.5832599  0.57359614\n",
      " 0.55699788 0.58112292 0.56778737 0.57996387 0.60283076 0.64646118\n",
      " 0.64240544 0.66240848 0.66924335 0.7056425  0.70960039 0.71876918\n",
      " 0.78654734 0.80266658 0.78272273 0.83246523 0.90218379 0.96487977\n",
      " 1.         0.9866305  0.93990158 0.87122066 0.830755   0.9142961\n",
      " 0.96035695 0.90220851 0.88627462 0.87675054 0.90446295 0.83068955\n",
      " 0.67606598 0.59027076 0.59221631 0.6229642  0.63929361 0.62761533\n",
      " 0.59750473 0.56718487 0.54830629 0.54104304 0.53929204 0.53707051\n",
      " 0.53150123 0.52281004 0.512842   0.50342023]\n",
      "16 day output [[0.49544358]]\n",
      "17 day input [0.32643872 0.32911329 0.33488571 0.3338053  0.32921095 0.33905379\n",
      " 0.34356902 0.37917117 0.3788273  0.36080327 0.37670237 0.37307722\n",
      " 0.37205768 0.38216212 0.39631798 0.39733879 0.39119224 0.38842138\n",
      " 0.40714449 0.43002254 0.43392706 0.43424917 0.45404814 0.45456312\n",
      " 0.44786115 0.44771637 0.46601654 0.45677606 0.41784161 0.41680219\n",
      " 0.43179528 0.44312162 0.47877817 0.45852096 0.46832152 0.47433603\n",
      " 0.45597951 0.46716785 0.47186733 0.4680886  0.44665835 0.45238888\n",
      " 0.44527595 0.44020233 0.45853716 0.46687618 0.46944297 0.47363877\n",
      " 0.52025484 0.55704909 0.56524217 0.5832599  0.57359614 0.55699788\n",
      " 0.58112292 0.56778737 0.57996387 0.60283076 0.64646118 0.64240544\n",
      " 0.66240848 0.66924335 0.7056425  0.70960039 0.71876918 0.78654734\n",
      " 0.80266658 0.78272273 0.83246523 0.90218379 0.96487977 1.\n",
      " 0.9866305  0.93990158 0.87122066 0.830755   0.9142961  0.96035695\n",
      " 0.90220851 0.88627462 0.87675054 0.90446295 0.83068955 0.67606598\n",
      " 0.59027076 0.59221631 0.6229642  0.63929361 0.62761533 0.59750473\n",
      " 0.56718487 0.54830629 0.54104304 0.53929204 0.53707051 0.53150123\n",
      " 0.52281004 0.512842   0.50342023 0.49544358]\n",
      "17 day output [[0.48887298]]\n",
      "18 day input [0.32911329 0.33488571 0.3338053  0.32921095 0.33905379 0.34356902\n",
      " 0.37917117 0.3788273  0.36080327 0.37670237 0.37307722 0.37205768\n",
      " 0.38216212 0.39631798 0.39733879 0.39119224 0.38842138 0.40714449\n",
      " 0.43002254 0.43392706 0.43424917 0.45404814 0.45456312 0.44786115\n",
      " 0.44771637 0.46601654 0.45677606 0.41784161 0.41680219 0.43179528\n",
      " 0.44312162 0.47877817 0.45852096 0.46832152 0.47433603 0.45597951\n",
      " 0.46716785 0.47186733 0.4680886  0.44665835 0.45238888 0.44527595\n",
      " 0.44020233 0.45853716 0.46687618 0.46944297 0.47363877 0.52025484\n",
      " 0.55704909 0.56524217 0.5832599  0.57359614 0.55699788 0.58112292\n",
      " 0.56778737 0.57996387 0.60283076 0.64646118 0.64240544 0.66240848\n",
      " 0.66924335 0.7056425  0.70960039 0.71876918 0.78654734 0.80266658\n",
      " 0.78272273 0.83246523 0.90218379 0.96487977 1.         0.9866305\n",
      " 0.93990158 0.87122066 0.830755   0.9142961  0.96035695 0.90220851\n",
      " 0.88627462 0.87675054 0.90446295 0.83068955 0.67606598 0.59027076\n",
      " 0.59221631 0.6229642  0.63929361 0.62761533 0.59750473 0.56718487\n",
      " 0.54830629 0.54104304 0.53929204 0.53707051 0.53150123 0.52281004\n",
      " 0.512842   0.50342023 0.49544358 0.48887298]\n",
      "18 day output [[0.4831951]]\n",
      "19 day input [0.33488571 0.3338053  0.32921095 0.33905379 0.34356902 0.37917117\n",
      " 0.3788273  0.36080327 0.37670237 0.37307722 0.37205768 0.38216212\n",
      " 0.39631798 0.39733879 0.39119224 0.38842138 0.40714449 0.43002254\n",
      " 0.43392706 0.43424917 0.45404814 0.45456312 0.44786115 0.44771637\n",
      " 0.46601654 0.45677606 0.41784161 0.41680219 0.43179528 0.44312162\n",
      " 0.47877817 0.45852096 0.46832152 0.47433603 0.45597951 0.46716785\n",
      " 0.47186733 0.4680886  0.44665835 0.45238888 0.44527595 0.44020233\n",
      " 0.45853716 0.46687618 0.46944297 0.47363877 0.52025484 0.55704909\n",
      " 0.56524217 0.5832599  0.57359614 0.55699788 0.58112292 0.56778737\n",
      " 0.57996387 0.60283076 0.64646118 0.64240544 0.66240848 0.66924335\n",
      " 0.7056425  0.70960039 0.71876918 0.78654734 0.80266658 0.78272273\n",
      " 0.83246523 0.90218379 0.96487977 1.         0.9866305  0.93990158\n",
      " 0.87122066 0.830755   0.9142961  0.96035695 0.90220851 0.88627462\n",
      " 0.87675054 0.90446295 0.83068955 0.67606598 0.59027076 0.59221631\n",
      " 0.6229642  0.63929361 0.62761533 0.59750473 0.56718487 0.54830629\n",
      " 0.54104304 0.53929204 0.53707051 0.53150123 0.52281004 0.512842\n",
      " 0.50342023 0.49544358 0.48887298 0.4831951 ]\n",
      "19 day output [[0.47789547]]\n",
      "20 day input [0.3338053  0.32921095 0.33905379 0.34356902 0.37917117 0.3788273\n",
      " 0.36080327 0.37670237 0.37307722 0.37205768 0.38216212 0.39631798\n",
      " 0.39733879 0.39119224 0.38842138 0.40714449 0.43002254 0.43392706\n",
      " 0.43424917 0.45404814 0.45456312 0.44786115 0.44771637 0.46601654\n",
      " 0.45677606 0.41784161 0.41680219 0.43179528 0.44312162 0.47877817\n",
      " 0.45852096 0.46832152 0.47433603 0.45597951 0.46716785 0.47186733\n",
      " 0.4680886  0.44665835 0.45238888 0.44527595 0.44020233 0.45853716\n",
      " 0.46687618 0.46944297 0.47363877 0.52025484 0.55704909 0.56524217\n",
      " 0.5832599  0.57359614 0.55699788 0.58112292 0.56778737 0.57996387\n",
      " 0.60283076 0.64646118 0.64240544 0.66240848 0.66924335 0.7056425\n",
      " 0.70960039 0.71876918 0.78654734 0.80266658 0.78272273 0.83246523\n",
      " 0.90218379 0.96487977 1.         0.9866305  0.93990158 0.87122066\n",
      " 0.830755   0.9142961  0.96035695 0.90220851 0.88627462 0.87675054\n",
      " 0.90446295 0.83068955 0.67606598 0.59027076 0.59221631 0.6229642\n",
      " 0.63929361 0.62761533 0.59750473 0.56718487 0.54830629 0.54104304\n",
      " 0.53929204 0.53707051 0.53150123 0.52281004 0.512842   0.50342023\n",
      " 0.49544358 0.48887298 0.4831951  0.47789547]\n",
      "20 day output [[0.4727057]]\n",
      "21 day input [0.32921095 0.33905379 0.34356902 0.37917117 0.3788273  0.36080327\n",
      " 0.37670237 0.37307722 0.37205768 0.38216212 0.39631798 0.39733879\n",
      " 0.39119224 0.38842138 0.40714449 0.43002254 0.43392706 0.43424917\n",
      " 0.45404814 0.45456312 0.44786115 0.44771637 0.46601654 0.45677606\n",
      " 0.41784161 0.41680219 0.43179528 0.44312162 0.47877817 0.45852096\n",
      " 0.46832152 0.47433603 0.45597951 0.46716785 0.47186733 0.4680886\n",
      " 0.44665835 0.45238888 0.44527595 0.44020233 0.45853716 0.46687618\n",
      " 0.46944297 0.47363877 0.52025484 0.55704909 0.56524217 0.5832599\n",
      " 0.57359614 0.55699788 0.58112292 0.56778737 0.57996387 0.60283076\n",
      " 0.64646118 0.64240544 0.66240848 0.66924335 0.7056425  0.70960039\n",
      " 0.71876918 0.78654734 0.80266658 0.78272273 0.83246523 0.90218379\n",
      " 0.96487977 1.         0.9866305  0.93990158 0.87122066 0.830755\n",
      " 0.9142961  0.96035695 0.90220851 0.88627462 0.87675054 0.90446295\n",
      " 0.83068955 0.67606598 0.59027076 0.59221631 0.6229642  0.63929361\n",
      " 0.62761533 0.59750473 0.56718487 0.54830629 0.54104304 0.53929204\n",
      " 0.53707051 0.53150123 0.52281004 0.512842   0.50342023 0.49544358\n",
      " 0.48887298 0.4831951  0.47789547 0.47270569]\n",
      "21 day output [[0.46761996]]\n",
      "22 day input [0.33905379 0.34356902 0.37917117 0.3788273  0.36080327 0.37670237\n",
      " 0.37307722 0.37205768 0.38216212 0.39631798 0.39733879 0.39119224\n",
      " 0.38842138 0.40714449 0.43002254 0.43392706 0.43424917 0.45404814\n",
      " 0.45456312 0.44786115 0.44771637 0.46601654 0.45677606 0.41784161\n",
      " 0.41680219 0.43179528 0.44312162 0.47877817 0.45852096 0.46832152\n",
      " 0.47433603 0.45597951 0.46716785 0.47186733 0.4680886  0.44665835\n",
      " 0.45238888 0.44527595 0.44020233 0.45853716 0.46687618 0.46944297\n",
      " 0.47363877 0.52025484 0.55704909 0.56524217 0.5832599  0.57359614\n",
      " 0.55699788 0.58112292 0.56778737 0.57996387 0.60283076 0.64646118\n",
      " 0.64240544 0.66240848 0.66924335 0.7056425  0.70960039 0.71876918\n",
      " 0.78654734 0.80266658 0.78272273 0.83246523 0.90218379 0.96487977\n",
      " 1.         0.9866305  0.93990158 0.87122066 0.830755   0.9142961\n",
      " 0.96035695 0.90220851 0.88627462 0.87675054 0.90446295 0.83068955\n",
      " 0.67606598 0.59027076 0.59221631 0.6229642  0.63929361 0.62761533\n",
      " 0.59750473 0.56718487 0.54830629 0.54104304 0.53929204 0.53707051\n",
      " 0.53150123 0.52281004 0.512842   0.50342023 0.49544358 0.48887298\n",
      " 0.4831951  0.47789547 0.47270569 0.46761996]\n",
      "22 day output [[0.46278247]]\n",
      "23 day input [0.34356902 0.37917117 0.3788273  0.36080327 0.37670237 0.37307722\n",
      " 0.37205768 0.38216212 0.39631798 0.39733879 0.39119224 0.38842138\n",
      " 0.40714449 0.43002254 0.43392706 0.43424917 0.45404814 0.45456312\n",
      " 0.44786115 0.44771637 0.46601654 0.45677606 0.41784161 0.41680219\n",
      " 0.43179528 0.44312162 0.47877817 0.45852096 0.46832152 0.47433603\n",
      " 0.45597951 0.46716785 0.47186733 0.4680886  0.44665835 0.45238888\n",
      " 0.44527595 0.44020233 0.45853716 0.46687618 0.46944297 0.47363877\n",
      " 0.52025484 0.55704909 0.56524217 0.5832599  0.57359614 0.55699788\n",
      " 0.58112292 0.56778737 0.57996387 0.60283076 0.64646118 0.64240544\n",
      " 0.66240848 0.66924335 0.7056425  0.70960039 0.71876918 0.78654734\n",
      " 0.80266658 0.78272273 0.83246523 0.90218379 0.96487977 1.\n",
      " 0.9866305  0.93990158 0.87122066 0.830755   0.9142961  0.96035695\n",
      " 0.90220851 0.88627462 0.87675054 0.90446295 0.83068955 0.67606598\n",
      " 0.59027076 0.59221631 0.6229642  0.63929361 0.62761533 0.59750473\n",
      " 0.56718487 0.54830629 0.54104304 0.53929204 0.53707051 0.53150123\n",
      " 0.52281004 0.512842   0.50342023 0.49544358 0.48887298 0.4831951\n",
      " 0.47789547 0.47270569 0.46761996 0.46278247]\n",
      "23 day output [[0.45835686]]\n",
      "24 day input [0.37917117 0.3788273  0.36080327 0.37670237 0.37307722 0.37205768\n",
      " 0.38216212 0.39631798 0.39733879 0.39119224 0.38842138 0.40714449\n",
      " 0.43002254 0.43392706 0.43424917 0.45404814 0.45456312 0.44786115\n",
      " 0.44771637 0.46601654 0.45677606 0.41784161 0.41680219 0.43179528\n",
      " 0.44312162 0.47877817 0.45852096 0.46832152 0.47433603 0.45597951\n",
      " 0.46716785 0.47186733 0.4680886  0.44665835 0.45238888 0.44527595\n",
      " 0.44020233 0.45853716 0.46687618 0.46944297 0.47363877 0.52025484\n",
      " 0.55704909 0.56524217 0.5832599  0.57359614 0.55699788 0.58112292\n",
      " 0.56778737 0.57996387 0.60283076 0.64646118 0.64240544 0.66240848\n",
      " 0.66924335 0.7056425  0.70960039 0.71876918 0.78654734 0.80266658\n",
      " 0.78272273 0.83246523 0.90218379 0.96487977 1.         0.9866305\n",
      " 0.93990158 0.87122066 0.830755   0.9142961  0.96035695 0.90220851\n",
      " 0.88627462 0.87675054 0.90446295 0.83068955 0.67606598 0.59027076\n",
      " 0.59221631 0.6229642  0.63929361 0.62761533 0.59750473 0.56718487\n",
      " 0.54830629 0.54104304 0.53929204 0.53707051 0.53150123 0.52281004\n",
      " 0.512842   0.50342023 0.49544358 0.48887298 0.4831951  0.47789547\n",
      " 0.47270569 0.46761996 0.46278247 0.45835686]\n",
      "24 day output [[0.4544435]]\n",
      "25 day input [0.3788273  0.36080327 0.37670237 0.37307722 0.37205768 0.38216212\n",
      " 0.39631798 0.39733879 0.39119224 0.38842138 0.40714449 0.43002254\n",
      " 0.43392706 0.43424917 0.45404814 0.45456312 0.44786115 0.44771637\n",
      " 0.46601654 0.45677606 0.41784161 0.41680219 0.43179528 0.44312162\n",
      " 0.47877817 0.45852096 0.46832152 0.47433603 0.45597951 0.46716785\n",
      " 0.47186733 0.4680886  0.44665835 0.45238888 0.44527595 0.44020233\n",
      " 0.45853716 0.46687618 0.46944297 0.47363877 0.52025484 0.55704909\n",
      " 0.56524217 0.5832599  0.57359614 0.55699788 0.58112292 0.56778737\n",
      " 0.57996387 0.60283076 0.64646118 0.64240544 0.66240848 0.66924335\n",
      " 0.7056425  0.70960039 0.71876918 0.78654734 0.80266658 0.78272273\n",
      " 0.83246523 0.90218379 0.96487977 1.         0.9866305  0.93990158\n",
      " 0.87122066 0.830755   0.9142961  0.96035695 0.90220851 0.88627462\n",
      " 0.87675054 0.90446295 0.83068955 0.67606598 0.59027076 0.59221631\n",
      " 0.6229642  0.63929361 0.62761533 0.59750473 0.56718487 0.54830629\n",
      " 0.54104304 0.53929204 0.53707051 0.53150123 0.52281004 0.512842\n",
      " 0.50342023 0.49544358 0.48887298 0.4831951  0.47789547 0.47270569\n",
      " 0.46761996 0.46278247 0.45835686 0.45444351]\n",
      "25 day output [[0.4510606]]\n",
      "26 day input [0.36080327 0.37670237 0.37307722 0.37205768 0.38216212 0.39631798\n",
      " 0.39733879 0.39119224 0.38842138 0.40714449 0.43002254 0.43392706\n",
      " 0.43424917 0.45404814 0.45456312 0.44786115 0.44771637 0.46601654\n",
      " 0.45677606 0.41784161 0.41680219 0.43179528 0.44312162 0.47877817\n",
      " 0.45852096 0.46832152 0.47433603 0.45597951 0.46716785 0.47186733\n",
      " 0.4680886  0.44665835 0.45238888 0.44527595 0.44020233 0.45853716\n",
      " 0.46687618 0.46944297 0.47363877 0.52025484 0.55704909 0.56524217\n",
      " 0.5832599  0.57359614 0.55699788 0.58112292 0.56778737 0.57996387\n",
      " 0.60283076 0.64646118 0.64240544 0.66240848 0.66924335 0.7056425\n",
      " 0.70960039 0.71876918 0.78654734 0.80266658 0.78272273 0.83246523\n",
      " 0.90218379 0.96487977 1.         0.9866305  0.93990158 0.87122066\n",
      " 0.830755   0.9142961  0.96035695 0.90220851 0.88627462 0.87675054\n",
      " 0.90446295 0.83068955 0.67606598 0.59027076 0.59221631 0.6229642\n",
      " 0.63929361 0.62761533 0.59750473 0.56718487 0.54830629 0.54104304\n",
      " 0.53929204 0.53707051 0.53150123 0.52281004 0.512842   0.50342023\n",
      " 0.49544358 0.48887298 0.4831951  0.47789547 0.47270569 0.46761996\n",
      " 0.46278247 0.45835686 0.45444351 0.45106059]\n",
      "26 day output [[0.44816646]]\n",
      "27 day input [0.37670237 0.37307722 0.37205768 0.38216212 0.39631798 0.39733879\n",
      " 0.39119224 0.38842138 0.40714449 0.43002254 0.43392706 0.43424917\n",
      " 0.45404814 0.45456312 0.44786115 0.44771637 0.46601654 0.45677606\n",
      " 0.41784161 0.41680219 0.43179528 0.44312162 0.47877817 0.45852096\n",
      " 0.46832152 0.47433603 0.45597951 0.46716785 0.47186733 0.4680886\n",
      " 0.44665835 0.45238888 0.44527595 0.44020233 0.45853716 0.46687618\n",
      " 0.46944297 0.47363877 0.52025484 0.55704909 0.56524217 0.5832599\n",
      " 0.57359614 0.55699788 0.58112292 0.56778737 0.57996387 0.60283076\n",
      " 0.64646118 0.64240544 0.66240848 0.66924335 0.7056425  0.70960039\n",
      " 0.71876918 0.78654734 0.80266658 0.78272273 0.83246523 0.90218379\n",
      " 0.96487977 1.         0.9866305  0.93990158 0.87122066 0.830755\n",
      " 0.9142961  0.96035695 0.90220851 0.88627462 0.87675054 0.90446295\n",
      " 0.83068955 0.67606598 0.59027076 0.59221631 0.6229642  0.63929361\n",
      " 0.62761533 0.59750473 0.56718487 0.54830629 0.54104304 0.53929204\n",
      " 0.53707051 0.53150123 0.52281004 0.512842   0.50342023 0.49544358\n",
      " 0.48887298 0.4831951  0.47789547 0.47270569 0.46761996 0.46278247\n",
      " 0.45835686 0.45444351 0.45106059 0.44816646]\n",
      "27 day output [[0.445696]]\n",
      "28 day input [0.37307722 0.37205768 0.38216212 0.39631798 0.39733879 0.39119224\n",
      " 0.38842138 0.40714449 0.43002254 0.43392706 0.43424917 0.45404814\n",
      " 0.45456312 0.44786115 0.44771637 0.46601654 0.45677606 0.41784161\n",
      " 0.41680219 0.43179528 0.44312162 0.47877817 0.45852096 0.46832152\n",
      " 0.47433603 0.45597951 0.46716785 0.47186733 0.4680886  0.44665835\n",
      " 0.45238888 0.44527595 0.44020233 0.45853716 0.46687618 0.46944297\n",
      " 0.47363877 0.52025484 0.55704909 0.56524217 0.5832599  0.57359614\n",
      " 0.55699788 0.58112292 0.56778737 0.57996387 0.60283076 0.64646118\n",
      " 0.64240544 0.66240848 0.66924335 0.7056425  0.70960039 0.71876918\n",
      " 0.78654734 0.80266658 0.78272273 0.83246523 0.90218379 0.96487977\n",
      " 1.         0.9866305  0.93990158 0.87122066 0.830755   0.9142961\n",
      " 0.96035695 0.90220851 0.88627462 0.87675054 0.90446295 0.83068955\n",
      " 0.67606598 0.59027076 0.59221631 0.6229642  0.63929361 0.62761533\n",
      " 0.59750473 0.56718487 0.54830629 0.54104304 0.53929204 0.53707051\n",
      " 0.53150123 0.52281004 0.512842   0.50342023 0.49544358 0.48887298\n",
      " 0.4831951  0.47789547 0.47270569 0.46761996 0.46278247 0.45835686\n",
      " 0.45444351 0.45106059 0.44816646 0.445696  ]\n",
      "28 day output [[0.44358864]]\n",
      "29 day input [0.37205768 0.38216212 0.39631798 0.39733879 0.39119224 0.38842138\n",
      " 0.40714449 0.43002254 0.43392706 0.43424917 0.45404814 0.45456312\n",
      " 0.44786115 0.44771637 0.46601654 0.45677606 0.41784161 0.41680219\n",
      " 0.43179528 0.44312162 0.47877817 0.45852096 0.46832152 0.47433603\n",
      " 0.45597951 0.46716785 0.47186733 0.4680886  0.44665835 0.45238888\n",
      " 0.44527595 0.44020233 0.45853716 0.46687618 0.46944297 0.47363877\n",
      " 0.52025484 0.55704909 0.56524217 0.5832599  0.57359614 0.55699788\n",
      " 0.58112292 0.56778737 0.57996387 0.60283076 0.64646118 0.64240544\n",
      " 0.66240848 0.66924335 0.7056425  0.70960039 0.71876918 0.78654734\n",
      " 0.80266658 0.78272273 0.83246523 0.90218379 0.96487977 1.\n",
      " 0.9866305  0.93990158 0.87122066 0.830755   0.9142961  0.96035695\n",
      " 0.90220851 0.88627462 0.87675054 0.90446295 0.83068955 0.67606598\n",
      " 0.59027076 0.59221631 0.6229642  0.63929361 0.62761533 0.59750473\n",
      " 0.56718487 0.54830629 0.54104304 0.53929204 0.53707051 0.53150123\n",
      " 0.52281004 0.512842   0.50342023 0.49544358 0.48887298 0.4831951\n",
      " 0.47789547 0.47270569 0.46761996 0.46278247 0.45835686 0.45444351\n",
      " 0.45106059 0.44816646 0.445696   0.44358864]\n",
      "29 day output [[0.44180098]]\n",
      "[[0.676065981388092], [0.5902707576751709], [0.5922163128852844], [0.6229642033576965], [0.6392936110496521], [0.6276153326034546], [0.597504734992981], [0.5671848654747009], [0.5483062863349915], [0.5410430431365967], [0.53929203748703], [0.5370705127716064], [0.5315012335777283], [0.5228100419044495], [0.5128419995307922], [0.5034202337265015], [0.49544358253479004], [0.4888729751110077], [0.48319509625434875], [0.47789546847343445], [0.4727056920528412], [0.46761995553970337], [0.46278247237205505], [0.4583568572998047], [0.4544435143470764], [0.45106059312820435], [0.44816645979881287], [0.44569599628448486], [0.44358864426612854], [0.441800981760025]]\n"
     ]
    }
   ],
   "source": [
    "# predict for next 30 days\n",
    "lst_output=[]\n",
    "n_steps=100\n",
    "i=0\n",
    "\n",
    "while i<30:\n",
    "    if(len(temp_input)>100):\n",
    "        x_input=np.array(temp_input[1:])\n",
    "        print(\"{} day input {}\".format(i,x_input))\n",
    "        x_input=x_input.reshape(1,-1)\n",
    "        x_input=x_input.reshape((1,n_steps,1))\n",
    "        yhat=model.predict(x_input, verbose=0)\n",
    "        print(\"{} day output {}\".format(i,yhat))\n",
    "        temp_input.extend(yhat[0].tolist())\n",
    "        temp_input=temp_input[1:]\n",
    "        lst_output.extend(yhat.tolist())\n",
    "        i=i+1\n",
    "    else:\n",
    "        x_input=x_input.reshape((1, n_steps, 1))\n",
    "        yhat=model.predict(x_input, verbose=0)\n",
    "        print(yhat[0])\n",
    "        temp_input.extend(yhat[0].tolist())\n",
    "        print(len(temp_input))\n",
    "        lst_output.extend(yhat.tolist())\n",
    "        i=i+1\n",
    "    \n",
    "print(lst_output)    \n",
    "    \n"
   ]
  },
  {
   "cell_type": "code",
   "execution_count": 102,
   "metadata": {},
   "outputs": [],
   "source": [
    "day_new=np.arange(1,101)\n",
    "day_pred=np.arange(1,101)"
   ]
  },
  {
   "cell_type": "code",
   "execution_count": 103,
   "metadata": {},
   "outputs": [
    {
     "data": {
      "text/plain": [
       "2316"
      ]
     },
     "execution_count": 103,
     "metadata": {},
     "output_type": "execute_result"
    }
   ],
   "source": [
    "len(df1)"
   ]
  },
  {
   "cell_type": "code",
   "execution_count": 104,
   "metadata": {},
   "outputs": [],
   "source": [
    "df3=df1.tolist()\n",
    "df3.extend(lst_output)"
   ]
  },
  {
   "cell_type": "code",
   "execution_count": 115,
   "metadata": {
    "collapsed": true,
    "jupyter": {
     "outputs_hidden": true
    }
   },
   "outputs": [
    {
     "ename": "ValueError",
     "evalue": "x and y must have same first dimension, but have shapes (100,) and (30, 1)",
     "output_type": "error",
     "traceback": [
      "\u001b[1;31m---------------------------------------------------------------------------\u001b[0m",
      "\u001b[1;31mValueError\u001b[0m                                Traceback (most recent call last)",
      "\u001b[1;32m<ipython-input-115-18eee0eff5ad>\u001b[0m in \u001b[0;36m<module>\u001b[1;34m\u001b[0m\n\u001b[0;32m      1\u001b[0m \u001b[0mplt\u001b[0m\u001b[1;33m.\u001b[0m\u001b[0mplot\u001b[0m\u001b[1;33m(\u001b[0m\u001b[0mday_new\u001b[0m\u001b[1;33m,\u001b[0m\u001b[0mscaler\u001b[0m\u001b[1;33m.\u001b[0m\u001b[0minverse_transform\u001b[0m\u001b[1;33m(\u001b[0m\u001b[0mdf1\u001b[0m\u001b[1;33m[\u001b[0m\u001b[0mlen\u001b[0m\u001b[1;33m(\u001b[0m\u001b[0mdf1\u001b[0m\u001b[1;33m)\u001b[0m\u001b[1;33m-\u001b[0m\u001b[1;36m100\u001b[0m\u001b[1;33m:\u001b[0m\u001b[1;33m]\u001b[0m\u001b[1;33m)\u001b[0m\u001b[1;33m)\u001b[0m\u001b[1;33m\u001b[0m\u001b[1;33m\u001b[0m\u001b[0m\n\u001b[1;32m----> 2\u001b[1;33m \u001b[0mplt\u001b[0m\u001b[1;33m.\u001b[0m\u001b[0mplot\u001b[0m\u001b[1;33m(\u001b[0m\u001b[0mday_pred\u001b[0m\u001b[1;33m,\u001b[0m\u001b[0mscaler\u001b[0m\u001b[1;33m.\u001b[0m\u001b[0minverse_transform\u001b[0m\u001b[1;33m(\u001b[0m\u001b[0mlst_output\u001b[0m\u001b[1;33m)\u001b[0m\u001b[1;33m)\u001b[0m\u001b[1;33m\u001b[0m\u001b[1;33m\u001b[0m\u001b[0m\n\u001b[0m",
      "\u001b[1;32m~\\anaconda3\\lib\\site-packages\\matplotlib\\pyplot.py\u001b[0m in \u001b[0;36mplot\u001b[1;34m(scalex, scaley, data, *args, **kwargs)\u001b[0m\n\u001b[0;32m   2794\u001b[0m     return gca().plot(\n\u001b[0;32m   2795\u001b[0m         *args, scalex=scalex, scaley=scaley, **({\"data\": data} if data\n\u001b[1;32m-> 2796\u001b[1;33m         is not None else {}), **kwargs)\n\u001b[0m\u001b[0;32m   2797\u001b[0m \u001b[1;33m\u001b[0m\u001b[0m\n\u001b[0;32m   2798\u001b[0m \u001b[1;33m\u001b[0m\u001b[0m\n",
      "\u001b[1;32m~\\anaconda3\\lib\\site-packages\\matplotlib\\axes\\_axes.py\u001b[0m in \u001b[0;36mplot\u001b[1;34m(self, scalex, scaley, data, *args, **kwargs)\u001b[0m\n\u001b[0;32m   1663\u001b[0m         \"\"\"\n\u001b[0;32m   1664\u001b[0m         \u001b[0mkwargs\u001b[0m \u001b[1;33m=\u001b[0m \u001b[0mcbook\u001b[0m\u001b[1;33m.\u001b[0m\u001b[0mnormalize_kwargs\u001b[0m\u001b[1;33m(\u001b[0m\u001b[0mkwargs\u001b[0m\u001b[1;33m,\u001b[0m \u001b[0mmlines\u001b[0m\u001b[1;33m.\u001b[0m\u001b[0mLine2D\u001b[0m\u001b[1;33m.\u001b[0m\u001b[0m_alias_map\u001b[0m\u001b[1;33m)\u001b[0m\u001b[1;33m\u001b[0m\u001b[1;33m\u001b[0m\u001b[0m\n\u001b[1;32m-> 1665\u001b[1;33m         \u001b[0mlines\u001b[0m \u001b[1;33m=\u001b[0m \u001b[1;33m[\u001b[0m\u001b[1;33m*\u001b[0m\u001b[0mself\u001b[0m\u001b[1;33m.\u001b[0m\u001b[0m_get_lines\u001b[0m\u001b[1;33m(\u001b[0m\u001b[1;33m*\u001b[0m\u001b[0margs\u001b[0m\u001b[1;33m,\u001b[0m \u001b[0mdata\u001b[0m\u001b[1;33m=\u001b[0m\u001b[0mdata\u001b[0m\u001b[1;33m,\u001b[0m \u001b[1;33m**\u001b[0m\u001b[0mkwargs\u001b[0m\u001b[1;33m)\u001b[0m\u001b[1;33m]\u001b[0m\u001b[1;33m\u001b[0m\u001b[1;33m\u001b[0m\u001b[0m\n\u001b[0m\u001b[0;32m   1666\u001b[0m         \u001b[1;32mfor\u001b[0m \u001b[0mline\u001b[0m \u001b[1;32min\u001b[0m \u001b[0mlines\u001b[0m\u001b[1;33m:\u001b[0m\u001b[1;33m\u001b[0m\u001b[1;33m\u001b[0m\u001b[0m\n\u001b[0;32m   1667\u001b[0m             \u001b[0mself\u001b[0m\u001b[1;33m.\u001b[0m\u001b[0madd_line\u001b[0m\u001b[1;33m(\u001b[0m\u001b[0mline\u001b[0m\u001b[1;33m)\u001b[0m\u001b[1;33m\u001b[0m\u001b[1;33m\u001b[0m\u001b[0m\n",
      "\u001b[1;32m~\\anaconda3\\lib\\site-packages\\matplotlib\\axes\\_base.py\u001b[0m in \u001b[0;36m__call__\u001b[1;34m(self, *args, **kwargs)\u001b[0m\n\u001b[0;32m    223\u001b[0m                 \u001b[0mthis\u001b[0m \u001b[1;33m+=\u001b[0m \u001b[0margs\u001b[0m\u001b[1;33m[\u001b[0m\u001b[1;36m0\u001b[0m\u001b[1;33m]\u001b[0m\u001b[1;33m,\u001b[0m\u001b[1;33m\u001b[0m\u001b[1;33m\u001b[0m\u001b[0m\n\u001b[0;32m    224\u001b[0m                 \u001b[0margs\u001b[0m \u001b[1;33m=\u001b[0m \u001b[0margs\u001b[0m\u001b[1;33m[\u001b[0m\u001b[1;36m1\u001b[0m\u001b[1;33m:\u001b[0m\u001b[1;33m]\u001b[0m\u001b[1;33m\u001b[0m\u001b[1;33m\u001b[0m\u001b[0m\n\u001b[1;32m--> 225\u001b[1;33m             \u001b[1;32myield\u001b[0m \u001b[1;32mfrom\u001b[0m \u001b[0mself\u001b[0m\u001b[1;33m.\u001b[0m\u001b[0m_plot_args\u001b[0m\u001b[1;33m(\u001b[0m\u001b[0mthis\u001b[0m\u001b[1;33m,\u001b[0m \u001b[0mkwargs\u001b[0m\u001b[1;33m)\u001b[0m\u001b[1;33m\u001b[0m\u001b[1;33m\u001b[0m\u001b[0m\n\u001b[0m\u001b[0;32m    226\u001b[0m \u001b[1;33m\u001b[0m\u001b[0m\n\u001b[0;32m    227\u001b[0m     \u001b[1;32mdef\u001b[0m \u001b[0mget_next_color\u001b[0m\u001b[1;33m(\u001b[0m\u001b[0mself\u001b[0m\u001b[1;33m)\u001b[0m\u001b[1;33m:\u001b[0m\u001b[1;33m\u001b[0m\u001b[1;33m\u001b[0m\u001b[0m\n",
      "\u001b[1;32m~\\anaconda3\\lib\\site-packages\\matplotlib\\axes\\_base.py\u001b[0m in \u001b[0;36m_plot_args\u001b[1;34m(self, tup, kwargs)\u001b[0m\n\u001b[0;32m    389\u001b[0m             \u001b[0mx\u001b[0m\u001b[1;33m,\u001b[0m \u001b[0my\u001b[0m \u001b[1;33m=\u001b[0m \u001b[0mindex_of\u001b[0m\u001b[1;33m(\u001b[0m\u001b[0mtup\u001b[0m\u001b[1;33m[\u001b[0m\u001b[1;33m-\u001b[0m\u001b[1;36m1\u001b[0m\u001b[1;33m]\u001b[0m\u001b[1;33m)\u001b[0m\u001b[1;33m\u001b[0m\u001b[1;33m\u001b[0m\u001b[0m\n\u001b[0;32m    390\u001b[0m \u001b[1;33m\u001b[0m\u001b[0m\n\u001b[1;32m--> 391\u001b[1;33m         \u001b[0mx\u001b[0m\u001b[1;33m,\u001b[0m \u001b[0my\u001b[0m \u001b[1;33m=\u001b[0m \u001b[0mself\u001b[0m\u001b[1;33m.\u001b[0m\u001b[0m_xy_from_xy\u001b[0m\u001b[1;33m(\u001b[0m\u001b[0mx\u001b[0m\u001b[1;33m,\u001b[0m \u001b[0my\u001b[0m\u001b[1;33m)\u001b[0m\u001b[1;33m\u001b[0m\u001b[1;33m\u001b[0m\u001b[0m\n\u001b[0m\u001b[0;32m    392\u001b[0m \u001b[1;33m\u001b[0m\u001b[0m\n\u001b[0;32m    393\u001b[0m         \u001b[1;32mif\u001b[0m \u001b[0mself\u001b[0m\u001b[1;33m.\u001b[0m\u001b[0mcommand\u001b[0m \u001b[1;33m==\u001b[0m \u001b[1;34m'plot'\u001b[0m\u001b[1;33m:\u001b[0m\u001b[1;33m\u001b[0m\u001b[1;33m\u001b[0m\u001b[0m\n",
      "\u001b[1;32m~\\anaconda3\\lib\\site-packages\\matplotlib\\axes\\_base.py\u001b[0m in \u001b[0;36m_xy_from_xy\u001b[1;34m(self, x, y)\u001b[0m\n\u001b[0;32m    268\u001b[0m         \u001b[1;32mif\u001b[0m \u001b[0mx\u001b[0m\u001b[1;33m.\u001b[0m\u001b[0mshape\u001b[0m\u001b[1;33m[\u001b[0m\u001b[1;36m0\u001b[0m\u001b[1;33m]\u001b[0m \u001b[1;33m!=\u001b[0m \u001b[0my\u001b[0m\u001b[1;33m.\u001b[0m\u001b[0mshape\u001b[0m\u001b[1;33m[\u001b[0m\u001b[1;36m0\u001b[0m\u001b[1;33m]\u001b[0m\u001b[1;33m:\u001b[0m\u001b[1;33m\u001b[0m\u001b[1;33m\u001b[0m\u001b[0m\n\u001b[0;32m    269\u001b[0m             raise ValueError(\"x and y must have same first dimension, but \"\n\u001b[1;32m--> 270\u001b[1;33m                              \"have shapes {} and {}\".format(x.shape, y.shape))\n\u001b[0m\u001b[0;32m    271\u001b[0m         \u001b[1;32mif\u001b[0m \u001b[0mx\u001b[0m\u001b[1;33m.\u001b[0m\u001b[0mndim\u001b[0m \u001b[1;33m>\u001b[0m \u001b[1;36m2\u001b[0m \u001b[1;32mor\u001b[0m \u001b[0my\u001b[0m\u001b[1;33m.\u001b[0m\u001b[0mndim\u001b[0m \u001b[1;33m>\u001b[0m \u001b[1;36m2\u001b[0m\u001b[1;33m:\u001b[0m\u001b[1;33m\u001b[0m\u001b[1;33m\u001b[0m\u001b[0m\n\u001b[0;32m    272\u001b[0m             raise ValueError(\"x and y can be no greater than 2-D, but have \"\n",
      "\u001b[1;31mValueError\u001b[0m: x and y must have same first dimension, but have shapes (100,) and (30, 1)"
     ]
    },
    {
     "data": {
      "image/png": "[encoded data removed]",
      "text/plain": [
       "<Figure size 432x288 with 1 Axes>"
      ]
     },
     "metadata": {},
     "output_type": "display_data"
    }
   ],
   "source": [
    "plt.plot(day_new,scaler.inverse_transform(df1[len(df1)-100:]))\n",
    "plt.plot(day_pred,scaler.inverse_transform(lst_output))"
   ]
  },
  {
   "cell_type": "code",
   "execution_count": 108,
   "metadata": {
    "collapsed": true,
    "jupyter": {
     "outputs_hidden": true
    }
   },
   "outputs": [
    {
     "ename": "ValueError",
     "evalue": "x and y must have same first dimension, but have shapes (100,) and (30, 1)",
     "output_type": "error",
     "traceback": [
      "\u001b[1;31m---------------------------------------------------------------------------\u001b[0m",
      "\u001b[1;31mValueError\u001b[0m                                Traceback (most recent call last)",
      "\u001b[1;32m<ipython-input-108-c7eaf5907aac>\u001b[0m in \u001b[0;36m<module>\u001b[1;34m\u001b[0m\n\u001b[1;32m----> 1\u001b[1;33m \u001b[0mplt\u001b[0m\u001b[1;33m.\u001b[0m\u001b[0mplot\u001b[0m\u001b[1;33m(\u001b[0m\u001b[0mday_pred\u001b[0m\u001b[1;33m,\u001b[0m\u001b[0mscaler\u001b[0m\u001b[1;33m.\u001b[0m\u001b[0minverse_transform\u001b[0m\u001b[1;33m(\u001b[0m\u001b[0mlst_output\u001b[0m\u001b[1;33m)\u001b[0m\u001b[1;33m)\u001b[0m\u001b[1;33m\u001b[0m\u001b[1;33m\u001b[0m\u001b[0m\n\u001b[0m",
      "\u001b[1;32m~\\anaconda3\\lib\\site-packages\\matplotlib\\pyplot.py\u001b[0m in \u001b[0;36mplot\u001b[1;34m(scalex, scaley, data, *args, **kwargs)\u001b[0m\n\u001b[0;32m   2794\u001b[0m     return gca().plot(\n\u001b[0;32m   2795\u001b[0m         *args, scalex=scalex, scaley=scaley, **({\"data\": data} if data\n\u001b[1;32m-> 2796\u001b[1;33m         is not None else {}), **kwargs)\n\u001b[0m\u001b[0;32m   2797\u001b[0m \u001b[1;33m\u001b[0m\u001b[0m\n\u001b[0;32m   2798\u001b[0m \u001b[1;33m\u001b[0m\u001b[0m\n",
      "\u001b[1;32m~\\anaconda3\\lib\\site-packages\\matplotlib\\axes\\_axes.py\u001b[0m in \u001b[0;36mplot\u001b[1;34m(self, scalex, scaley, data, *args, **kwargs)\u001b[0m\n\u001b[0;32m   1663\u001b[0m         \"\"\"\n\u001b[0;32m   1664\u001b[0m         \u001b[0mkwargs\u001b[0m \u001b[1;33m=\u001b[0m \u001b[0mcbook\u001b[0m\u001b[1;33m.\u001b[0m\u001b[0mnormalize_kwargs\u001b[0m\u001b[1;33m(\u001b[0m\u001b[0mkwargs\u001b[0m\u001b[1;33m,\u001b[0m \u001b[0mmlines\u001b[0m\u001b[1;33m.\u001b[0m\u001b[0mLine2D\u001b[0m\u001b[1;33m.\u001b[0m\u001b[0m_alias_map\u001b[0m\u001b[1;33m)\u001b[0m\u001b[1;33m\u001b[0m\u001b[1;33m\u001b[0m\u001b[0m\n\u001b[1;32m-> 1665\u001b[1;33m         \u001b[0mlines\u001b[0m \u001b[1;33m=\u001b[0m \u001b[1;33m[\u001b[0m\u001b[1;33m*\u001b[0m\u001b[0mself\u001b[0m\u001b[1;33m.\u001b[0m\u001b[0m_get_lines\u001b[0m\u001b[1;33m(\u001b[0m\u001b[1;33m*\u001b[0m\u001b[0margs\u001b[0m\u001b[1;33m,\u001b[0m \u001b[0mdata\u001b[0m\u001b[1;33m=\u001b[0m\u001b[0mdata\u001b[0m\u001b[1;33m,\u001b[0m \u001b[1;33m**\u001b[0m\u001b[0mkwargs\u001b[0m\u001b[1;33m)\u001b[0m\u001b[1;33m]\u001b[0m\u001b[1;33m\u001b[0m\u001b[1;33m\u001b[0m\u001b[0m\n\u001b[0m\u001b[0;32m   1666\u001b[0m         \u001b[1;32mfor\u001b[0m \u001b[0mline\u001b[0m \u001b[1;32min\u001b[0m \u001b[0mlines\u001b[0m\u001b[1;33m:\u001b[0m\u001b[1;33m\u001b[0m\u001b[1;33m\u001b[0m\u001b[0m\n\u001b[0;32m   1667\u001b[0m             \u001b[0mself\u001b[0m\u001b[1;33m.\u001b[0m\u001b[0madd_line\u001b[0m\u001b[1;33m(\u001b[0m\u001b[0mline\u001b[0m\u001b[1;33m)\u001b[0m\u001b[1;33m\u001b[0m\u001b[1;33m\u001b[0m\u001b[0m\n",
      "\u001b[1;32m~\\anaconda3\\lib\\site-packages\\matplotlib\\axes\\_base.py\u001b[0m in \u001b[0;36m__call__\u001b[1;34m(self, *args, **kwargs)\u001b[0m\n\u001b[0;32m    223\u001b[0m                 \u001b[0mthis\u001b[0m \u001b[1;33m+=\u001b[0m \u001b[0margs\u001b[0m\u001b[1;33m[\u001b[0m\u001b[1;36m0\u001b[0m\u001b[1;33m]\u001b[0m\u001b[1;33m,\u001b[0m\u001b[1;33m\u001b[0m\u001b[1;33m\u001b[0m\u001b[0m\n\u001b[0;32m    224\u001b[0m                 \u001b[0margs\u001b[0m \u001b[1;33m=\u001b[0m \u001b[0margs\u001b[0m\u001b[1;33m[\u001b[0m\u001b[1;36m1\u001b[0m\u001b[1;33m:\u001b[0m\u001b[1;33m]\u001b[0m\u001b[1;33m\u001b[0m\u001b[1;33m\u001b[0m\u001b[0m\n\u001b[1;32m--> 225\u001b[1;33m             \u001b[1;32myield\u001b[0m \u001b[1;32mfrom\u001b[0m \u001b[0mself\u001b[0m\u001b[1;33m.\u001b[0m\u001b[0m_plot_args\u001b[0m\u001b[1;33m(\u001b[0m\u001b[0mthis\u001b[0m\u001b[1;33m,\u001b[0m \u001b[0mkwargs\u001b[0m\u001b[1;33m)\u001b[0m\u001b[1;33m\u001b[0m\u001b[1;33m\u001b[0m\u001b[0m\n\u001b[0m\u001b[0;32m    226\u001b[0m \u001b[1;33m\u001b[0m\u001b[0m\n\u001b[0;32m    227\u001b[0m     \u001b[1;32mdef\u001b[0m \u001b[0mget_next_color\u001b[0m\u001b[1;33m(\u001b[0m\u001b[0mself\u001b[0m\u001b[1;33m)\u001b[0m\u001b[1;33m:\u001b[0m\u001b[1;33m\u001b[0m\u001b[1;33m\u001b[0m\u001b[0m\n",
      "\u001b[1;32m~\\anaconda3\\lib\\site-packages\\matplotlib\\axes\\_base.py\u001b[0m in \u001b[0;36m_plot_args\u001b[1;34m(self, tup, kwargs)\u001b[0m\n\u001b[0;32m    389\u001b[0m             \u001b[0mx\u001b[0m\u001b[1;33m,\u001b[0m \u001b[0my\u001b[0m \u001b[1;33m=\u001b[0m \u001b[0mindex_of\u001b[0m\u001b[1;33m(\u001b[0m\u001b[0mtup\u001b[0m\u001b[1;33m[\u001b[0m\u001b[1;33m-\u001b[0m\u001b[1;36m1\u001b[0m\u001b[1;33m]\u001b[0m\u001b[1;33m)\u001b[0m\u001b[1;33m\u001b[0m\u001b[1;33m\u001b[0m\u001b[0m\n\u001b[0;32m    390\u001b[0m \u001b[1;33m\u001b[0m\u001b[0m\n\u001b[1;32m--> 391\u001b[1;33m         \u001b[0mx\u001b[0m\u001b[1;33m,\u001b[0m \u001b[0my\u001b[0m \u001b[1;33m=\u001b[0m \u001b[0mself\u001b[0m\u001b[1;33m.\u001b[0m\u001b[0m_xy_from_xy\u001b[0m\u001b[1;33m(\u001b[0m\u001b[0mx\u001b[0m\u001b[1;33m,\u001b[0m \u001b[0my\u001b[0m\u001b[1;33m)\u001b[0m\u001b[1;33m\u001b[0m\u001b[1;33m\u001b[0m\u001b[0m\n\u001b[0m\u001b[0;32m    392\u001b[0m \u001b[1;33m\u001b[0m\u001b[0m\n\u001b[0;32m    393\u001b[0m         \u001b[1;32mif\u001b[0m \u001b[0mself\u001b[0m\u001b[1;33m.\u001b[0m\u001b[0mcommand\u001b[0m \u001b[1;33m==\u001b[0m \u001b[1;34m'plot'\u001b[0m\u001b[1;33m:\u001b[0m\u001b[1;33m\u001b[0m\u001b[1;33m\u001b[0m\u001b[0m\n",
      "\u001b[1;32m~\\anaconda3\\lib\\site-packages\\matplotlib\\axes\\_base.py\u001b[0m in \u001b[0;36m_xy_from_xy\u001b[1;34m(self, x, y)\u001b[0m\n\u001b[0;32m    268\u001b[0m         \u001b[1;32mif\u001b[0m \u001b[0mx\u001b[0m\u001b[1;33m.\u001b[0m\u001b[0mshape\u001b[0m\u001b[1;33m[\u001b[0m\u001b[1;36m0\u001b[0m\u001b[1;33m]\u001b[0m \u001b[1;33m!=\u001b[0m \u001b[0my\u001b[0m\u001b[1;33m.\u001b[0m\u001b[0mshape\u001b[0m\u001b[1;33m[\u001b[0m\u001b[1;36m0\u001b[0m\u001b[1;33m]\u001b[0m\u001b[1;33m:\u001b[0m\u001b[1;33m\u001b[0m\u001b[1;33m\u001b[0m\u001b[0m\n\u001b[0;32m    269\u001b[0m             raise ValueError(\"x and y must have same first dimension, but \"\n\u001b[1;32m--> 270\u001b[1;33m                              \"have shapes {} and {}\".format(x.shape, y.shape))\n\u001b[0m\u001b[0;32m    271\u001b[0m         \u001b[1;32mif\u001b[0m \u001b[0mx\u001b[0m\u001b[1;33m.\u001b[0m\u001b[0mndim\u001b[0m \u001b[1;33m>\u001b[0m \u001b[1;36m2\u001b[0m \u001b[1;32mor\u001b[0m \u001b[0my\u001b[0m\u001b[1;33m.\u001b[0m\u001b[0mndim\u001b[0m \u001b[1;33m>\u001b[0m \u001b[1;36m2\u001b[0m\u001b[1;33m:\u001b[0m\u001b[1;33m\u001b[0m\u001b[1;33m\u001b[0m\u001b[0m\n\u001b[0;32m    272\u001b[0m             raise ValueError(\"x and y can be no greater than 2-D, but have \"\n",
      "\u001b[1;31mValueError\u001b[0m: x and y must have same first dimension, but have shapes (100,) and (30, 1)"
     ]
    },
    {
     "data": {
      "image/png": "[encoded data removed]",
      "text/plain": [
       "<Figure size 432x288 with 1 Axes>"
      ]
     },
     "metadata": {},
     "output_type": "display_data"
    }
   ],
   "source": [
    "plt.plot(day_pred,scaler.inverse_transform(lst_output))"
   ]
  },
  {
   "cell_type": "code",
   "execution_count": 113,
   "metadata": {
    "collapsed": true,
    "jupyter": {
     "outputs_hidden": true
    }
   },
   "outputs": [
    {
     "data": {
      "text/plain": [
       "array([[27639.56943989],\n",
       "       [24154.60980306],\n",
       "       [24233.63729533],\n",
       "       [25482.60142849],\n",
       "       [26145.89390838],\n",
       "       [25671.52800255],\n",
       "       [24448.45039086],\n",
       "       [23216.87225758],\n",
       "       [22450.0336918 ],\n",
       "       [22155.00433838],\n",
       "       [22083.87935323],\n",
       "       [21993.64211588],\n",
       "       [21767.42074414],\n",
       "       [21414.38882854],\n",
       "       [21009.49186776],\n",
       "       [20626.78439158],\n",
       "       [20302.77675762],\n",
       "       [20035.88192746],\n",
       "       [19805.24929103],\n",
       "       [19589.98102658],\n",
       "       [19379.17487017],\n",
       "       [19172.59476343],\n",
       "       [18976.09858505],\n",
       "       [18796.3322854 ],\n",
       "       [18637.37422637],\n",
       "       [18499.96163634],\n",
       "       [18382.40336911],\n",
       "       [18282.05436063],\n",
       "       [18196.45476188],\n",
       "       [18123.84079331]])"
      ]
     },
     "execution_count": 113,
     "metadata": {},
     "output_type": "execute_result"
    }
   ],
   "source": [
    "scaler.inverse_transform(lst_output)"
   ]
  },
  {
   "cell_type": "code",
   "execution_count": 114,
   "metadata": {
    "collapsed": true,
    "jupyter": {
     "outputs_hidden": true
    }
   },
   "outputs": [
    {
     "data": {
      "text/plain": [
       "array([[11384.18164062],\n",
       "       [11555.36328125],\n",
       "       [11425.89941406],\n",
       "       [11429.50683594],\n",
       "       [11495.34960938],\n",
       "       [11322.12304688],\n",
       "       [11358.1015625 ],\n",
       "       [11483.359375  ],\n",
       "       [11742.03710938],\n",
       "       [11916.33496094],\n",
       "       [12823.68945312],\n",
       "       [12965.89160156],\n",
       "       [12931.5390625 ],\n",
       "       [13108.0625    ],\n",
       "       [13031.17382812],\n",
       "       [13075.24804688],\n",
       "       [13654.21875   ],\n",
       "       [13271.28515625],\n",
       "       [13437.8828125 ],\n",
       "       [13546.52246094],\n",
       "       [13780.99511719],\n",
       "       [13737.109375  ],\n",
       "       [13550.48925781],\n",
       "       [13950.30078125],\n",
       "       [14133.70703125],\n",
       "       [15579.84863281],\n",
       "       [15565.88085938],\n",
       "       [14833.75390625],\n",
       "       [15479.56738281],\n",
       "       [15332.31542969],\n",
       "       [15290.90234375],\n",
       "       [15701.33984375],\n",
       "       [16276.34375   ],\n",
       "       [16317.80859375],\n",
       "       [16068.13867188],\n",
       "       [15955.58789062],\n",
       "       [16716.11132812],\n",
       "       [17645.40625   ],\n",
       "       [17804.00585938],\n",
       "       [17817.08984375],\n",
       "       [18621.31445312],\n",
       "       [18642.23242188],\n",
       "       [18370.00195312],\n",
       "       [18364.12109375],\n",
       "       [19107.46484375],\n",
       "       [18732.12109375],\n",
       "       [17150.62304688],\n",
       "       [17108.40234375],\n",
       "       [17717.4140625 ],\n",
       "       [18177.484375  ],\n",
       "       [19625.8359375 ],\n",
       "       [18802.99804688],\n",
       "       [19201.09179688],\n",
       "       [19445.3984375 ],\n",
       "       [18699.765625  ],\n",
       "       [19154.23046875],\n",
       "       [19345.12109375],\n",
       "       [19191.63085938],\n",
       "       [18321.14453125],\n",
       "       [18553.91601562],\n",
       "       [18264.9921875 ],\n",
       "       [18058.90429688],\n",
       "       [18803.65625   ],\n",
       "       [19142.3828125 ],\n",
       "       [19246.64453125],\n",
       "       [19417.07617188],\n",
       "       [21310.59765625],\n",
       "       [22805.16210938],\n",
       "       [23137.9609375 ],\n",
       "       [23869.83203125],\n",
       "       [23477.29492187],\n",
       "       [22803.08203125],\n",
       "       [23783.02929688],\n",
       "       [23241.34570312],\n",
       "       [23735.94921875],\n",
       "       [24664.79101562],\n",
       "       [26437.03710937],\n",
       "       [26272.29492188],\n",
       "       [27084.80859375],\n",
       "       [27362.4375    ],\n",
       "       [28840.953125  ],\n",
       "       [29001.72070312],\n",
       "       [29374.15234375],\n",
       "       [32127.26757812],\n",
       "       [32782.0234375 ],\n",
       "       [31971.9140625 ],\n",
       "       [33992.4296875 ],\n",
       "       [36824.36328125],\n",
       "       [39371.04296875],\n",
       "       [40797.609375  ],\n",
       "       [40254.546875  ],\n",
       "       [38356.44140625],\n",
       "       [35566.65625   ],\n",
       "       [33922.9609375 ],\n",
       "       [37316.359375  ],\n",
       "       [39187.328125  ],\n",
       "       [36825.3671875 ],\n",
       "       [36178.140625  ],\n",
       "       [35791.27734375],\n",
       "       [36916.94140625]])"
      ]
     },
     "execution_count": 114,
     "metadata": {},
     "output_type": "execute_result"
    }
   ],
   "source": [
    "scaler.inverse_transform(df1[len(df1)-100:])"
   ]
  },
  {
   "cell_type": "code",
   "execution_count": 121,
   "metadata": {},
   "outputs": [
    {
     "data": {
      "text/plain": [
       "[<matplotlib.lines.Line2D at 0x1c41d383408>]"
      ]
     },
     "execution_count": 121,
     "metadata": {},
     "output_type": "execute_result"
    },
    {
     "data": {
      "image/png": "[encoded data removed]",
      "text/plain": [
       "<Figure size 432x288 with 1 Axes>"
      ]
     },
     "metadata": {},
     "output_type": "display_data"
    }
   ],
   "source": [
    "df3=df1.tolist()\n",
    "df3.extend(lst_output)\n",
    "plt.plot(scaler.inverse_transform(df3[2256:]))"
   ]
  },
  {
   "cell_type": "code",
   "execution_count": 123,
   "metadata": {},
   "outputs": [
    {
     "data": {
      "text/plain": [
       "[<matplotlib.lines.Line2D at 0x1c41d435c08>]"
      ]
     },
     "execution_count": 123,
     "metadata": {},
     "output_type": "execute_result"
    },
    {
     "data": {
      "image/png": "[encoded data removed]",
      "text/plain": [
       "<Figure size 1152x576 with 1 Axes>"
      ]
     },
     "metadata": {},
     "output_type": "display_data"
    }
   ],
   "source": [
    "plt.figure(figsize=(16,8))\n",
    "plt.plot(scaler.inverse_transform(df3[2286:]))"
   ]
  },
  {
   "cell_type": "code",
   "execution_count": null,
   "metadata": {},
   "outputs": [],
   "source": []
  },
  {
   "cell_type": "code",
   "execution_count": null,
   "metadata": {},
   "outputs": [],
   "source": []
  }
 ],
 "metadata": {
  "kernelspec": {
   "display_name": "Python 3",
   "language": "python",
   "name": "python3"
  },
  "language_info": {
   "codemirror_mode": {
    "name": "ipython",
    "version": 3
   },
   "file_extension": ".py",
   "mimetype": "text/x-python",
   "name": "python",
   "nbconvert_exporter": "python",
   "pygments_lexer": "ipython3",
   "version": "3.7.6"
  }
 },
 "nbformat": 4,
 "nbformat_minor": 4
}
